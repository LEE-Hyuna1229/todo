{
  "nbformat": 4,
  "nbformat_minor": 0,
  "metadata": {
    "colab": {
      "provenance": [],
      "authorship_tag": "ABX9TyPyt/2PphMJ6FFt4N0B9K9Q",
      "include_colab_link": true
    },
    "kernelspec": {
      "name": "python3",
      "display_name": "Python 3"
    },
    "language_info": {
      "name": "python"
    }
  },
  "cells": [
    {
      "cell_type": "markdown",
      "metadata": {
        "id": "view-in-github",
        "colab_type": "text"
      },
      "source": [
        "<a href=\"https://colab.research.google.com/github/LEE-Hyuna1229/todo/blob/main/chapter17.ipynb\" target=\"_parent\"><img src=\"https://colab.research.google.com/assets/colab-badge.svg\" alt=\"Open In Colab\"/></a>"
      ]
    },
    {
      "cell_type": "code",
      "execution_count": 1,
      "metadata": {
        "colab": {
          "base_uri": "https://localhost:8080/"
        },
        "id": "ta1XHAye_VTy",
        "outputId": "4e6e2152-aa1b-41cc-fb11-f93d0ad8dd36"
      },
      "outputs": [
        {
          "output_type": "stream",
          "name": "stdout",
          "text": [
            "양파를 2개를 수확했습니다.\n",
            "대파를 수확했습니다.\n"
          ]
        }
      ],
      "source": [
        "def 양파():     #define의 정의\n",
        "    print(\"양파를 2개를 수확했습니다.\")\n",
        "def 대파():\n",
        "    print(\"대파를 수확했습니다.\")\n",
        "\n",
        "#함수 호출하기\n",
        "양파()\n",
        "대파()"
      ]
    },
    {
      "cell_type": "code",
      "source": [
        "def 수확():\n",
        "    print(\"올헤 비가 많이 왔습니다,\")  #들여쓰기 매우 중요함\n",
        "    print(\"농작물 수확이 현저히 좋았습니다.\")\n",
        "\n",
        "수확()"
      ],
      "metadata": {
        "colab": {
          "base_uri": "https://localhost:8080/"
        },
        "id": "dYiKC41UBJIl",
        "outputId": "2fa841fd-34ae-49f7-be4f-8881cd12a82a"
      },
      "execution_count": 4,
      "outputs": [
        {
          "output_type": "stream",
          "name": "stdout",
          "text": [
            "올헤 비가 많이 왔습니다,\n",
            "농작물 수확이 현저히 좋았습니다.\n"
          ]
        }
      ]
    },
    {
      "cell_type": "code",
      "source": [
        "def function(x,y):\n",
        "    z = x + y\n",
        "    return z\n",
        "\n",
        "# A 등급 10마리, B등급 9마리\n",
        "print(\"옥수수와 수박의 수확성 :\", function(10,2))"
      ],
      "metadata": {
        "colab": {
          "base_uri": "https://localhost:8080/"
        },
        "id": "pljcWl7qCHex",
        "outputId": "089c1960-e0f0-4b40-a42c-d648d315b112"
      },
      "execution_count": 5,
      "outputs": [
        {
          "output_type": "stream",
          "name": "stdout",
          "text": [
            "옥수수와 수박의 수확성 : 12\n"
          ]
        }
      ]
    },
    {
      "cell_type": "code",
      "source": [
        "def bread(a,b):\n",
        "    p = 2*a + b\n",
        "    return p\n",
        "\n",
        "print(\"오늘 먹은 빵의 개수:\", bread(2,3))"
      ],
      "metadata": {
        "colab": {
          "base_uri": "https://localhost:8080/"
        },
        "id": "fGvEBubGDuJm",
        "outputId": "3086bfcf-721b-484b-c7ca-aeb48f0d4bdf"
      },
      "execution_count": 6,
      "outputs": [
        {
          "output_type": "stream",
          "name": "stdout",
          "text": [
            "오늘 먹은 빵의 개수: 7\n"
          ]
        }
      ]
    },
    {
      "cell_type": "code",
      "source": [
        "def 수확():\n",
        "    print(\"고라니 2마리를 잡았습니다.\")\n",
        "수확()"
      ],
      "metadata": {
        "colab": {
          "base_uri": "https://localhost:8080/"
        },
        "id": "LBa2afbeEfWo",
        "outputId": "2b7c1039-d8a2-4b44-aac2-494d75d65e81"
      },
      "execution_count": 7,
      "outputs": [
        {
          "output_type": "stream",
          "name": "stdout",
          "text": [
            "고라니 2마리를 잡았습니다.\n"
          ]
        }
      ]
    },
    {
      "cell_type": "code",
      "source": [
        "def function(x,y):\n",
        "    z = x + y\n",
        "    print(z) #return이 없으면 반환을 하지 못한다.\n",
        "\n",
        "# A 등급 10마리, B등급 9마리\n",
        "print(\"옥수수와 수박의 수확성 :\", function(10,2))"
      ],
      "metadata": {
        "colab": {
          "base_uri": "https://localhost:8080/"
        },
        "id": "PwtNBwphEyix",
        "outputId": "80a3a807-ab80-4f22-fda3-586af05966fc"
      },
      "execution_count": 8,
      "outputs": [
        {
          "output_type": "stream",
          "name": "stdout",
          "text": [
            "12\n",
            "옥수수와 수박의 수확성 : None\n"
          ]
        }
      ]
    },
    {
      "cell_type": "code",
      "source": [
        "def 계산(가격, 개수):\n",
        "    return 가격*개수\n",
        "print(계산(1000,5),\"원입니다.\")"
      ],
      "metadata": {
        "colab": {
          "base_uri": "https://localhost:8080/"
        },
        "id": "Jwt2cs9XE-ji",
        "outputId": "794a0b61-4e6b-48b7-ff38-e13f10579ceb"
      },
      "execution_count": 9,
      "outputs": [
        {
          "output_type": "stream",
          "name": "stdout",
          "text": [
            "5000 원입니다.\n"
          ]
        }
      ]
    },
    {
      "cell_type": "code",
      "source": [
        "def 계산(a,b,c):\n",
        "    합계 = a*1000 + b*500 + c*100\n",
        "    return 합계\n",
        "\n",
        "print(계산(5,2,3),\"원입니다.\")"
      ],
      "metadata": {
        "colab": {
          "base_uri": "https://localhost:8080/"
        },
        "id": "w6Otjm0VFe-B",
        "outputId": "60faca82-33af-4652-96ec-0241ec8ae232"
      },
      "execution_count": 10,
      "outputs": [
        {
          "output_type": "stream",
          "name": "stdout",
          "text": [
            "6300 원입니다.\n"
          ]
        }
      ]
    },
    {
      "cell_type": "code",
      "source": [
        "a=100\n",
        "def f():\n",
        "    global a #바깥에 있는 변수(전역변수)를 가져다 쓰려면 이렇게 (지역변수로)불러내야함(혼동을 피하기 위함)\n",
        "    a = a + 1\n",
        "    return a\n",
        "f()"
      ],
      "metadata": {
        "colab": {
          "base_uri": "https://localhost:8080/"
        },
        "id": "tVWuCPY7GJzX",
        "outputId": "8825345f-5fd3-403c-b2e3-b2ed66c36bfa"
      },
      "execution_count": 11,
      "outputs": [
        {
          "output_type": "execute_result",
          "data": {
            "text/plain": [
              "101"
            ]
          },
          "metadata": {},
          "execution_count": 11
        }
      ]
    },
    {
      "cell_type": "code",
      "source": [
        "won = {'A등급':1000,'B등급':500,'C등급':100}  #dict타입에 한해서만 전역변수에 있는 값을 지역변수로 쓸수 있음.\n",
        "\n",
        "def 계산(a,b,c):\n",
        "    합계 = won['A등급']*a + won['B등급']*b  + won['C등급']*c\n",
        "    return 합계\n",
        "\n",
        "print(계산(5,2,3),\"원입니다.\")"
      ],
      "metadata": {
        "colab": {
          "base_uri": "https://localhost:8080/"
        },
        "id": "3d-vMKNuGnqx",
        "outputId": "1cd17f97-16c4-4385-83cf-781d1e4bb6d2"
      },
      "execution_count": 13,
      "outputs": [
        {
          "output_type": "stream",
          "name": "stdout",
          "text": [
            "6300 원입니다.\n"
          ]
        }
      ]
    },
    {
      "cell_type": "code",
      "source": [
        "won = {'치아바타':3500,'베이글':2000,'팥빵':1500}\n",
        "\n",
        "def 계산(a,b,c):\n",
        "    합계 = won['치아바타']*a + won['베이글']*b + won['팥빵']*c\n",
        "    return 합계\n",
        "\n",
        "print(계산(2,1,3),'원 입니다.')"
      ],
      "metadata": {
        "colab": {
          "base_uri": "https://localhost:8080/"
        },
        "id": "USgE-2ivHwFZ",
        "outputId": "26aed7ca-5d65-4a3f-e9b7-f6783f27589c"
      },
      "execution_count": 14,
      "outputs": [
        {
          "output_type": "stream",
          "name": "stdout",
          "text": [
            "13500 원 입니다.\n"
          ]
        }
      ]
    },
    {
      "cell_type": "code",
      "source": [
        "won = {'치아바타':3500,'베이글':2000,'팥빵':1500}\n",
        "\n",
        "def 계산(a,b,c):\n",
        "    합계 = won['치아바타']*a + won['베이글']*b + won['팥빵']*c\n",
        "    return 합계\n",
        "\n",
        "print(계산(2,1,3),'원 입니다.')"
      ],
      "metadata": {
        "colab": {
          "base_uri": "https://localhost:8080/"
        },
        "id": "dWRyWJM9Itey",
        "outputId": "2c794109-ee06-4a5b-866a-32f5ad85e7c3"
      },
      "execution_count": 16,
      "outputs": [
        {
          "output_type": "stream",
          "name": "stdout",
          "text": [
            "13500 원 입니다.\n"
          ]
        }
      ]
    },
    {
      "cell_type": "code",
      "source": [
        "# 삼수 : 변하지 않는 수\n",
        "PI = 3.14\n",
        "def circle(r,inputpi):\n",
        "    z = r*r*inputpi\n",
        "    return z\n",
        "\n",
        "result = circle(10, PI)   #아규먼트로 불러와서 쓰는건 문제없음. 이렇게 활용.\n",
        "print(result)"
      ],
      "metadata": {
        "colab": {
          "base_uri": "https://localhost:8080/"
        },
        "id": "FvIXhm3DJcYH",
        "outputId": "acf49924-9ffb-463f-8676-64aeda39450a"
      },
      "execution_count": 17,
      "outputs": [
        {
          "output_type": "stream",
          "name": "stdout",
          "text": [
            "314.0\n"
          ]
        }
      ]
    },
    {
      "cell_type": "code",
      "source": [
        "#원기둥 부피\n",
        "height = int(input(\"높이를 입력해 주세요:\"))\n",
        "def volume(r,h):\n",
        "    z = r*r*h\n",
        "    return z\n",
        "\n",
        "result = volume(5,height)\n",
        "print(result)"
      ],
      "metadata": {
        "colab": {
          "base_uri": "https://localhost:8080/"
        },
        "id": "XSn1k1S2Kqlo",
        "outputId": "36766102-19ec-449c-ac67-27f7f8eaea35"
      },
      "execution_count": 18,
      "outputs": [
        {
          "output_type": "stream",
          "name": "stdout",
          "text": [
            "높이를 입력해 주세요:34\n",
            "850\n"
          ]
        }
      ]
    },
    {
      "cell_type": "code",
      "source": [
        "sort1 = int(input(\"치아바타의 개수를 입력해 주세요: \"))\n",
        "sort2 = int(input(\"베이글의 개수를 입력해 주세요: \"))\n",
        "sort3 = int(input(\"팥빵의 개수를 입력해 주세요: \"))\n",
        "\n",
        "won = {'치아바타':3500,'베이글':2000,'팥빵':1500}\n",
        "\n",
        "def number(a,b,c):\n",
        "    z = won['치아바타']*a + won['베이글']*b + won['팥빵']*c\n",
        "    return z\n",
        "\n",
        "합계 = number(sort1,sort2,sort3)\n",
        "print(f'계산하실 금액은 {합계}원 입니다.')\n",
        "\n",
        "#def number(a,b,c):\n",
        "#    z = 2500*a + 2000*b +1500*c\n",
        "#    return z\n",
        "\n",
        "#합계 = number()\n"
      ],
      "metadata": {
        "colab": {
          "base_uri": "https://localhost:8080/"
        },
        "id": "ed8ThRH6MKwl",
        "outputId": "730d3006-f6c6-45d6-b067-3890826256c2"
      },
      "execution_count": 22,
      "outputs": [
        {
          "output_type": "stream",
          "name": "stdout",
          "text": [
            "치아바타의 개수를 입력해 주세요: 2\n",
            "베이글의 개수를 입력해 주세요: 1\n",
            "팥빵의 개수를 입력해 주세요: 3\n",
            "계산하실 금액은 13500원 입니다.\n"
          ]
        }
      ]
    },
    {
      "cell_type": "code",
      "source": [
        "A = 0\n",
        "B = 0\n",
        "C = 0\n",
        "유물 = 0\n",
        "\n",
        "def 감자():\n",
        "    global A\n",
        "    A += 1\n",
        "\n",
        "def 양파():\n",
        "    global A, B, C\n",
        "    A += 3\n",
        "    B += 3\n",
        "    C += 4\n",
        "\n",
        "def 옥수수():\n",
        "    global 유물\n",
        "    유물 += 1\n",
        "\n",
        "감자()\n",
        "양파()\n",
        "옥수수()\n",
        "\n",
        "합계 = A + B + C + 유물\n",
        "print(\"오늘 수확한 수확물:\", 합계)"
      ],
      "metadata": {
        "colab": {
          "base_uri": "https://localhost:8080/"
        },
        "id": "2BBcWkn2QsWd",
        "outputId": "71c5b65d-1368-48d0-fa2c-54443d0d2a4d"
      },
      "execution_count": 24,
      "outputs": [
        {
          "output_type": "stream",
          "name": "stdout",
          "text": [
            "오늘 수확한 수확물: 12\n"
          ]
        }
      ]
    },
    {
      "cell_type": "code",
      "source": [
        "# 지역변수와 전역변수 공부해보세요."
      ],
      "metadata": {
        "id": "IyHiP0cYS93R"
      },
      "execution_count": null,
      "outputs": []
    },
    {
      "cell_type": "code",
      "source": [
        "### 함수안의함수\n",
        "\n",
        "#def 함수이름1():\n",
        "#    코드\n",
        "#    def 함수이름2():\n",
        "#        코드\n",
        "\n",
        "def print_text() :\n",
        "    text = '콩콩팥팥 수확의 기쁨'\n",
        "    def txt():\n",
        "        print(text)\n",
        "    txt()\n",
        "print_text()\n"
      ],
      "metadata": {
        "colab": {
          "base_uri": "https://localhost:8080/"
        },
        "id": "ljJ10p9OTLRm",
        "outputId": "f29f8036-147c-462b-b716-204a3207fc97"
      },
      "execution_count": 25,
      "outputs": [
        {
          "output_type": "stream",
          "name": "stdout",
          "text": [
            "콩콩팥팥 수확의 기쁨\n"
          ]
        }
      ]
    },
    {
      "cell_type": "code",
      "source": [
        "def 수확철():\n",
        "    야채 = {'A등급':0,'B등급':0,'C등급':0 }\n",
        "\n",
        "    def 양파():\n",
        "        야채['A등급'] += 1\n",
        "\n",
        "    def 대파():\n",
        "        야채['A등급'] += 3\n",
        "        야채['B등급'] += 3\n",
        "        야채['C등급'] += 4\n",
        "\n",
        "    def 쪽파():\n",
        "        야채['금']=1\n",
        "\n",
        "    양파()\n",
        "    대파()\n",
        "    쪽파()\n",
        "\n",
        "    return 야채\n",
        "\n",
        "수확철()\n",
        "\n",
        "#sum(수확철().values())"
      ],
      "metadata": {
        "colab": {
          "base_uri": "https://localhost:8080/"
        },
        "id": "obuQpzzNUrAX",
        "outputId": "0ef62633-d4cd-446c-f017-658224e0b379"
      },
      "execution_count": 29,
      "outputs": [
        {
          "output_type": "execute_result",
          "data": {
            "text/plain": [
              "{'A등급': 4, 'B등급': 3, 'C등급': 4, '금': 1}"
            ]
          },
          "metadata": {},
          "execution_count": 29
        }
      ]
    },
    {
      "cell_type": "code",
      "source": [
        "#연산자의 우선순위\n",
        "\n",
        "#틈틈히 봐두기"
      ],
      "metadata": {
        "id": "7yVhXGL9WovH"
      },
      "execution_count": null,
      "outputs": []
    }
  ]
}