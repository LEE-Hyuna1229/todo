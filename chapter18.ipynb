{
  "nbformat": 4,
  "nbformat_minor": 0,
  "metadata": {
    "colab": {
      "provenance": [],
      "authorship_tag": "ABX9TyNfOddJ7t7iHYgezBBnNU90",
      "include_colab_link": true
    },
    "kernelspec": {
      "name": "python3",
      "display_name": "Python 3"
    },
    "language_info": {
      "name": "python"
    }
  },
  "cells": [
    {
      "cell_type": "markdown",
      "metadata": {
        "id": "view-in-github",
        "colab_type": "text"
      },
      "source": [
        "<a href=\"https://colab.research.google.com/github/LEE-Hyuna1229/todo/blob/main/chapter18.ipynb\" target=\"_parent\"><img src=\"https://colab.research.google.com/assets/colab-badge.svg\" alt=\"Open In Colab\"/></a>"
      ]
    },
    {
      "cell_type": "markdown",
      "source": [
        "# 클래스\n",
        "\n",
        "객체에 해당하는 것들\n",
        "- 게임 캐릭터(궁수, 성직자들)\n",
        "- 집, 나무 자동차\n",
        "- 네이버 홈페이지의 버튼들\n"
      ],
      "metadata": {
        "id": "iiyPZ0IpXq0w"
      }
    },
    {
      "cell_type": "code",
      "execution_count": null,
      "metadata": {
        "id": "572VcLTkXJoR"
      },
      "outputs": [],
      "source": [
        "# 클래스의 형태\n",
        "# self는 초기화시킨다는 의미\n",
        "\n",
        "class 클래스 이름:\n",
        "    def 매서드(self):\n",
        "        코드"
      ]
    },
    {
      "cell_type": "code",
      "source": [
        "class Person:\n",
        "    def hello(self):\n",
        "        print(\"수강생 여러분\")\n",
        "\n",
        "호출 = Person() #인스턴스 굉장히 많이 나오는 단어, 객체와 클래스와 연관된 단어\n",
        "호출.hello()   #.index(), .count() 다 메서드\n",
        "\n",
        "\n"
      ],
      "metadata": {
        "colab": {
          "base_uri": "https://localhost:8080/"
        },
        "id": "dB-YxiqWYOKp",
        "outputId": "a72428f7-1037-43cb-99c9-e52f94a35e97"
      },
      "execution_count": 1,
      "outputs": [
        {
          "output_type": "stream",
          "name": "stdout",
          "text": [
            "수강생 여러분\n"
          ]
        }
      ]
    },
    {
      "cell_type": "code",
      "source": [
        "class school:\n",
        "    def student(self):\n",
        "        print(\"학생 여러분\")\n",
        "\n",
        "공지 = school()\n",
        "공지.student()"
      ],
      "metadata": {
        "colab": {
          "base_uri": "https://localhost:8080/"
        },
        "id": "0NU9DvD3qHes",
        "outputId": "d355bce4-0238-44c4-883b-6c093bd2fc8c"
      },
      "execution_count": 6,
      "outputs": [
        {
          "output_type": "stream",
          "name": "stdout",
          "text": [
            "학생 여러분\n"
          ]
        }
      ]
    },
    {
      "cell_type": "code",
      "source": [
        "a = int(10) #우리가 사용하던것들 클래스였다. 그래서 a 도 인스턴스\n",
        "print(a)\n",
        "\n",
        "b = list(range(10)) # b 도 인스턴스\n",
        "print(b)\n",
        "\n",
        "# 인스턴스와 객체 무슨 차이?? 사실은 인스턴스와 객체는 같아요   클래스 에서 얘기할 땐 인스턴스, 객체 자체를 얘기할 땐 객체"
      ],
      "metadata": {
        "colab": {
          "base_uri": "https://localhost:8080/"
        },
        "id": "h2tH0DLNan12",
        "outputId": "85d267b0-abec-433a-80cb-b30425cd080f"
      },
      "execution_count": 3,
      "outputs": [
        {
          "output_type": "execute_result",
          "data": {
            "text/plain": [
              "[0, 1, 2, 3, 4, 5, 6, 7, 8, 9]"
            ]
          },
          "metadata": {},
          "execution_count": 3
        }
      ]
    },
    {
      "cell_type": "code",
      "source": [
        "class 클래스이름:\n",
        "    def __init__(self):\n",
        "        self.속성 = 값"
      ],
      "metadata": {
        "id": "V0PMHee6qrwS"
      },
      "execution_count": null,
      "outputs": []
    },
    {
      "cell_type": "code",
      "source": [
        "class Person:\n",
        "    def __init__(self):\n",
        "        self.hello = \"안녕하세요\"\n",
        "\n",
        "    def greeting(self):\n",
        "        print(self.hello)\n",
        "\n",
        "호출 = Person()\n",
        "호출.greeting()"
      ],
      "metadata": {
        "colab": {
          "base_uri": "https://localhost:8080/"
        },
        "id": "FN01daMArOSw",
        "outputId": "e08063d6-d522-4b5a-d728-fd95787373bc"
      },
      "execution_count": 10,
      "outputs": [
        {
          "output_type": "stream",
          "name": "stdout",
          "text": [
            "안녕하세요\n"
          ]
        }
      ]
    },
    {
      "cell_type": "code",
      "source": [
        "# 매직매서드\n",
        "print(dir(int))\n",
        "\n"
      ],
      "metadata": {
        "id": "rFSrtUZesXI9"
      },
      "execution_count": null,
      "outputs": []
    },
    {
      "cell_type": "markdown",
      "source": [
        "그런데 도대체 self는 뭘까요?   \n",
        "self는 인스턴스 자기 자신을 의미합니다.  \n",
        "여기서 __init__ 의 매개변수 self에 들어가는 값을 Person()이라고 할 수 있음."
      ],
      "metadata": {
        "id": "9woqPsDVsn1i"
      }
    },
    {
      "cell_type": "code",
      "source": [
        "#클래스를 이용해서 값을 받아볼 것임.\n",
        "\n",
        "class 클래스이름:\n",
        "    def __init__(self,매개변수1,매개변수2):\n",
        "        self.속성1 = 매개변수1\n",
        "        self.속성2 = 매개변수2"
      ],
      "metadata": {
        "id": "WQayemH2tkY0"
      },
      "execution_count": null,
      "outputs": []
    },
    {
      "cell_type": "code",
      "source": [
        "class Person:\n",
        "    def __init__(self,name,age,address): #self는 기본 속성\n",
        "        self.hello = '안녕하세요'\n",
        "        self.name = name\n",
        "        self.age = age\n",
        "        self.address = address\n",
        "    def greeting(self):\n",
        "        print('{0} 저는 {1}입니다.' .format(self.hello, self.name))\n",
        "\n",
        "maria = Person('마리아', 20, '서울시 서초구 반포동')\n",
        "maria.greeting()  #안녕하세요. 저는 마리아 입니다.\n",
        "\n",
        "print(\"이름:\", maria.name)\n",
        "print(\"나이:\", maria.age)\n",
        "print(\"주소:\", maria.address)"
      ],
      "metadata": {
        "colab": {
          "base_uri": "https://localhost:8080/"
        },
        "id": "gSkZrhITvYBS",
        "outputId": "a5c76492-c93f-4980-f177-659da812e189"
      },
      "execution_count": 14,
      "outputs": [
        {
          "output_type": "stream",
          "name": "stdout",
          "text": [
            "안녕하세요 저는 마리아입니다.\n",
            "이름: 마리아\n",
            "나이: 20\n",
            "주소: 서울시 서초구 반포동\n"
          ]
        }
      ]
    },
    {
      "cell_type": "code",
      "source": [
        "class Person:\n",
        "    def __init__(self,school,number,best):\n",
        "        self.hello = \"어서오세요\"\n",
        "        self.school = school\n",
        "        self.number = number\n",
        "        self.best = best\n",
        "    def greeting(self):\n",
        "        print('{0},{1} 홈페이지 입니다.'.format(self.hello,self.school))\n",
        "\n",
        "#maria = Person('서울대학교' ,20001232, '라면학과')\n",
        "maria = Person(input(\"학교를 적어주세요.\") ,input(\"학번을 적어주세요.\"), input(\"학과를 적어주세요.\"))\n",
        "maria.greeting()\n",
        "\n",
        "print(\"학교:\",maria.school)\n",
        "print(\"학번:\",maria.number)\n",
        "print(\"학과:\",maria.best)"
      ],
      "metadata": {
        "colab": {
          "base_uri": "https://localhost:8080/"
        },
        "id": "aEFniQOw2z3q",
        "outputId": "ec9dd4a4-cf46-41d8-bccf-3bdaea0f9f30"
      },
      "execution_count": 28,
      "outputs": [
        {
          "output_type": "stream",
          "name": "stdout",
          "text": [
            "학교를 적어주세요.서울대학교\n",
            "학번을 적어주세요.20001232\n",
            "학과를 적어주세요.라면학과\n",
            "어서오세요,서울대학교 홈페이지 입니다.\n",
            "학교: 서울대학교\n",
            "학번: 20001232\n",
            "학과: 라면학과\n"
          ]
        }
      ]
    },
    {
      "cell_type": "markdown",
      "source": [
        "## 클래스의 상속 -물려받기+다른기능추가\n",
        "\n",
        "기반 클래스(base class) : 기능을 물려주는 클래스\n",
        "파생 클래스(derived class) : 기능을 물려받는 클래스\n"
      ],
      "metadata": {
        "id": "LACJPSEoyDyc"
      }
    },
    {
      "cell_type": "code",
      "source": [
        "class Car(object):\n",
        "    maxspeed = 300\n",
        "    maxpeople = 5\n",
        "    def move(self, x):\n",
        "        print('스피드로 달리고 있습니다.')\n",
        "    def stop(self):\n",
        "        print(\"멈췄습니다.\")\n",
        "\n",
        "class HybridCar(Car): #Car(object)를 상속받은 것임.\n",
        "    battery = 1000\n",
        "    batteryKM = 300\n",
        "\n",
        "k5 = HybridCar()   #k5는 인스턴스\n",
        "k5.maxspeed   #HybridCar() 에는 maxspeed가 없는데 값이 나옴: 상속받았기 때문\n",
        "\n",
        "print(dir(k5)) #상속받아서 기능 물려받은 것 볼 수 있음."
      ],
      "metadata": {
        "colab": {
          "base_uri": "https://localhost:8080/"
        },
        "id": "LC33KKC_xw8H",
        "outputId": "c6093bd5-137a-4b17-d413-1243c6c16ae8"
      },
      "execution_count": 16,
      "outputs": [
        {
          "output_type": "stream",
          "name": "stdout",
          "text": [
            "['__class__', '__delattr__', '__dict__', '__dir__', '__doc__', '__eq__', '__format__', '__ge__', '__getattribute__', '__gt__', '__hash__', '__init__', '__init_subclass__', '__le__', '__lt__', '__module__', '__ne__', '__new__', '__reduce__', '__reduce_ex__', '__repr__', '__setattr__', '__sizeof__', '__str__', '__subclasshook__', '__weakref__', 'battery', 'batteryKM', 'maxpeople', 'maxspeed', 'move', 'stop']\n"
          ]
        }
      ]
    },
    {
      "cell_type": "code",
      "source": [
        "class Car(object):\n",
        "    maxspeed = 300\n",
        "    maxpeople = 5\n",
        "    def move(self, x):\n",
        "        print('스피드로 달리고 있습니다.')\n",
        "    def stop(self):\n",
        "        print(\"멈췄습니다.\")\n",
        "\n",
        "class HybridCar(Car):\n",
        "    battery = 1000\n",
        "    batteryKM = 300\n",
        "\n",
        "class ElectricCar(HybridCar):\n",
        "    battery = 1000\n",
        "    batteryKM = 300\n",
        "\n",
        "electricCar5 = ElectricCar()\n",
        "electricCar5.maxspeed\n",
        "#메서드 오버라이딩 이라는 기능\n",
        "electricCar5.battery\n",
        "electricCar5.move(10)\n",
        "# 마지막에 나온 move만 인정해줌.\n",
        "\n",
        "\n",
        "#print(dir(k5)) #상속받아서 기능 물려받은 것 볼 수 있음."
      ],
      "metadata": {
        "colab": {
          "base_uri": "https://localhost:8080/"
        },
        "id": "ai5NYI1_0gS5",
        "outputId": "609055cb-11db-48c3-9194-9a8e9d40d0db"
      },
      "execution_count": 20,
      "outputs": [
        {
          "output_type": "execute_result",
          "data": {
            "text/plain": [
              "300"
            ]
          },
          "metadata": {},
          "execution_count": 20
        }
      ]
    },
    {
      "cell_type": "markdown",
      "source": [
        "클래스, 함수 ,코딩테스트 를 주제로 스터디 만들면 좋음.  \n",
        "\"전문가를 위한 파이썬 책 추천\""
      ],
      "metadata": {
        "id": "uQsJBwHu9Q-y"
      }
    }
  ]
}