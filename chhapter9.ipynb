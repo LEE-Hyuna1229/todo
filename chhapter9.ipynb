{
  "nbformat": 4,
  "nbformat_minor": 0,
  "metadata": {
    "colab": {
      "provenance": [],
      "toc_visible": true,
      "authorship_tag": "ABX9TyPnsw30IB6ncWfQYDCSK2Fu",
      "include_colab_link": true
    },
    "kernelspec": {
      "name": "python3",
      "display_name": "Python 3"
    },
    "language_info": {
      "name": "python"
    }
  },
  "cells": [
    {
      "cell_type": "markdown",
      "metadata": {
        "id": "view-in-github",
        "colab_type": "text"
      },
      "source": [
        "<a href=\"https://colab.research.google.com/github/LEE-Hyuna1229/todo/blob/main/chhapter9.ipynb\" target=\"_parent\"><img src=\"https://colab.research.google.com/assets/colab-badge.svg\" alt=\"Open In Colab\"/></a>"
      ]
    },
    {
      "cell_type": "code",
      "execution_count": null,
      "metadata": {
        "colab": {
          "base_uri": "https://localhost:8080/"
        },
        "id": "6-AtjMbJtzhd",
        "outputId": "6a079d86-49b1-4afa-f1bd-eea7b450e3f9"
      },
      "outputs": [
        {
          "output_type": "execute_result",
          "data": {
            "text/plain": [
              "0"
            ]
          },
          "metadata": {},
          "execution_count": 3
        }
      ],
      "source": [
        "\"까먹으신건가요?\".count(\"까\")\n",
        "\"까먹으신건가요?\".index(\"까\")"
      ]
    },
    {
      "cell_type": "code",
      "source": [
        "숫자, 문자 = 5 , '5'\n",
        "print(숫자, 문자)"
      ],
      "metadata": {
        "colab": {
          "base_uri": "https://localhost:8080/"
        },
        "id": "jc2M9LKUv-gz",
        "outputId": "4cb97bcb-7bfb-4776-88ba-76e491e636cd"
      },
      "execution_count": null,
      "outputs": [
        {
          "output_type": "stream",
          "name": "stdout",
          "text": [
            "5 5\n"
          ]
        }
      ]
    },
    {
      "cell_type": "code",
      "source": [
        "인사 = input()\n",
        "print(인사+ '밥은 먹었니?')"
      ],
      "metadata": {
        "colab": {
          "base_uri": "https://localhost:8080/"
        },
        "id": "YHUwdEafwpwa",
        "outputId": "f94520de-5830-449c-e832-3c3792fe96c2"
      },
      "execution_count": null,
      "outputs": [
        {
          "output_type": "stream",
          "name": "stdout",
          "text": [
            "안녕?\n",
            "안녕?밥은 먹었니?\n"
          ]
        }
      ]
    },
    {
      "cell_type": "code",
      "source": [
        "인사=input(\"(최고 냉미녀)안녕.\")\n",
        "print(인사+\"빵이 먹고 싶어\")"
      ],
      "metadata": {
        "colab": {
          "base_uri": "https://localhost:8080/"
        },
        "id": "04GkQlIDxhDU",
        "outputId": "1e7ed9c1-da82-479c-808f-caefb7e62ab9"
      },
      "execution_count": null,
      "outputs": [
        {
          "output_type": "stream",
          "name": "stdout",
          "text": [
            "(최고 냉미녀)안녕. 안녕. 배고프다.\n",
            " 안녕. 배고프다.빵이 먹고 싶어\n"
          ]
        }
      ]
    },
    {
      "cell_type": "code",
      "source": [
        "#형변환을 시켜줘야 함. int() float() str() bool()\n",
        "\n",
        "정수 = input()\n",
        "정수 = int(정수)\n",
        "print(정수, type(정수))\n",
        "\n",
        "\n",
        "실수 = input()\n",
        "실수 = float(실수)\n",
        "print(실수, type(실수))"
      ],
      "metadata": {
        "colab": {
          "base_uri": "https://localhost:8080/"
        },
        "id": "LpKpjUnyy0IN",
        "outputId": "a0407ab6-de2b-4d7f-ccab-20d55dd21e0c"
      },
      "execution_count": null,
      "outputs": [
        {
          "output_type": "stream",
          "name": "stdout",
          "text": [
            "5\n",
            "5 <class 'int'>\n",
            "5.0\n",
            "5.0 <class 'float'>\n"
          ]
        }
      ]
    },
    {
      "cell_type": "code",
      "source": [
        "정수 = int(input())\n",
        "print(정수, type(정수))\n",
        "\n",
        "실수 = float(input())\n",
        "print(실수, type(실수))"
      ],
      "metadata": {
        "colab": {
          "base_uri": "https://localhost:8080/",
          "height": 305
        },
        "id": "GG854g511zmA",
        "outputId": "4f669bce-b835-40ef-aa2f-c01e8d4600a5"
      },
      "execution_count": null,
      "outputs": [
        {
          "name": "stdout",
          "output_type": "stream",
          "text": [
            "2.0\n"
          ]
        },
        {
          "output_type": "error",
          "ename": "ValueError",
          "evalue": "ignored",
          "traceback": [
            "\u001b[0;31m---------------------------------------------------------------------------\u001b[0m",
            "\u001b[0;31mValueError\u001b[0m                                Traceback (most recent call last)",
            "\u001b[0;32m<ipython-input-25-378284896f85>\u001b[0m in \u001b[0;36m<cell line: 1>\u001b[0;34m()\u001b[0m\n\u001b[0;32m----> 1\u001b[0;31m \u001b[0m정수\u001b[0m \u001b[0;34m=\u001b[0m \u001b[0mint\u001b[0m\u001b[0;34m(\u001b[0m\u001b[0minput\u001b[0m\u001b[0;34m(\u001b[0m\u001b[0;34m)\u001b[0m\u001b[0;34m)\u001b[0m\u001b[0;34m\u001b[0m\u001b[0;34m\u001b[0m\u001b[0m\n\u001b[0m\u001b[1;32m      2\u001b[0m \u001b[0mprint\u001b[0m\u001b[0;34m(\u001b[0m\u001b[0m정수\u001b[0m\u001b[0;34m,\u001b[0m \u001b[0mtype\u001b[0m\u001b[0;34m(\u001b[0m\u001b[0m정수\u001b[0m\u001b[0;34m)\u001b[0m\u001b[0;34m)\u001b[0m\u001b[0;34m\u001b[0m\u001b[0;34m\u001b[0m\u001b[0m\n\u001b[1;32m      3\u001b[0m \u001b[0;34m\u001b[0m\u001b[0m\n\u001b[1;32m      4\u001b[0m \u001b[0m실수\u001b[0m \u001b[0;34m=\u001b[0m \u001b[0mfloat\u001b[0m\u001b[0;34m(\u001b[0m\u001b[0minput\u001b[0m\u001b[0;34m(\u001b[0m\u001b[0;34m)\u001b[0m\u001b[0;34m)\u001b[0m\u001b[0;34m\u001b[0m\u001b[0;34m\u001b[0m\u001b[0m\n\u001b[1;32m      5\u001b[0m \u001b[0mprint\u001b[0m\u001b[0;34m(\u001b[0m\u001b[0m실수\u001b[0m\u001b[0;34m,\u001b[0m \u001b[0mtype\u001b[0m\u001b[0;34m(\u001b[0m\u001b[0m실수\u001b[0m\u001b[0;34m)\u001b[0m\u001b[0;34m)\u001b[0m\u001b[0;34m\u001b[0m\u001b[0;34m\u001b[0m\u001b[0m\n",
            "\u001b[0;31mValueError\u001b[0m: invalid literal for int() with base 10: '2.0'"
          ]
        }
      ]
    },
    {
      "cell_type": "code",
      "source": [
        "int(5.0)"
      ],
      "metadata": {
        "colab": {
          "base_uri": "https://localhost:8080/"
        },
        "id": "AnWSri7_1YxU",
        "outputId": "8235bb7b-8a73-434b-ce2b-26711f45aeeb"
      },
      "execution_count": null,
      "outputs": [
        {
          "output_type": "execute_result",
          "data": {
            "text/plain": [
              "5"
            ]
          },
          "metadata": {},
          "execution_count": 26
        }
      ]
    },
    {
      "cell_type": "code",
      "source": [
        "넌센스, 정답 = input().split(\".\")\n",
        "print(f'넌센스 퀴즈:{넌센스}')\n",
        "print(f'정답:{정답}')"
      ],
      "metadata": {
        "colab": {
          "base_uri": "https://localhost:8080/"
        },
        "id": "xUOPiDrc7HyY",
        "outputId": "dcaa2828-aa37-421b-c75a-1e5e264bcca5"
      },
      "execution_count": null,
      "outputs": [
        {
          "output_type": "stream",
          "name": "stdout",
          "text": [
            "축구선수가 웃으면?. 킥킥킥\n",
            "넌센스 퀴즈:축구선수가 웃으면?\n",
            "정답: 킥킥킥\n"
          ]
        }
      ]
    },
    {
      "cell_type": "code",
      "source": [
        "번호1, 번호2, 번호3, 번호4 = input().split(\",\")\n",
        "번호1 = int(번호1)\n",
        "번호2 = int(번호2)\n",
        "번호3 = int(번호3)\n",
        "번호4 = int(번호4)\n",
        "print(type(번호1),번호2,번호3,번호4)\n",
        "#int로 형변환 됨"
      ],
      "metadata": {
        "colab": {
          "base_uri": "https://localhost:8080/"
        },
        "id": "hX9rqfpg9GS7",
        "outputId": "9777f889-fddc-4908-cb7a-22ea73280aef"
      },
      "execution_count": null,
      "outputs": [
        {
          "output_type": "stream",
          "name": "stdout",
          "text": [
            "11, 22, 33, 44\n",
            "<class 'int'> 22 33 44\n"
          ]
        }
      ]
    },
    {
      "cell_type": "code",
      "source": [
        "#map() 증요한 함수\n",
        "번호1, 번호2, 번호3, 번호4 = map(int, input().split(\",\"))\n",
        "print(type(번호1),번호2,번호3,번호4)"
      ],
      "metadata": {
        "colab": {
          "base_uri": "https://localhost:8080/"
        },
        "id": "D4rgbPAD9FVI",
        "outputId": "e6bfdbb4-c1b8-41d6-f886-00a3e7b80bfe"
      },
      "execution_count": null,
      "outputs": [
        {
          "output_type": "stream",
          "name": "stdout",
          "text": [
            "11,22,33,44\n",
            "<class 'int'> 22 33 44\n"
          ]
        }
      ]
    },
    {
      "cell_type": "code",
      "source": [
        "#레거시\n",
        "#리펙토링\n",
        "print(\"초코칩\", \"민트\", \"샷추가\", \"휘핑크림\", sep='/')\n",
        "print(\"초코칩\", \"민트\", \"샷추가\", \"휘핑크림\", sep='\\n')"
      ],
      "metadata": {
        "colab": {
          "base_uri": "https://localhost:8080/"
        },
        "id": "Qa1dlRR1ERN0",
        "outputId": "16dee1e9-40c4-4324-bd81-cee9a9cf21b6"
      },
      "execution_count": null,
      "outputs": [
        {
          "output_type": "stream",
          "name": "stdout",
          "text": [
            "초코칩/민트/샷추가/휘핑크림\n",
            "초코칩\n",
            "민트\n",
            "샷추가\n",
            "휘핑크림\n"
          ]
        }
      ]
    },
    {
      "cell_type": "code",
      "source": [
        "print(\"초코칩\", \"민트\", \"샷추가\", \"휘핑크림\", end=',')\n",
        "print(\"초코칩\", \"민트\", \"샷추가\", \"휘핑크림\", end=',')\n",
        "print(\"초코칩\", \"민트\", \"샷추가\", \"휘핑크림\", end=',')"
      ],
      "metadata": {
        "colab": {
          "base_uri": "https://localhost:8080/"
        },
        "id": "zG4gjT8FI-wz",
        "outputId": "15bede5b-65e8-4e77-aefb-90d1947c0fe3"
      },
      "execution_count": null,
      "outputs": [
        {
          "output_type": "stream",
          "name": "stdout",
          "text": [
            "초코칩 민트 샷추가 휘핑크림,초코칩 민트 샷추가 휘핑크림,초코칩 민트 샷추가 휘핑크림,"
          ]
        }
      ]
    },
    {
      "cell_type": "code",
      "source": [],
      "metadata": {
        "id": "jw5_WBOAVdBr"
      },
      "execution_count": null,
      "outputs": []
    }
  ]
}