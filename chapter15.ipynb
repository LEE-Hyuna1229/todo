{
  "nbformat": 4,
  "nbformat_minor": 0,
  "metadata": {
    "colab": {
      "provenance": [],
      "authorship_tag": "ABX9TyOwxPczO8fX96epA4yc/msr",
      "include_colab_link": true
    },
    "kernelspec": {
      "name": "python3",
      "display_name": "Python 3"
    },
    "language_info": {
      "name": "python"
    }
  },
  "cells": [
    {
      "cell_type": "markdown",
      "metadata": {
        "id": "view-in-github",
        "colab_type": "text"
      },
      "source": [
        "<a href=\"https://colab.research.google.com/github/LEE-Hyuna1229/todo/blob/main/%08chapter15.ipynb\" target=\"_parent\"><img src=\"https://colab.research.google.com/assets/colab-badge.svg\" alt=\"Open In Colab\"/></a>"
      ]
    },
    {
      "cell_type": "markdown",
      "source": [
        "### for문 목차\n",
        "1. for문(반복문)이란?\n",
        "2. for문 문법과 주의사항(클론, 들여쓰기)\n",
        "3. for문 만들어 보기\n",
        "4. for문 작동원리\n",
        "5. for문애서 range()함수 활용하기\n",
        "6. for문에서 시퀀스 객체로 반복하기\n",
        "7. 예제로 for문 익혀보기"
      ],
      "metadata": {
        "id": "JnSLtDFxNq3I"
      }
    },
    {
      "cell_type": "markdown",
      "source": [
        "## for 문이란?\n",
        "* 프로그램 안에서 반복되는 작업을 간단하게 처리하기 위해서 사용하는 기능"
      ],
      "metadata": {
        "id": "dfvg8RR6OWvN"
      }
    },
    {
      "cell_type": "markdown",
      "source": [
        "##2. for문 문법과 주의사항(클론, 들여쓰기)\n"
      ],
      "metadata": {
        "id": "M_jKAP5uOlfZ"
      }
    },
    {
      "cell_type": "code",
      "execution_count": null,
      "metadata": {
        "id": "PC5QfNvbNkgP"
      },
      "outputs": [],
      "source": [
        "#2. for문으로 만들어보기\n",
        "# for 변수 in range(횟수):\n",
        "# print()"
      ]
    },
    {
      "cell_type": "code",
      "source": [
        "#3. for문 만들어보기\n",
        "\n",
        "for i in range(5):\n",
        "    print('반복이 되네 신기해!!')"
      ],
      "metadata": {
        "colab": {
          "base_uri": "https://localhost:8080/"
        },
        "id": "WkAWsbtjPzQs",
        "outputId": "cdeebf45-9782-4a1c-8436-34437e31b6f8"
      },
      "execution_count": 2,
      "outputs": [
        {
          "output_type": "stream",
          "name": "stdout",
          "text": [
            "반복이 되네 신기해!!\n",
            "반복이 되네 신기해!!\n",
            "반복이 되네 신기해!!\n",
            "반복이 되네 신기해!!\n",
            "반복이 되네 신기해!!\n"
          ]
        }
      ]
    },
    {
      "cell_type": "code",
      "source": [
        "#4. for문의 흐름 확인해보면 좋겠죠?\n",
        "\n",
        "for i in range(5): #range에서 시작 range(5)이 범위 0부터 4까지 만들고 그 인덱스 값을 i라는 변수에 넣는다.\n",
        "    print('반복이 되네 신기해',i)  # 그 다음 for 문으로 넘어간다"
      ],
      "metadata": {
        "colab": {
          "base_uri": "https://localhost:8080/"
        },
        "id": "Hsa6XSbXQQzv",
        "outputId": "7a634a38-af42-4107-a737-b61e4a5eeadd"
      },
      "execution_count": 3,
      "outputs": [
        {
          "output_type": "stream",
          "name": "stdout",
          "text": [
            "반복이 되네 신기해 0\n",
            "반복이 되네 신기해 1\n",
            "반복이 되네 신기해 2\n",
            "반복이 되네 신기해 3\n",
            "반복이 되네 신기해 4\n"
          ]
        }
      ]
    },
    {
      "cell_type": "code",
      "source": [
        "#5. for문에서 range() 함수 활용하기\n",
        "\n",
        "#for i in range(4,10): #슬라이싱과 비슷함. 마지막꺼의 하나 높은 수로 10적은것.\n",
        "#    print(i)\n",
        "\n",
        "#for i in range(4,10,2): #끝에는 4인덱스 시작으로 2씩 증가된 수\n",
        "#    print(i)\n",
        "\n",
        "#for i in range(10,4,-1): #이것도 됨!!\n",
        "#    print(i)\n",
        "\n",
        "for i in reversed(range(10)): #reversed도 가능\n",
        "    print(i)"
      ],
      "metadata": {
        "colab": {
          "base_uri": "https://localhost:8080/"
        },
        "id": "1OobMlVqg1G0",
        "outputId": "d84e2fa8-d074-44a3-a33c-1aed4b6a76dc"
      },
      "execution_count": 7,
      "outputs": [
        {
          "output_type": "stream",
          "name": "stdout",
          "text": [
            "9\n",
            "8\n",
            "7\n",
            "6\n",
            "5\n",
            "4\n",
            "3\n",
            "2\n",
            "1\n",
            "0\n"
          ]
        }
      ]
    },
    {
      "cell_type": "code",
      "source": [
        "#6. for문에서 시퀀스 객체로 반복하기\n",
        "\n",
        "과일 = [\"두리안\",\"망고\",\"바나나\",\"멜론\"]\n",
        "\n",
        "for i in 과일:\n",
        "    print(i)\n",
        "\n",
        "for i in \"닥스훈트\":\n",
        "    print(i, end=\"\")\n",
        "\n",
        "for i in reversed(\"닥스훈트\"):\n",
        "    print(i, end='')"
      ],
      "metadata": {
        "colab": {
          "base_uri": "https://localhost:8080/"
        },
        "id": "6gqF3JariiBf",
        "outputId": "0647633a-4f73-46de-ac88-8108f90ed35c"
      },
      "execution_count": 12,
      "outputs": [
        {
          "output_type": "stream",
          "name": "stdout",
          "text": [
            "두리안\n",
            "망고\n",
            "바나나\n",
            "멜론\n",
            "닥스훈트트훈스닥"
          ]
        }
      ]
    },
    {
      "cell_type": "code",
      "source": [
        "#7. 예제로 for문 익혀보기\n",
        "\n",
        "#문제 : 절대값 정수가 담긴 정수 변수와 그 정수의 부호를 차례로 담은 부호 변수가 있다.\n",
        "# 두 변수를 이용해 실제 정수의 합을 구해주세요 (True : 양수 , False : 음수)\n",
        "\n",
        "정수 = [10,5,8]\n",
        "부호 = [True, False, True]\n",
        "#리스트에 있으니까 가져오는 방법과 조건을 이용해서 풀어보기\n",
        "\n",
        "합=0\n",
        "\n",
        "for k, v in zip(부호, 정수):\n",
        "    if k:                   # k가 True이면 합하라는 뜻.\n",
        "        합 += v\n",
        "    else:\n",
        "        합 -= v\n",
        "\n",
        "print(f'총 합은 {합}입니다.')"
      ],
      "metadata": {
        "colab": {
          "base_uri": "https://localhost:8080/"
        },
        "id": "Lstov4dMkAaw",
        "outputId": "e3a4b15f-aa59-4c3f-b4a4-405bda2d5353"
      },
      "execution_count": 21,
      "outputs": [
        {
          "output_type": "stream",
          "name": "stdout",
          "text": [
            "총 합은 13입니다.\n"
          ]
        }
      ]
    }
  ]
}