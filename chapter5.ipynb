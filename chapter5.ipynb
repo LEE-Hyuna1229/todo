{
  "nbformat": 4,
  "nbformat_minor": 0,
  "metadata": {
    "colab": {
      "provenance": [],
      "authorship_tag": "ABX9TyM2uS71KkC35PsajdXUdxJZ",
      "include_colab_link": true
    },
    "kernelspec": {
      "name": "python3",
      "display_name": "Python 3"
    },
    "language_info": {
      "name": "python"
    }
  },
  "cells": [
    {
      "cell_type": "markdown",
      "metadata": {
        "id": "view-in-github",
        "colab_type": "text"
      },
      "source": [
        "<a href=\"https://colab.research.google.com/github/LEE-Hyuna1229/todo/blob/main/%08chapter5.ipynb\" target=\"_parent\"><img src=\"https://colab.research.google.com/assets/colab-badge.svg\" alt=\"Open In Colab\"/></a>"
      ]
    },
    {
      "cell_type": "code",
      "execution_count": null,
      "metadata": {
        "colab": {
          "base_uri": "https://localhost:8080/"
        },
        "id": "_ZiqqjjjNMYj",
        "outputId": "18b4eaef-0775-44db-d55f-d7b9816f790e"
      },
      "outputs": [
        {
          "output_type": "stream",
          "name": "stdout",
          "text": [
            "크다 작다\n"
          ]
        }
      ],
      "source": [
        "#대소문자를 구분하는 변수\n",
        "BIG=\"크다\"\n",
        "big=\"작다\"\n",
        "print(BIG,big)"
      ]
    },
    {
      "cell_type": "code",
      "source": [
        "BIG='크다'\n",
        "big='작다'\n",
        "print(BIG,big)\n",
        "print('크다','작다')"
      ],
      "metadata": {
        "colab": {
          "base_uri": "https://localhost:8080/"
        },
        "id": "uc-hZ8jaOVjR",
        "outputId": "b9411e33-d7a8-45e1-a968-9be5fd3249d4"
      },
      "execution_count": null,
      "outputs": [
        {
          "output_type": "stream",
          "name": "stdout",
          "text": [
            "크다 작다\n",
            "크다 작다\n"
          ]
        }
      ]
    },
    {
      "cell_type": "code",
      "source": [
        "me=\"파머\"\n",
        "print(f'{me}만 빼고 강아지 다 있어')"
      ],
      "metadata": {
        "colab": {
          "base_uri": "https://localhost:8080/"
        },
        "id": "zVMFdTEbOtIq",
        "outputId": "c91d1853-8dda-45e1-b652-796b1cc14e68"
      },
      "execution_count": null,
      "outputs": [
        {
          "output_type": "stream",
          "name": "stdout",
          "text": [
            "파머만 빼고 강아지 다 있어\n"
          ]
        }
      ]
    },
    {
      "cell_type": "code",
      "source": [
        "print(f'{me}만 빼고 강아지 다 있어')"
      ],
      "metadata": {
        "colab": {
          "base_uri": "https://localhost:8080/"
        },
        "id": "_6h9pq2ZVrjH",
        "outputId": "e54b22f1-19a7-421a-b116-398f3ff2a234"
      },
      "execution_count": null,
      "outputs": [
        {
          "output_type": "stream",
          "name": "stdout",
          "text": [
            "파머만 빼고 강아지 다 있어\n"
          ]
        }
      ]
    },
    {
      "cell_type": "code",
      "source": [
        "bang__p=\"붕어빵(팥)\"\n",
        "bang__s=\"붕어빵(슈크림)\"\n",
        "bang__j=\"붕어빵(잡채)\"\n",
        "bang__p=2000\n",
        "bang__s=2500\n",
        "bang__j=3000\n",
        "cost=(bang__s*2)+(bang__j*3)\n",
        "print(주문이 완료되었습니다. bang__s 2개 bang__j 3개 총 5개 결제금액은 f'{cost} 입니다.')"
      ],
      "metadata": {
        "colab": {
          "base_uri": "https://localhost:8080/"
        },
        "id": "bf2nZFbdYdCz",
        "outputId": "10d797fc-6000-4fc3-e3ff-1b2369a343d4"
      },
      "execution_count": null,
      "outputs": [
        {
          "output_type": "stream",
          "name": "stdout",
          "text": [
            "주문이 완료되었습니다.bang__s 2개 bang__j 3개 총 5개 결제금액은 14000입니다.\n"
          ]
        }
      ]
    },
    {
      "cell_type": "code",
      "source": [
        "#변수값 입력\n",
        "bang__p=\"붕어빵(팥)\"\n",
        "bang__s=\"붕어빵(슈크림)\"\n",
        "bang__j=\"붕어빵(잡채)\"\n",
        "bang__p__sell,bang__s__sell,bang__j__sell=2000,2500,3000\n",
        "order_s,order_j=2,3\n",
        "\n",
        "#붕어빵 계산값\n",
        "order_s__pay,order_j__pay=(bang__s__sell*2),(bang__j__sell*3)\n",
        "\n",
        "#총 개수\n",
        "order_total=order_s+order_j\n",
        "\n",
        "#총 가격\n",
        "total_pay=order_s__pay+order_j__pay\n",
        "\n",
        "#출력\n",
        "print(f'주문이 완료되었습니다. {bang__s}{order_s}개, {bang__j}{order_j}개 총{order_total}개 결제금액은 {total_pay}입니다.')"
      ],
      "metadata": {
        "colab": {
          "base_uri": "https://localhost:8080/"
        },
        "id": "DMyO-VhqOkCk",
        "outputId": "9fd3ad25-ffd7-4943-86ae-90200877da3e"
      },
      "execution_count": null,
      "outputs": [
        {
          "output_type": "stream",
          "name": "stdout",
          "text": [
            "주문이 완료되었습니다. 붕어빵(슈크림)2개, 붕어빵(잡채)3개 총5개 결제금액은 14000입니다.\n"
          ]
        }
      ]
    },
    {
      "cell_type": "code",
      "source": [
        "box_num=\"하나\"\n",
        "box_num+=\"둘\"\n",
        "print(box_num)"
      ],
      "metadata": {
        "colab": {
          "base_uri": "https://localhost:8080/"
        },
        "id": "BaLt-ZZpBNjl",
        "outputId": "a78edd9a-0316-4b26-bfc4-782d76f949a4"
      },
      "execution_count": null,
      "outputs": [
        {
          "output_type": "stream",
          "name": "stdout",
          "text": [
            "하나둘\n"
          ]
        }
      ]
    },
    {
      "cell_type": "code",
      "source": [
        "box_num=1\n",
        "box_num+=132\n",
        "print(box_num)\n",
        "type(box_num)"
      ],
      "metadata": {
        "colab": {
          "base_uri": "https://localhost:8080/"
        },
        "id": "X8JOBCtPBi2u",
        "outputId": "65a5eb7e-21b3-4a68-d77d-2382ace5f2bb"
      },
      "execution_count": null,
      "outputs": [
        {
          "output_type": "stream",
          "name": "stdout",
          "text": [
            "133\n"
          ]
        },
        {
          "output_type": "execute_result",
          "data": {
            "text/plain": [
              "int"
            ]
          },
          "metadata": {},
          "execution_count": 5
        }
      ]
    },
    {
      "cell_type": "code",
      "source": [
        "type(1)\n",
        "type(10.0)"
      ],
      "metadata": {
        "colab": {
          "base_uri": "https://localhost:8080/"
        },
        "id": "oi2zrGcrCWkE",
        "outputId": "b13fad06-a53b-4a4e-cc78-5d8c0757d883"
      },
      "execution_count": null,
      "outputs": [
        {
          "output_type": "execute_result",
          "data": {
            "text/plain": [
              "float"
            ]
          },
          "metadata": {},
          "execution_count": 8
        }
      ]
    },
    {
      "cell_type": "code",
      "source": [
        "int(4/2)"
      ],
      "metadata": {
        "colab": {
          "base_uri": "https://localhost:8080/"
        },
        "id": "0XfQ25QSCaCh",
        "outputId": "29af9074-bea1-4f48-8c45-34affc18d09e"
      },
      "execution_count": null,
      "outputs": [
        {
          "output_type": "execute_result",
          "data": {
            "text/plain": [
              "2"
            ]
          },
          "metadata": {},
          "execution_count": 9
        }
      ]
    },
    {
      "cell_type": "code",
      "source": [
        "float(4/2)"
      ],
      "metadata": {
        "colab": {
          "base_uri": "https://localhost:8080/"
        },
        "id": "51v_pzSSEgiG",
        "outputId": "8e372a2a-50ed-43a4-f933-615980068572"
      },
      "execution_count": null,
      "outputs": [
        {
          "output_type": "execute_result",
          "data": {
            "text/plain": [
              "2.0"
            ]
          },
          "metadata": {},
          "execution_count": 11
        }
      ]
    },
    {
      "cell_type": "code",
      "source": [
        "print(int(4.9))"
      ],
      "metadata": {
        "colab": {
          "base_uri": "https://localhost:8080/"
        },
        "id": "hj6kLqFdBvy1",
        "outputId": "589c237f-368d-44a4-c361-0af92a3836ed"
      },
      "execution_count": null,
      "outputs": [
        {
          "output_type": "stream",
          "name": "stdout",
          "text": [
            "4\n"
          ]
        }
      ]
    },
    {
      "cell_type": "code",
      "source": [
        "나이=10\n",
        "type(나이)\n",
        "print(dir(나이))"
      ],
      "metadata": {
        "colab": {
          "base_uri": "https://localhost:8080/"
        },
        "id": "YBv-EFfHEpYT",
        "outputId": "233e42e4-037a-4537-f93d-3d74c30f63d7"
      },
      "execution_count": null,
      "outputs": [
        {
          "output_type": "stream",
          "name": "stdout",
          "text": [
            "['__abs__', '__add__', '__and__', '__bool__', '__ceil__', '__class__', '__delattr__', '__dir__', '__divmod__', '__doc__', '__eq__', '__float__', '__floor__', '__floordiv__', '__format__', '__ge__', '__getattribute__', '__getnewargs__', '__gt__', '__hash__', '__index__', '__init__', '__init_subclass__', '__int__', '__invert__', '__le__', '__lshift__', '__lt__', '__mod__', '__mul__', '__ne__', '__neg__', '__new__', '__or__', '__pos__', '__pow__', '__radd__', '__rand__', '__rdivmod__', '__reduce__', '__reduce_ex__', '__repr__', '__rfloordiv__', '__rlshift__', '__rmod__', '__rmul__', '__ror__', '__round__', '__rpow__', '__rrshift__', '__rshift__', '__rsub__', '__rtruediv__', '__rxor__', '__setattr__', '__sizeof__', '__str__', '__sub__', '__subclasshook__', '__truediv__', '__trunc__', '__xor__', 'as_integer_ratio', 'bit_count', 'bit_length', 'conjugate', 'denominator', 'from_bytes', 'imag', 'numerator', 'real', 'to_bytes']\n"
          ]
        }
      ]
    },
    {
      "cell_type": "code",
      "source": [
        "print(나이.bit_length())\n",
        "#나이는 10을 입력했는데 4가 나옴\n",
        "print(bin(나이))\n",
        "#bin은 비트단위(0,1)를 알려주는 것, 따라서 bit_length는 4자리로 알려준것"
      ],
      "metadata": {
        "colab": {
          "base_uri": "https://localhost:8080/"
        },
        "id": "ukPcVCWnGhuQ",
        "outputId": "c0c193d6-9fcd-489c-e663-ea48b077ea6c"
      },
      "execution_count": null,
      "outputs": [
        {
          "output_type": "stream",
          "name": "stdout",
          "text": [
            "4\n",
            "0b1010\n"
          ]
        }
      ]
    }
  ]
}