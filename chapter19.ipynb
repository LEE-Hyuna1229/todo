{
  "nbformat": 4,
  "nbformat_minor": 0,
  "metadata": {
    "colab": {
      "provenance": [],
      "mount_file_id": "10acE8RAdrEbr_cAJVhYI0DvEUQxJIlEm",
      "authorship_tag": "ABX9TyM9dQur4BHRYWLusYQOaFte",
      "include_colab_link": true
    },
    "kernelspec": {
      "name": "python3",
      "display_name": "Python 3"
    },
    "language_info": {
      "name": "python"
    }
  },
  "cells": [
    {
      "cell_type": "markdown",
      "metadata": {
        "id": "view-in-github",
        "colab_type": "text"
      },
      "source": [
        "<a href=\"https://colab.research.google.com/github/LEE-Hyuna1229/todo/blob/main/chapter19.ipynb\" target=\"_parent\"><img src=\"https://colab.research.google.com/assets/colab-badge.svg\" alt=\"Open In Colab\"/></a>"
      ]
    },
    {
      "cell_type": "markdown",
      "source": [
        "## 파일 입출력\n",
        "\n",
        "# 웹 -> 크롤링 -> 데이터베이스 -> 1차 클렌징 -> 출력 후 담당자에 전달합니다. -> 2차클렌징 -> 유용한 데이터셋 -> csv데이터베이스 입력 -> 인공지능 학습\n",
        "\n"
      ],
      "metadata": {
        "id": "E8-50_2NaonQ"
      }
    },
    {
      "cell_type": "code",
      "execution_count": 2,
      "metadata": {
        "colab": {
          "base_uri": "https://localhost:8080/",
          "height": 36
        },
        "id": "OomL_LYIZqv_",
        "outputId": "9e0b11ce-0597-4a5a-d64e-949f4c56b873"
      },
      "outputs": [
        {
          "output_type": "execute_result",
          "data": {
            "text/plain": [
              "'/content'"
            ],
            "application/vnd.google.colaboratory.intrinsic+json": {
              "type": "string"
            }
          },
          "metadata": {},
          "execution_count": 2
        }
      ],
      "source": [
        "pwd  #지금 위치를 반환해주는 명령어"
      ]
    },
    {
      "cell_type": "code",
      "source": [
        "cd /content/drive/MyDrive/colab notebooks/python #해당 경로로 이동함."
      ],
      "metadata": {
        "colab": {
          "base_uri": "https://localhost:8080/"
        },
        "id": "YMRaUl2_cHfi",
        "outputId": "172922f0-8162-4acb-acfa-f1726b970490"
      },
      "execution_count": 3,
      "outputs": [
        {
          "output_type": "stream",
          "name": "stdout",
          "text": [
            "/content/drive/MyDrive/colab notebooks/python\n"
          ]
        }
      ]
    },
    {
      "cell_type": "markdown",
      "source": [
        "r - 읽기\n",
        "w - 쓰기(주의 : 덮어쓰기)\n",
        "a - 추가\n"
      ],
      "metadata": {
        "id": "l8UmX18yce9m"
      }
    },
    {
      "cell_type": "code",
      "source": [
        "#파일 만들고 내용 적기\n",
        "\n",
        "f = open('test.txt','w') #파일을 열고, 모드를 정해줘야함 이건 쓰기모드\n",
        "f.write('개발자 여러분') #write라는 메소드 이용한것.\n",
        "f.close()"
      ],
      "metadata": {
        "id": "VPXHB4MRctLj"
      },
      "execution_count": 4,
      "outputs": []
    },
    {
      "cell_type": "code",
      "source": [
        "f = open('test.txt','w')\n",
        "f.write('''개발자 여러분\n",
        "개발자 여러분\n",
        "개발자 여러분\n",
        "개발자 여러분\n",
        "개발자 여러분''') # 따옴표 3개 쓰면 안에 여러줄 입력 가능\n",
        "f.close()"
      ],
      "metadata": {
        "id": "05rzzlpodkdH"
      },
      "execution_count": 6,
      "outputs": []
    },
    {
      "cell_type": "code",
      "source": [
        "f = open('test.txt','w')\n",
        "메세지 = ''\n",
        "\n",
        "for i in range(10):\n",
        "    메세지 += '개발자 여러분\\n' #for문 활용\n",
        "f.write(메세지)\n",
        "f.close()"
      ],
      "metadata": {
        "id": "KL4ym0AkeJz0"
      },
      "execution_count": 8,
      "outputs": []
    },
    {
      "cell_type": "code",
      "source": [
        "# 저장된 문서 읽기\n",
        "f = open('test.txt','r')\n",
        "s = f.read() #읽어온 것 저장\n",
        "print(s)  #읽어온 문서 확인\n",
        "f.close() #닫기"
      ],
      "metadata": {
        "colab": {
          "base_uri": "https://localhost:8080/"
        },
        "id": "4-NlibFye6gg",
        "outputId": "df03ddc1-06ac-42d2-f75a-643df462b217"
      },
      "execution_count": 9,
      "outputs": [
        {
          "output_type": "stream",
          "name": "stdout",
          "text": [
            "개발자 여러분\n",
            "개발자 여러분\n",
            "개발자 여러분\n",
            "개발자 여러분\n",
            "개발자 여러분\n",
            "개발자 여러분\n",
            "개발자 여러분\n",
            "개발자 여러분\n",
            "개발자 여러분\n",
            "개발자 여러분\n",
            "\n"
          ]
        }
      ]
    },
    {
      "cell_type": "code",
      "source": [
        "f = open('test.txt','r')\n",
        "line = f.readline() #한줄만 읽어오기\n",
        "print(line)\n",
        "print(type(line)) #문자형임.\n",
        "f.close()\n"
      ],
      "metadata": {
        "colab": {
          "base_uri": "https://localhost:8080/"
        },
        "id": "FaVddWmMfa7O",
        "outputId": "527e288e-3289-4dbb-fac3-67f7c49015b9"
      },
      "execution_count": 11,
      "outputs": [
        {
          "output_type": "stream",
          "name": "stdout",
          "text": [
            "개발자 여러분\n",
            "\n",
            "<class 'str'>\n"
          ]
        }
      ]
    },
    {
      "cell_type": "code",
      "source": [
        "f = open('test.txt','r')\n",
        "while line:\n",
        "    line = f.readline()\n",
        "    print(line) #한줄씩 읽어내리다가 없으면 (none은 False) while문을 빠져나옴.\n",
        "f.close()"
      ],
      "metadata": {
        "colab": {
          "base_uri": "https://localhost:8080/"
        },
        "id": "CQURiBnpf6gn",
        "outputId": "ea01192e-dc0d-477a-a02b-aae440c4a0a4"
      },
      "execution_count": 14,
      "outputs": [
        {
          "output_type": "stream",
          "name": "stdout",
          "text": [
            "개발자 여러분\n",
            "\n",
            "개발자 여러분\n",
            "\n",
            "개발자 여러분\n",
            "\n",
            "개발자 여러분\n",
            "\n",
            "개발자 여러분\n",
            "\n",
            "개발자 여러분\n",
            "\n",
            "개발자 여러분\n",
            "\n",
            "개발자 여러분\n",
            "\n",
            "개발자 여러분\n",
            "\n",
            "개발자 여러분\n",
            "\n",
            "\n"
          ]
        }
      ]
    },
    {
      "cell_type": "code",
      "source": [
        "# 추가!!\n",
        "f = open('test.txt', 'a')\n",
        "f.write(\"힘내자\")\n",
        "f.close() #덮어쓰기로 안없어지고 추가됨."
      ],
      "metadata": {
        "id": "1ZWusZ96gaBL"
      },
      "execution_count": 15,
      "outputs": []
    },
    {
      "cell_type": "code",
      "source": [
        "with open('test.txt','a') as f:\n",
        "    f.write(\"화이팅 !!!!\")\n",
        "    f.close()\n",
        "\n"
      ],
      "metadata": {
        "id": "-7f4H6TthNLK"
      },
      "execution_count": 21,
      "outputs": []
    },
    {
      "cell_type": "code",
      "source": [
        "#list 형태 넣는 방법 1)\n",
        "list = [10, 20, 30]\n",
        "\n",
        "with open('test.txt','a') as f:\n",
        "    f.write(str(list)) #문자형만 가능함."
      ],
      "metadata": {
        "id": "3S4wLiEshqBV"
      },
      "execution_count": 19,
      "outputs": []
    },
    {
      "cell_type": "code",
      "source": [
        "list = [10, 20, 30]\n",
        "with open('test.txt','w') as f:\n",
        "    f.write('let test ='+ str(list))"
      ],
      "metadata": {
        "id": "qZc1tXabiXbd"
      },
      "execution_count": 22,
      "outputs": []
    },
    {
      "cell_type": "code",
      "source": [
        "# 방법 2)\n",
        "list = [\"10\", \"20\", \"30\"]\n",
        "with open('test.txt','w') as f:\n",
        "    f.writelines(list) #하나하나 다 인식해서 int로 인식.\n"
      ],
      "metadata": {
        "id": "4L52_0Kii_7O"
      },
      "execution_count": 24,
      "outputs": []
    },
    {
      "cell_type": "code",
      "source": [
        "#csv\n",
        "list = ['10', '20', '30']\n",
        "\n",
        "with open('test3.csv','w') as f:\n",
        "    f.write(','.join(list)) #','로 값을 구분."
      ],
      "metadata": {
        "id": "KhrurPppj4aI"
      },
      "execution_count": 26,
      "outputs": []
    }
  ]
}