{
  "nbformat": 4,
  "nbformat_minor": 0,
  "metadata": {
    "colab": {
      "provenance": [],
      "authorship_tag": "ABX9TyMsaXLTTyMC5HssYLh5MZlX",
      "include_colab_link": true
    },
    "kernelspec": {
      "name": "python3",
      "display_name": "Python 3"
    },
    "language_info": {
      "name": "python"
    }
  },
  "cells": [
    {
      "cell_type": "markdown",
      "metadata": {
        "id": "view-in-github",
        "colab_type": "text"
      },
      "source": [
        "<a href=\"https://colab.research.google.com/github/LEE-Hyuna1229/todo/blob/main/chapter4.ipynb\" target=\"_parent\"><img src=\"https://colab.research.google.com/assets/colab-badge.svg\" alt=\"Open In Colab\"/></a>"
      ]
    },
    {
      "cell_type": "markdown",
      "source": [
        "##사칙연산\n",
        "더하기\n",
        "더하기"
      ],
      "metadata": {
        "id": "IO7C96licOm2"
      }
    },
    {
      "cell_type": "code",
      "execution_count": null,
      "metadata": {
        "colab": {
          "base_uri": "https://localhost:8080/"
        },
        "id": "hS4YotdQcFG8",
        "outputId": "0e552c81-7734-4a91-8de9-ee1787f05faf"
      },
      "outputs": [
        {
          "output_type": "stream",
          "name": "stdout",
          "text": [
            "5\n"
          ]
        }
      ],
      "source": [
        "#더하기\n",
        "print(3+2)"
      ]
    },
    {
      "cell_type": "code",
      "source": [
        "#빼기\n",
        "print(3-1)"
      ],
      "metadata": {
        "colab": {
          "base_uri": "https://localhost:8080/"
        },
        "id": "r2Ajtt98f4GA",
        "outputId": "32f533f5-0c85-4eef-ea2b-dad08e9e0e50"
      },
      "execution_count": null,
      "outputs": [
        {
          "output_type": "stream",
          "name": "stdout",
          "text": [
            "2\n"
          ]
        }
      ]
    },
    {
      "cell_type": "code",
      "source": [
        "#곱하기\n",
        "print(3*2)"
      ],
      "metadata": {
        "colab": {
          "base_uri": "https://localhost:8080/"
        },
        "id": "iTNKBFmJf8QT",
        "outputId": "2ab21ab4-ef56-4f11-cbfd-a2ada8e6f017"
      },
      "execution_count": null,
      "outputs": [
        {
          "output_type": "stream",
          "name": "stdout",
          "text": [
            "6\n"
          ]
        }
      ]
    },
    {
      "cell_type": "code",
      "source": [
        "3*2"
      ],
      "metadata": {
        "colab": {
          "base_uri": "https://localhost:8080/"
        },
        "id": "h1Yz0k0KgFXh",
        "outputId": "bf4afc08-115d-4dbe-a41f-e7d4a1d3a788"
      },
      "execution_count": null,
      "outputs": [
        {
          "output_type": "execute_result",
          "data": {
            "text/plain": [
              "6"
            ]
          },
          "metadata": {},
          "execution_count": 4
        }
      ]
    },
    {
      "cell_type": "code",
      "source": [
        "#나누기\n",
        "print(7/2)\n",
        "print(7//2)\n",
        "print(7%2)"
      ],
      "metadata": {
        "colab": {
          "base_uri": "https://localhost:8080/"
        },
        "id": "qfrUaA9wgIIv",
        "outputId": "9177f7e5-57a5-40d2-e597-0e63adc62773"
      },
      "execution_count": null,
      "outputs": [
        {
          "output_type": "stream",
          "name": "stdout",
          "text": [
            "3.5\n",
            "3\n",
            "1\n"
          ]
        }
      ]
    },
    {
      "cell_type": "code",
      "source": [
        "print(divmod(3,2))\n",
        "print(divmod(13,2))\n",
        "print(divmod(7,2))\n",
        "print(divmod(4,2))\n",
        "print(divmod(38,9))"
      ],
      "metadata": {
        "colab": {
          "base_uri": "https://localhost:8080/"
        },
        "id": "NzgQUK9Xhzcn",
        "outputId": "1f5c85ea-c7fd-472b-874f-bc5aa9270fbf"
      },
      "execution_count": null,
      "outputs": [
        {
          "output_type": "stream",
          "name": "stdout",
          "text": [
            "(1, 1)\n",
            "(6, 1)\n",
            "(3, 1)\n",
            "(2, 0)\n",
            "(4, 2)\n"
          ]
        }
      ]
    },
    {
      "cell_type": "code",
      "source": [
        "print(7//4,\".\",7%4)"
      ],
      "metadata": {
        "colab": {
          "base_uri": "https://localhost:8080/"
        },
        "id": "dWl0oDcYiia-",
        "outputId": "3d65d8c4-b00c-4089-fa9a-1252e7c33214"
      },
      "execution_count": null,
      "outputs": [
        {
          "output_type": "stream",
          "name": "stdout",
          "text": [
            "1 . 3\n"
          ]
        }
      ]
    },
    {
      "cell_type": "code",
      "source": [
        "(3+2)*8"
      ],
      "metadata": {
        "colab": {
          "base_uri": "https://localhost:8080/"
        },
        "id": "5q-gZDj8iDhJ",
        "outputId": "f459f038-eccf-44d6-c858-30172a746f43"
      },
      "execution_count": null,
      "outputs": [
        {
          "output_type": "execute_result",
          "data": {
            "text/plain": [
              "40"
            ]
          },
          "metadata": {},
          "execution_count": 15
        }
      ]
    },
    {
      "cell_type": "code",
      "source": [
        "num=1\n",
        "print(num)\n",
        "\n",
        "num_1,num_2=1,2\n",
        "print(num_1)\n",
        "print(num_2)\n",
        "print(num_1, num_2)"
      ],
      "metadata": {
        "colab": {
          "base_uri": "https://localhost:8080/"
        },
        "id": "k5M-Ae7DiAgw",
        "outputId": "b81b4baa-37e9-44f6-e64b-8adb1c78da7d"
      },
      "execution_count": null,
      "outputs": [
        {
          "output_type": "stream",
          "name": "stdout",
          "text": [
            "1\n",
            "1\n",
            "2\n",
            "1 2\n"
          ]
        }
      ]
    },
    {
      "cell_type": "code",
      "source": [],
      "metadata": {
        "id": "QQ9bzmFJh2MT"
      },
      "execution_count": null,
      "outputs": []
    }
  ]
}