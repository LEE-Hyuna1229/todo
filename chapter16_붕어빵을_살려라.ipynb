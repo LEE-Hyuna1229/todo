{
  "nbformat": 4,
  "nbformat_minor": 0,
  "metadata": {
    "colab": {
      "provenance": [],
      "authorship_tag": "ABX9TyPS9A+o7pGB8aX77QfS+Rs0",
      "include_colab_link": true
    },
    "kernelspec": {
      "name": "python3",
      "display_name": "Python 3"
    },
    "language_info": {
      "name": "python"
    }
  },
  "cells": [
    {
      "cell_type": "markdown",
      "metadata": {
        "id": "view-in-github",
        "colab_type": "text"
      },
      "source": [
        "<a href=\"https://colab.research.google.com/github/LEE-Hyuna1229/todo/blob/main/%08chapter16_%EB%B6%95%EC%96%B4%EB%B9%B5%EC%9D%84_%EC%82%B4%EB%A0%A4%EB%9D%BC.ipynb\" target=\"_parent\"><img src=\"https://colab.research.google.com/assets/colab-badge.svg\" alt=\"Open In Colab\"/></a>"
      ]
    },
    {
      "cell_type": "markdown",
      "source": [
        "## while문 목차\n",
        "1. while문 만들어보기\n",
        "2. while문 코드의 흐름 보기\n",
        "3. while문 조건식 증감 감소\n",
        "4. while문을 조심스럽게 사용해야하는 이유\n",
        "5. while문이 for보다 강점인 부분\n",
        "6. continue, break\n",
        "7. while문에도 else가 있어요~!!\n",
        "8. 붕어빵 인터네셔널은 내가 살린다 나도 이제 개발자\n",
        "9. 예제로 while문 익혀보기"
      ],
      "metadata": {
        "id": "pMdCsRS2uWAD"
      }
    },
    {
      "cell_type": "code",
      "execution_count": null,
      "metadata": {
        "id": "Wb72bqltuM-0",
        "colab": {
          "base_uri": "https://localhost:8080/"
        },
        "outputId": "d63a2223-15cc-40cc-f5ee-07c7f765fb4b"
      },
      "outputs": [
        {
          "output_type": "stream",
          "name": "stdout",
          "text": [
            "점점 성장하는 여러분~\n",
            "점점 성장하는 여러분~\n",
            "점점 성장하는 여러분~\n",
            "점점 성장하는 여러분~\n",
            "점점 성장하는 여러분~\n",
            "점점 성장하는 여러분~\n",
            "점점 성장하는 여러분~\n",
            "점점 성장하는 여러분~\n",
            "점점 성장하는 여러분~\n",
            "점점 성장하는 여러분~\n"
          ]
        }
      ],
      "source": [
        "#1. While문 만들어보기\n",
        "\n",
        "i=0  # 초기식\n",
        "while i < 10:  # while 조건식\n",
        "    print('점점 성장하는 여러분~') # 반복할코드\n",
        "    i += 1 # 1이 증가하는 코드 # 변환식 #조건이 넘어가는 숫자가 오면 while문이 종료가 됨.\n",
        "\n",
        "\n"
      ]
    },
    {
      "cell_type": "code",
      "source": [
        "#3. while문 조건식 증감, 감소\n",
        "\n",
        "#1. 기본적인 증가 유형\n",
        "\n",
        "i = 1\n",
        "while i < 10:\n",
        "    print('이정도로 성장할줄이야',i)\n",
        "    i+=1\n",
        "\n",
        "#2. 기본적인 감소 유형\n",
        "i = 10\n",
        "while i > 0:\n",
        "    print('이정도로 성장할줄이야',i)\n",
        "    i-=1\n"
      ],
      "metadata": {
        "colab": {
          "base_uri": "https://localhost:8080/"
        },
        "id": "hVtzE3sAwM1u",
        "outputId": "3eaa7354-645f-45e7-94ed-b20e968d3244"
      },
      "execution_count": null,
      "outputs": [
        {
          "output_type": "stream",
          "name": "stdout",
          "text": [
            "이정도로 성장할줄이야 1\n",
            "이정도로 성장할줄이야 2\n",
            "이정도로 성장할줄이야 3\n",
            "이정도로 성장할줄이야 4\n",
            "이정도로 성장할줄이야 5\n",
            "이정도로 성장할줄이야 6\n",
            "이정도로 성장할줄이야 7\n",
            "이정도로 성장할줄이야 8\n",
            "이정도로 성장할줄이야 9\n",
            "이정도로 성장할줄이야 10\n",
            "이정도로 성장할줄이야 9\n",
            "이정도로 성장할줄이야 8\n",
            "이정도로 성장할줄이야 7\n",
            "이정도로 성장할줄이야 6\n",
            "이정도로 성장할줄이야 5\n",
            "이정도로 성장할줄이야 4\n",
            "이정도로 성장할줄이야 3\n",
            "이정도로 성장할줄이야 2\n",
            "이정도로 성장할줄이야 1\n"
          ]
        }
      ]
    },
    {
      "cell_type": "code",
      "source": [
        "#4. while문을 조심스럽게 사용해야하는 이유\n",
        "#조건이 잘못 설정되면 무한 루프에 빠져 과도한 리소스 소모\n",
        "#하지만, 잘 사용하면 for문보다 효율적\n",
        "\n",
        "#while True:\n",
        "#    print(1) #멈추지 않으면 무한으로 계속 출력됨.\n",
        "\n",
        "#while True:\n",
        "#    print(\"내가 산 주식 폭등\")"
      ],
      "metadata": {
        "id": "mbgcXRF82ZfR"
      },
      "execution_count": null,
      "outputs": []
    },
    {
      "cell_type": "code",
      "source": [
        "#5. while문이 for문보다 강점인 부분?\n",
        "#무수히 많이 실행 되어야 할 때\n",
        "\n",
        "import random\n",
        "\n",
        "random.random() #계속 새로운 숫자들읆 만듬.\n",
        "\n",
        "random.randint(1,6) #시작과 끝값을 정해주면 이 안에서 계속 랜덤인 정수형!숫자를 설정해줌.\n",
        "\n",
        "i=0\n",
        "while i != 4: #i는 처음애 0이니까 내려오면 4와 같지 않으니 랜덤으로 나옴. 출력된 i가 4가 나오게 되면 멈춤.\n",
        "    i = random.randint(1,6)\n",
        "    print(i)"
      ],
      "metadata": {
        "colab": {
          "base_uri": "https://localhost:8080/"
        },
        "id": "XlZchVWb3clq",
        "outputId": "db9797ba-a67e-4ecc-f1d1-da18d5e23eac"
      },
      "execution_count": null,
      "outputs": [
        {
          "output_type": "stream",
          "name": "stdout",
          "text": [
            "3\n",
            "1\n",
            "3\n",
            "5\n",
            "6\n",
            "2\n",
            "3\n",
            "5\n",
            "4\n"
          ]
        }
      ]
    },
    {
      "cell_type": "code",
      "source": [
        "#6. while 문에도 else가 있어요\n",
        "\n",
        "양파 = 12\n",
        "while 양파 > 10:\n",
        "    print(\"양파\", 양파, \"개 남았습니다.\")\n",
        "    if 양파 ==0:\n",
        "        break\n",
        "    양파 -=1\n",
        "else:\n",
        "    print(\"양파 다 팔렸습니다.\")"
      ],
      "metadata": {
        "colab": {
          "base_uri": "https://localhost:8080/"
        },
        "id": "RJhYIkEh5Btd",
        "outputId": "7de58766-f3f1-47cf-ac5b-85a9ff2c2379"
      },
      "execution_count": null,
      "outputs": [
        {
          "output_type": "stream",
          "name": "stdout",
          "text": [
            "양파 12 개 남았습니다.\n",
            "양파 11 개 남았습니다.\n",
            "양파 다 팔렸습니다.\n"
          ]
        }
      ]
    },
    {
      "cell_type": "code",
      "source": [
        "#7. 반복문에 흐름을 제어하는 continue 와 break\n",
        "\n",
        "i = 0\n",
        "while True:  #while문에서 true로 선언된 것임. 그래서 계속 돌게되다가 break을 만나 while문을 나가게 됨.\n",
        "    print(i)\n",
        "    i+=1\n",
        "    if i ==10:\n",
        "        break\n",
        "\n",
        "\n",
        "for i in range(100):\n",
        "    print(i)\n",
        "    i+=1\n",
        "    if i ==10:\n",
        "        break"
      ],
      "metadata": {
        "colab": {
          "base_uri": "https://localhost:8080/"
        },
        "id": "rc35gAm673XF",
        "outputId": "4adc2c22-c125-4d14-fdc6-7ab45f900916"
      },
      "execution_count": null,
      "outputs": [
        {
          "output_type": "stream",
          "name": "stdout",
          "text": [
            "0\n",
            "1\n",
            "2\n",
            "3\n",
            "4\n",
            "5\n",
            "6\n",
            "7\n",
            "8\n",
            "9\n",
            "0\n",
            "1\n",
            "2\n",
            "3\n",
            "4\n",
            "5\n",
            "6\n",
            "7\n",
            "8\n",
            "9\n"
          ]
        }
      ]
    },
    {
      "cell_type": "code",
      "source": [
        "i = 0\n",
        "while i < 10:\n",
        "    i+=1\n",
        "    if i % 2 == 0:\n",
        "        continue       #i가 짝수라면 계속 실행되서 while문 빠져나가지 않고 실행\n",
        "    print(i)\n",
        "\n",
        "\n",
        "for i in range(10):\n",
        "    if i % 2 ==0:\n",
        "        continue\n",
        "    print(i)"
      ],
      "metadata": {
        "colab": {
          "base_uri": "https://localhost:8080/"
        },
        "id": "_NPjpcId_lv8",
        "outputId": "2bc7b43e-6785-40a7-d136-7529b515b369"
      },
      "execution_count": null,
      "outputs": [
        {
          "output_type": "stream",
          "name": "stdout",
          "text": [
            "1\n",
            "3\n",
            "5\n",
            "7\n",
            "9\n",
            "1\n",
            "3\n",
            "5\n",
            "7\n",
            "9\n"
          ]
        }
      ]
    },
    {
      "cell_type": "code",
      "source": [
        "#8. 붕어빵 인터내셔널은 내가 살린다 나도 이제 개발자\n",
        "# for문을 이용해 리팩토링 해주세요. input()\n",
        "# 잡담 게시판에 여러분의 코드를 자랑해주세요. 깔끔한 코드 상 1명/노력 상 1명 스벅 쿠폰 보내드림다.\n",
        "\n",
        "#변수값\n",
        "bang__p= \"붕어빵(팥)\"\n",
        "bang__s= \"붕어빵(슈크림)\"\n",
        "bang__j= \"붕어빵(잡채)\"\n",
        "bang__p__sell,bang__s__sell,bang__j__sell = 2000,2500,3000\n",
        "order_s,order_j= 2,3\n",
        "\n",
        "#붕어빵 계산값\n",
        "order_s__pay,order_j__pay= (bang__s__sell*2),(bang__j__sell*3)\n",
        "\n",
        "#총 개수\n",
        "order_total = order_s+order_j\n",
        "\n",
        "#총 가격\n",
        "total_pay = order_s__pay + order_j__pay\n",
        "\n",
        "#출력\n",
        "print(f'주문이 완료되었습니다. {bang__s}{order_s}개, {bang__j}{order_j}개 총{order_total}개 결제금액은 {total_pay}입니다.')"
      ],
      "metadata": {
        "id": "LdnY-PnBBD-7"
      },
      "execution_count": null,
      "outputs": []
    },
    {
      "cell_type": "code",
      "source": [
        "bang__p = int(input('팥 붕어빵 개수:'))\n",
        "bang__s = int(input('슈크림 붕어빵 개수:'))\n",
        "bang__j = int(input('잡채 붕어빵 개수:'))\n",
        "bang__k = int(input('김치 붕어빵 개수:'))\n",
        "order_total = bang__p + bang__s + bang__j + bang__k\n",
        "print(f'팥붕 {bang__p}개, 슈붕 {bang__s}개, 잡붕 {bang__j}개, 김붕 {bang__k}개, 총 {order_total}개 주문하셨습니다! 결제를 진행하시겠습니까?')\n",
        "answer = input('yes or no 입력 ')\n",
        "\n",
        "if answer == \"yes\":\n",
        "    print(\"결제를 진행하겠습니다.\")\n",
        "\n",
        "    won = {'팥':600, '슈':600, '잡채':1000, '김치':1000}\n",
        "\n",
        "    def number(a,b,c,d):\n",
        "        z = won['팥']*a + won['슈']*b + won['잡채']*c + won['김치']*d\n",
        "        return z\n",
        "\n",
        "    합계 = number(bang__p,bang__s,bang__j,bang__k)\n",
        "    print(f'계산하실 금액은 {합계}원 입니다.')\n",
        "elif answer == \"no\":\n",
        "    print(\"방문해주셔서 감사합니다. 다음에 또 이용해 주세요:)\")\n",
        "else:\n",
        "    print(\"다시 정확히 입력해주세요!\")\n",
        "    answer = input('yes or no 입력 ')\n",
        "    if answer == \"yes\":\n",
        "      print(\"결제를 진행하겠습니다.\")\n",
        "\n",
        "      won = {'팥':600, '슈':600, '잡채':1000, '김치':1000}\n",
        "\n",
        "      def number(a,b,c,d):\n",
        "        z = won['팥']*a + won['슈']*b + won['잡채']*c + won['김치']*d\n",
        "        return z\n",
        "\n",
        "      합계 = number(bang__p,bang__s,bang__j,bang__k)\n",
        "      print(f'계산하실 금액은 {합계}원 입니다.')\n",
        "    elif answer == \"no\":\n",
        "      print(\"방문해주셔서 감사합니다. 다음에 또 이용해 주세요:)\")\n",
        "\n"
      ],
      "metadata": {
        "colab": {
          "base_uri": "https://localhost:8080/"
        },
        "id": "Jk3pntZKadBd",
        "outputId": "f2c7eb32-2cc3-462c-9bb9-5bbdb77c1e5f"
      },
      "execution_count": 19,
      "outputs": [
        {
          "output_type": "stream",
          "name": "stdout",
          "text": [
            "팥 붕어빵 개수:2\n",
            "슈크림 붕어빵 개수:2\n",
            "잡채 붕어빵 개수:3\n",
            "김치 붕어빵 개수:3\n",
            "팥붕 2개, 슈붕 2개, 잡붕 3개, 김붕 3개, 총 10개 주문하셨습니다! 결제를 진행하시겠습니까?\n",
            "yes or no 입력 yes\n",
            "결제를 진행하겠습니다.\n",
            "계산하실 금액은 8400원 입니다.\n"
          ]
        }
      ]
    },
    {
      "cell_type": "code",
      "source": [
        "for i in answer:\n",
        "    if i == 'yes':\n",
        "        print(\"결제를 진행하겠습니다.\")\n",
        "\n",
        "        won = {'팥':600, '슈':600, '잡채':1000, '김치':1000}\n",
        "\n",
        "        def number(a,b,c,d):\n",
        "          z = won['팥']*a + won['슈']*b + won['잡채']*c + won['김치']*d\n",
        "          return z\n",
        "\n",
        "        합계 = number(bang__p,bang__s,bang__j,bang__k)\n",
        "        print(f'계산하실 금액은 {합계}원 입니다.')\n",
        "    elif answer == \"no\":\n",
        "        print(\"방문해주셔서 감사합니다. 다음에 또 이용해 주세요:)\")\n",
        "\n",
        "    else:\n",
        "        print(\"다시 정확히 입력해주세요!\")"
      ],
      "metadata": {
        "id": "WJ9PFKnys_fn"
      },
      "execution_count": null,
      "outputs": []
    },
    {
      "cell_type": "code",
      "source": [
        "#9. 예제로 while문 익혀보기\n",
        "\n",
        "#콜라츠하는 사람은 주어진 수가 1이 될때 까지 다음 작업을 반복하면, 모든 수를 1로 만들 수 있다고 추측했다.\n",
        "#작업\n",
        "#1-1. 입력된 수가 짝수라면 2로 나눈다.\n",
        "#1-2. 입력된 수가 홀수라면 3을 곱하고 1을 더한다.\n",
        "#3. 위 결과로 나온 수에 같은 작업을 1이 될 때 까지 반복한다.\n",
        "#예를들어, 입력된 수가 6이라면, 6->3->10->5->16->8->4->2->1->\n",
        "\n",
        "#num변수에 있는 수를 1로 만드는데 몇번이나 작업을 반복하는지 출력한다.\n",
        "\n",
        "num = 7\n",
        "\n",
        "정답 = 0\n",
        "\n",
        "while num != 1:\n",
        "    if num % 2 ==0:\n",
        "        num = num/2\n",
        "    else:\n",
        "        num = num*3 + 1\n",
        "    정답 += 1\n",
        "print(정답)\n",
        "\n"
      ],
      "metadata": {
        "colab": {
          "base_uri": "https://localhost:8080/"
        },
        "id": "n8bhb_E_CJD2",
        "outputId": "411f8d2d-58fe-450e-fa85-0c7f7e32863c"
      },
      "execution_count": null,
      "outputs": [
        {
          "output_type": "stream",
          "name": "stdout",
          "text": [
            "16\n"
          ]
        }
      ]
    },
    {
      "cell_type": "code",
      "source": [
        "i = 10\n",
        "\n",
        "while i < 19:\n",
        "    print(i, end=' ')\n",
        "    i += 2"
      ],
      "metadata": {
        "colab": {
          "base_uri": "https://localhost:8080/"
        },
        "id": "wd7CrrOraHhI",
        "outputId": "dbb15491-3057-4932-a4c7-eee803569bfa"
      },
      "execution_count": null,
      "outputs": [
        {
          "output_type": "stream",
          "name": "stdout",
          "text": [
            "10 12 14 16 18 "
          ]
        }
      ]
    },
    {
      "cell_type": "code",
      "source": [
        "#while문을 사용하여, 100 이상의 자연수 중 가장 작은 23의 배수를 츨력하는 코드를 작성해주세요\n",
        "\n",
        "i = 100\n",
        "while i%23 != 0:\n",
        "    i += 1\n",
        "\n",
        "print(i)"
      ],
      "metadata": {
        "colab": {
          "base_uri": "https://localhost:8080/"
        },
        "id": "Dp2rIOCja141",
        "outputId": "e1611436-f0bd-4d66-b07f-29e990487aec"
      },
      "execution_count": null,
      "outputs": [
        {
          "output_type": "stream",
          "name": "stdout",
          "text": [
            "115\n"
          ]
        }
      ]
    }
  ]
}