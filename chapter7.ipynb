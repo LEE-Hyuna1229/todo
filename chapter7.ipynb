{
  "nbformat": 4,
  "nbformat_minor": 0,
  "metadata": {
    "colab": {
      "provenance": [],
      "authorship_tag": "ABX9TyO3ouH9gPEWrC3lDL9VfT2w",
      "include_colab_link": true
    },
    "kernelspec": {
      "name": "python3",
      "display_name": "Python 3"
    },
    "language_info": {
      "name": "python"
    }
  },
  "cells": [
    {
      "cell_type": "markdown",
      "metadata": {
        "id": "view-in-github",
        "colab_type": "text"
      },
      "source": [
        "<a href=\"https://colab.research.google.com/github/LEE-Hyuna1229/todo/blob/main/%08chapter7.ipynb\" target=\"_parent\"><img src=\"https://colab.research.google.com/assets/colab-badge.svg\" alt=\"Open In Colab\"/></a>"
      ]
    },
    {
      "cell_type": "code",
      "execution_count": null,
      "metadata": {
        "colab": {
          "base_uri": "https://localhost:8080/"
        },
        "id": "NHnuBY50LYrb",
        "outputId": "28eed542-36ff-491d-f65b-04744e8adb19"
      },
      "outputs": [
        {
          "output_type": "stream",
          "name": "stdout",
          "text": [
            "<class 'str'>\n",
            "<class 'int'>\n",
            "<class 'float'>\n",
            "<class 'str'>\n"
          ]
        }
      ],
      "source": [
        "이름=\"이현아\"\n",
        "나이=24\n",
        "키=160.8\n",
        "소속=\"오즈의 코딩스쿨 2기\"\n",
        "print(type(이름))\n",
        "print(type(나이))\n",
        "print(type(키))\n",
        "print(type(소속))"
      ]
    },
    {
      "cell_type": "code",
      "source": [
        "#정수와 실수를 문자로 변환하는 방법\n",
        "print(float(2))\n",
        "print(int(3.0))\n",
        "print(\"2\",\"3.0\")\n",
        "a,b=\"2\",\"3.0\"\n",
        "#type을 알아보기 위해 확인\n",
        "print(type(a),type(b))"
      ],
      "metadata": {
        "colab": {
          "base_uri": "https://localhost:8080/"
        },
        "id": "r-hBdYfGQbRR",
        "outputId": "20ddc6b2-e7f2-4ccc-bb0b-42a93b78236e"
      },
      "execution_count": null,
      "outputs": [
        {
          "output_type": "stream",
          "name": "stdout",
          "text": [
            "2.0\n",
            "3\n",
            "2 3.0\n",
            "<class 'str'> <class 'str'>\n"
          ]
        }
      ]
    },
    {
      "cell_type": "code",
      "source": [
        "print(소속)\n",
        "print(소속[0])\n",
        "print(소속[1])\n",
        "print(소속[2])\n",
        "print(소속[3])\n",
        "print(소속[4])\n",
        "print(소속[5])\n",
        "print(소속[6])\n",
        "print(소속[7])\n",
        "print(소속[8])\n",
        "print(소속[9])\n",
        "print(소속[10])"
      ],
      "metadata": {
        "colab": {
          "base_uri": "https://localhost:8080/"
        },
        "id": "EWb1nzlgQ4l8",
        "outputId": "364c96e6-e231-4d48-cf91-45ac62df22a0"
      },
      "execution_count": null,
      "outputs": [
        {
          "output_type": "stream",
          "name": "stdout",
          "text": [
            "오즈의 코딩스쿨 2기\n",
            "오\n",
            "즈\n",
            "의\n",
            " \n",
            "코\n",
            "딩\n",
            "스\n",
            "쿨\n",
            " \n",
            "2\n",
            "기\n"
          ]
        }
      ]
    },
    {
      "cell_type": "code",
      "source": [
        "\"오\" in 소속\n",
        "\"2\" in 소속\n",
        "\"사\" in 소속"
      ],
      "metadata": {
        "colab": {
          "base_uri": "https://localhost:8080/"
        },
        "id": "hdrUkHAVTE4t",
        "outputId": "285d1f41-6a33-4d31-b765-54fceffaf839"
      },
      "execution_count": null,
      "outputs": [
        {
          "output_type": "execute_result",
          "data": {
            "text/plain": [
              "False"
            ]
          },
          "metadata": {},
          "execution_count": 10
        }
      ]
    },
    {
      "cell_type": "code",
      "source": [
        "13+5\n",
        "\"13\"+\"밥\""
      ],
      "metadata": {
        "colab": {
          "base_uri": "https://localhost:8080/",
          "height": 36
        },
        "id": "5lGimsIGUo83",
        "outputId": "a2160241-a41c-4ffc-879c-97242b76f7c5"
      },
      "execution_count": null,
      "outputs": [
        {
          "output_type": "execute_result",
          "data": {
            "text/plain": [
              "'13밥'"
            ],
            "application/vnd.google.colaboratory.intrinsic+json": {
              "type": "string"
            }
          },
          "metadata": {},
          "execution_count": 15
        }
      ]
    },
    {
      "cell_type": "code",
      "source": [
        "옛날게임=\"홍삼홍삼 으쌰으쌰\"*10\n",
        "print(옛날게임)\n",
        "len(옛날게임)"
      ],
      "metadata": {
        "colab": {
          "base_uri": "https://localhost:8080/"
        },
        "id": "Xt2etygnXFm-",
        "outputId": "833497c4-831d-498e-ff83-0177644690a4"
      },
      "execution_count": null,
      "outputs": [
        {
          "output_type": "stream",
          "name": "stdout",
          "text": [
            "홍삼홍삼 으쌰으쌰홍삼홍삼 으쌰으쌰홍삼홍삼 으쌰으쌰홍삼홍삼 으쌰으쌰홍삼홍삼 으쌰으쌰홍삼홍삼 으쌰으쌰홍삼홍삼 으쌰으쌰홍삼홍삼 으쌰으쌰홍삼홍삼 으쌰으쌰홍삼홍삼 으쌰으쌰\n"
          ]
        },
        {
          "output_type": "execute_result",
          "data": {
            "text/plain": [
              "90"
            ]
          },
          "metadata": {},
          "execution_count": 18
        }
      ]
    },
    {
      "cell_type": "code",
      "source": [
        "퀴즈=\"차 4대가 고장나면? 카포에라\"\n",
        "print(퀴즈[12:16])\n",
        "print(퀴즈[12:15])\n",
        "#퀴즈[15]\n",
        "퀴즈[-1]"
      ],
      "metadata": {
        "colab": {
          "base_uri": "https://localhost:8080/",
          "height": 72
        },
        "id": "Ye3L9yGZXQFK",
        "outputId": "4a465fad-df95-4fd1-d75e-2f38c660e225"
      },
      "execution_count": null,
      "outputs": [
        {
          "output_type": "stream",
          "name": "stdout",
          "text": [
            "카포에라\n",
            "카포에\n"
          ]
        },
        {
          "output_type": "execute_result",
          "data": {
            "text/plain": [
              "'라'"
            ],
            "application/vnd.google.colaboratory.intrinsic+json": {
              "type": "string"
            }
          },
          "metadata": {},
          "execution_count": 23
        }
      ]
    },
    {
      "cell_type": "code",
      "source": [
        "생년월일=\"2000.12.29\"\n",
        "print(생년월일)\n",
        "print(생년월일[0:10])\n",
        "print(생년월일[0:-1])"
      ],
      "metadata": {
        "colab": {
          "base_uri": "https://localhost:8080/"
        },
        "id": "5d3QoKSTZvd8",
        "outputId": "b9acc532-f2bd-4c93-ac58-0ad5a037d6f3"
      },
      "execution_count": null,
      "outputs": [
        {
          "output_type": "stream",
          "name": "stdout",
          "text": [
            "2000.12.29\n",
            "2000.12.29\n",
            "2000.12.2\n"
          ]
        }
      ]
    },
    {
      "cell_type": "code",
      "source": [
        "생년월일=\"2000.12.29\"\n",
        "birth__year=생년월일[0:4]\n",
        "birth__month=생년월일[5:7]\n",
        "birth__day=생년월일[8:10]\n",
        "print(f'{birth__year}.{birth__month}.{birth__day}')\n"
      ],
      "metadata": {
        "colab": {
          "base_uri": "https://localhost:8080/"
        },
        "id": "0P6gjf_baoEv",
        "outputId": "75c2c7d6-9f77-44cf-d091-7d953cfc2253"
      },
      "execution_count": null,
      "outputs": [
        {
          "output_type": "stream",
          "name": "stdout",
          "text": [
            "2000.12.29\n"
          ]
        }
      ]
    },
    {
      "cell_type": "code",
      "source": [
        "숫자=\"123458695059\"\n",
        "#전체출력\n",
        "print(숫자[::])\n",
        "#전체 거꾸로 출력\n",
        "print(숫자[::-1])\n",
        "#첫번째 인덱스 기준으로 2칸씩 띄어쓰기\n",
        "print(숫자[::2])\n",
        "#첫번째 인덱스 기준으로 2칸씩 띄어쓰기\n",
        "print(숫자[4:1:-1])\n",
        "#반대로 시작하게 하는 '-1'이 있어야 4:1로 해도 작동\n",
        "print(숫자[1:4])\n",
        "print(숫자[4:1])\n",
        "print(숫자[6:2:-1])\n",
        "print(숫자[7:4:-1])"
      ],
      "metadata": {
        "colab": {
          "base_uri": "https://localhost:8080/"
        },
        "id": "0uP48iQ3dEKn",
        "outputId": "6fc3b1b7-298b-48d9-cc65-a7a8ac84fc73"
      },
      "execution_count": null,
      "outputs": [
        {
          "output_type": "stream",
          "name": "stdout",
          "text": [
            "123458695059\n",
            "950596854321\n",
            "135655\n",
            "543\n",
            "234\n",
            "\n",
            "6854\n",
            "968\n"
          ]
        }
      ]
    },
    {
      "cell_type": "code",
      "source": [
        "퀴즈=\"스님이 공중에 뜬다를 4글자로 말하면? 어중이떠중이\"\n",
        "\n",
        "print(퀴즈[22:28])\n",
        "print(퀴즈[-6:-1])\n",
        "print(퀴즈[::-1])\n",
        "print(퀴즈[-6:-1:-1])"
      ],
      "metadata": {
        "colab": {
          "base_uri": "https://localhost:8080/"
        },
        "id": "bOAtmam1pEyG",
        "outputId": "7e69c4c2-230c-4f62-8543-abb67c4ac2db"
      },
      "execution_count": null,
      "outputs": [
        {
          "output_type": "stream",
          "name": "stdout",
          "text": [
            "어중이떠중이\n",
            "어중이떠중\n",
            "이중떠이중어 ?면하말 로자글4 를다뜬 에중공 이님스\n",
            "이중떠이중어\n"
          ]
        }
      ]
    },
    {
      "cell_type": "code",
      "source": [
        "과일=\"apple\"\n",
        "과일.count(\"p\")\n",
        "#p가 몇개 있는지"
      ],
      "metadata": {
        "colab": {
          "base_uri": "https://localhost:8080/"
        },
        "id": "K8stCXRhdVMA",
        "outputId": "b7a5964b-a931-40f9-d3d4-2ae34dc48090"
      },
      "execution_count": null,
      "outputs": [
        {
          "output_type": "execute_result",
          "data": {
            "text/plain": [
              "2"
            ]
          },
          "metadata": {},
          "execution_count": 49
        }
      ]
    },
    {
      "cell_type": "code",
      "source": [
        "과일[2]\n",
        "과일.index(\"p\")\n"
      ],
      "metadata": {
        "colab": {
          "base_uri": "https://localhost:8080/"
        },
        "id": "CN2RHplJrhh5",
        "outputId": "0d209366-ec27-43d8-8484-5627e65bff13"
      },
      "execution_count": null,
      "outputs": [
        {
          "output_type": "execute_result",
          "data": {
            "text/plain": [
              "1"
            ]
          },
          "metadata": {},
          "execution_count": 52
        }
      ]
    },
    {
      "cell_type": "code",
      "source": [
        "라라랜드=\"사람들은 다른 사람들의 열정에 끌리게 되어있어 자신이 잊은 걸 상기시켜 주니까\"\n",
        "#정리하고 작성해서 올려보고 코드를 쳐서 복습해보고 배운것으로 문제를 만들어서 블로그같은 곳에 자랑해보기\n"
      ],
      "metadata": {
        "id": "WYV6xAYdrzzh"
      },
      "execution_count": null,
      "outputs": []
    }
  ]
}