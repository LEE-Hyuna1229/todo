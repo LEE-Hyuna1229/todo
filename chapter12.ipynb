{
  "nbformat": 4,
  "nbformat_minor": 0,
  "metadata": {
    "colab": {
      "provenance": [],
      "authorship_tag": "ABX9TyOM7CiAhUb6wfXnJZaiYjIe",
      "include_colab_link": true
    },
    "kernelspec": {
      "name": "python3",
      "display_name": "Python 3"
    },
    "language_info": {
      "name": "python"
    }
  },
  "cells": [
    {
      "cell_type": "markdown",
      "metadata": {
        "id": "view-in-github",
        "colab_type": "text"
      },
      "source": [
        "<a href=\"https://colab.research.google.com/github/LEE-Hyuna1229/todo/blob/main/%08chapter12.ipynb\" target=\"_parent\"><img src=\"https://colab.research.google.com/assets/colab-badge.svg\" alt=\"Open In Colab\"/></a>"
      ]
    },
    {
      "cell_type": "markdown",
      "source": [
        "##시퀀스 자료형\n",
        "* 문자열 :\n",
        "      * 시퀀스형에서 사용 할 수 있는 메소드(count(),index(),split() 등...)\n",
        "      * 슬라이싱 ([:] [::])\n",
        "      * 요소들로 이루어져 가능했던 기능들 (요소 합치기, 요소 찾기 등등)\n",
        "*문자열 :\n",
        "      * 시퀀스형에서 사용 할 수 있는 메소드(count(),index(),split() 등...)\n",
        "      * 슬라이싱 ([:] [::])\n",
        "      * 요소들로 이루어져 가능했던 기능들 (요소 합치기, 요소 찾기 등등)\n",
        "      * list를 지원하는 다양한 메소드(append(), insert(), del, sort(), reverse() )\n",
        "*tuple :\n",
        "      * 리스트처럼 요소를 일렬로 저장하지만 안에 저장된요소를 변경, 추가, 삭제 할 수 없다.\n",
        "      * 값을 추가, 삭제, 변경할 수 없기 때문에, 사용하지 못하는 메소드가 많다.\n",
        "      * tuple의 생성 방법은 tuple = 값, 값 또는\n",
        "      tuple=(값,값)\n",
        "      * 그리고 엄청난 비밀이 숨겨져 있어요\n",
        "      * 튜플은 소괄호 입니다.\n",
        "*dict(딕셔너리)\n",
        "      * list, tuple, str, range (범위안에 연속된 데이터를 만드는 시퀀스였습니다.)\n",
        "      공통적인 특징이 있어요. 데이터의 연관성이 없습니다.\n",
        "      * dict는 여러개의 값이 일렬로 정렬되면서도 값끼리의 연관성이 존재\n",
        "      (예시 : 게임캐릭터 힘:30, 지능:20, 체력:40, 민첩: 있다 90)\n",
        "      * 딕트의 생성방법은 중괄호\n",
        "      "
      ],
      "metadata": {
        "id": "5431BHifNJQH"
      }
    },
    {
      "cell_type": "code",
      "execution_count": 3,
      "metadata": {
        "colab": {
          "base_uri": "https://localhost:8080/"
        },
        "id": "3rGGf2W2I8Qg",
        "outputId": "582ae544-8114-4db6-dee8-450fe641a588"
      },
      "outputs": [
        {
          "output_type": "stream",
          "name": "stdout",
          "text": [
            "짱짱맨님은 힘이 30입니다.\n"
          ]
        }
      ],
      "source": [
        "# list []. tuple (), dict {}\n",
        "\n",
        "짱짱맨 = {\"힘\":30, \"지능\":20, \"체력\":40, \"민첩\":90}\n",
        "짱짱맨\n",
        "\n",
        "#{키 : 값} \"힘\" 같은 것을 키라고 표현,옆에 값을 값이라 표현\n",
        "#{key1:value1, key2:value2}\n",
        "\n",
        "#짱짱맨[1]\n",
        "짱짱맨[\"힘\"]\n",
        "print(f'짱짱맨님은 힘이 {짱짱맨[\"힘\"]}입니다.')"
      ]
    },
    {
      "cell_type": "code",
      "source": [
        "#딕셔너리를 만드는 다양한 방법\n",
        "\n",
        "#빈 딕셔너리 만들기\n",
        "딕셔너리 = {}\n",
        "딕셔너리\n",
        "\n",
        "딕셔너리2=dict()\n",
        "딕셔너리2\n",
        "\n",
        "#값을 넣어 만드는 방법\n",
        "#dict()로 생성시 값 넣는 기호 \"\", : 주의해주세요\n",
        "딕셔너리3 = dict(힘=30, 지능=20, 체력=40, 민첩=90)\n",
        "딕셔너리3\n",
        "\n",
        "#zip() : 병렬처리를 도와줍니다.#배열의 개수 맞춰주는 것 중요\n",
        "딕셔너리4 = dict(zip([\"힘\",\"지능\",\"체력\",\"민첩\"],[30,20,40,90]))\n",
        "딕셔너리4\n"
      ],
      "metadata": {
        "colab": {
          "base_uri": "https://localhost:8080/"
        },
        "id": "9WCR5TmlQH7a",
        "outputId": "882527c1-8af5-45da-8e62-4641e4f34c45"
      },
      "execution_count": 8,
      "outputs": [
        {
          "output_type": "execute_result",
          "data": {
            "text/plain": [
              "{'힘': 30, '지능': 20, '체력': 40, '민첩': 90}"
            ]
          },
          "metadata": {},
          "execution_count": 8
        }
      ]
    },
    {
      "cell_type": "code",
      "source": [
        "#값의 중복은 허락되는데, 키의 중복은 허락하지 않습니다.\n",
        "짱짱맨 = {\"힘\":30, \"지능\":20, \"체력\":40, \"민첩\":90, \"힘\":40, \"지구력\":90}\n",
        "짱짱맨 #키가 중복된 경우에는 가장 뒤에 있는 값만 넣고 앞에 것은 사라짐\n",
        "\n",
        "\"체력\" in 짱짱맨 #값이 아니라 뭐든지 다 키!!로 찾을 수 있음."
      ],
      "metadata": {
        "colab": {
          "base_uri": "https://localhost:8080/"
        },
        "id": "49yfI09nRyMM",
        "outputId": "f6cb8562-98f3-450a-d73d-30fe1c09c453"
      },
      "execution_count": 12,
      "outputs": [
        {
          "output_type": "execute_result",
          "data": {
            "text/plain": [
              "True"
            ]
          },
          "metadata": {},
          "execution_count": 12
        }
      ]
    },
    {
      "cell_type": "code",
      "source": [
        "#딕셔너리에 다양한 메소드\n",
        "\n",
        "print(짱짱맨.keys()) #키값만 가져옴\n",
        "print(짱짱맨.values()) #값들만 가져옴\n",
        "\n",
        "print(짱짱맨.items())\n",
        "print(type(짱짱맨.items())) #list로 바뀐 것은 아님.\n",
        "\n",
        "리스화된_짱짱맨 = list(짱짱맨.items())\n",
        "리스화된_짱짱맨\n",
        "#리스트화해서 인덱싱 가능\n",
        "리스화된_짱짱맨[0][1]"
      ],
      "metadata": {
        "colab": {
          "base_uri": "https://localhost:8080/"
        },
        "id": "FInzG1WdSKKr",
        "outputId": "aed34864-e26c-46b8-ccb6-c895839dc142"
      },
      "execution_count": 22,
      "outputs": [
        {
          "output_type": "stream",
          "name": "stdout",
          "text": [
            "dict_keys(['힘', '지능', '체력', '민첩', '지구력'])\n",
            "dict_values([40, 20, 40, 90, 90])\n",
            "dict_items([('힘', 40), ('지능', 20), ('체력', 40), ('민첩', 90), ('지구력', 90)])\n",
            "<class 'dict_items'>\n"
          ]
        },
        {
          "output_type": "execute_result",
          "data": {
            "text/plain": [
              "40"
            ]
          },
          "metadata": {},
          "execution_count": 22
        }
      ]
    },
    {
      "cell_type": "code",
      "source": [
        "# 딕셔너리 값 추가, 삭제, 변경\n",
        "\n",
        "짱짱맨\n",
        "#del 짱짱맨[\"지구력\"]\n",
        "#짱짱맨\n",
        "\n",
        "#딕셔너리 값 변경\n",
        "#짱짱맨[\"지능\"]=100\n",
        "#짱짱맨\n",
        "\n",
        "#딕셔너리 값 추가\n",
        "짱짱맨. update({\"손재주\":44, \"매력\":100})\n",
        "짱짱맨"
      ],
      "metadata": {
        "colab": {
          "base_uri": "https://localhost:8080/"
        },
        "id": "NwVbXiEgUc6k",
        "outputId": "dfc3a399-017d-4b13-9568-c5be5ff9fcf3"
      },
      "execution_count": 26,
      "outputs": [
        {
          "output_type": "execute_result",
          "data": {
            "text/plain": [
              "{'힘': 40, '지능': 100, '체력': 40, '민첩': 90, '손재주': 44, '매력': 100}"
            ]
          },
          "metadata": {},
          "execution_count": 26
        }
      ]
    },
    {
      "cell_type": "code",
      "source": [
        "코디 = {\n",
        "    \"모자\" : {\n",
        "        \"캡\" : \"발렌시아\",\n",
        "        \"비니\" : \"셀린느\"\n",
        "     },\n",
        "    \"상의\" : {\n",
        "        \"후드티\" : \"칼하트\",\n",
        "        \"맨투맨\" : \"슈프림\"\n",
        "     }\n",
        "}\n",
        "코디\n",
        "코디[\"모자\"]\n",
        "코디[\"모자\"][\"캡\"] #이런식으로 접근"
      ],
      "metadata": {
        "colab": {
          "base_uri": "https://localhost:8080/",
          "height": 36
        },
        "id": "uAXETyCCVVcj",
        "outputId": "64795216-0770-4448-e73e-6eabf4ea546c"
      },
      "execution_count": 32,
      "outputs": [
        {
          "output_type": "execute_result",
          "data": {
            "text/plain": [
              "'발렌시아'"
            ],
            "application/vnd.google.colaboratory.intrinsic+json": {
              "type": "string"
            }
          },
          "metadata": {},
          "execution_count": 32
        }
      ]
    },
    {
      "cell_type": "markdown",
      "source": [
        "*해시, 해시탭, 해시테이블 공부해보기\n"
      ],
      "metadata": {
        "id": "hBL7eaojYhks"
      }
    },
    {
      "cell_type": "markdown",
      "source": [
        "밑의 붕어빵 주문방법을 더 간단하게 하거나 배운것 활용해 바꿔보기"
      ],
      "metadata": {
        "id": "RUuzSV1qc7G3"
      }
    },
    {
      "cell_type": "code",
      "source": [
        "#변수값 입력\n",
        "bang__p=\"붕어빵(팥)\"\n",
        "bang__s=\"붕어빵(슈크림)\"\n",
        "bang__j=\"붕어빵(잡채)\"\n",
        "bang__p__sell,bang__s__sell,bang__j__sell=2000,2500,3000\n",
        "order_s,order_j=2,3\n",
        "\n",
        "#붕어빵 계산값\n",
        "order_s__pay,order_j__pay=(bang__s__sell*2),(bang__j__sell*3)\n",
        "\n",
        "#총 개수\n",
        "order_total=order_s+order_j\n",
        "\n",
        "#총 가격\n",
        "total_pay=order_s__pay+order_j__pay\n",
        "\n",
        "#출력\n",
        "print(f'주문이 완료되었습니다. {bang__s}{order_s}개, {bang__j}{order_j}개 총{order_total}개 결제금액은 {total_pay}입니다.')"
      ],
      "metadata": {
        "id": "C-gIjHsOU4jC"
      },
      "execution_count": null,
      "outputs": []
    }
  ]
}