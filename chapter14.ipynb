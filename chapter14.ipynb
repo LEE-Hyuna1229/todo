{
  "nbformat": 4,
  "nbformat_minor": 0,
  "metadata": {
    "colab": {
      "provenance": [],
      "authorship_tag": "ABX9TyPoSkl5gTOoXJqgW+aT55qO",
      "include_colab_link": true
    },
    "kernelspec": {
      "name": "python3",
      "display_name": "Python 3"
    },
    "language_info": {
      "name": "python"
    }
  },
  "cells": [
    {
      "cell_type": "markdown",
      "metadata": {
        "id": "view-in-github",
        "colab_type": "text"
      },
      "source": [
        "<a href=\"https://colab.research.google.com/github/LEE-Hyuna1229/todo/blob/main/chapter14.ipynb\" target=\"_parent\"><img src=\"https://colab.research.google.com/assets/colab-badge.svg\" alt=\"Open In Colab\"/></a>"
      ]
    },
    {
      "cell_type": "markdown",
      "source": [
        "### if문 목차\n",
        "1. if문이란?(if문의 기능 설명)\n",
        "2. if문 문법과 주의사항(콤마, 들여쓰기)\n",
        "3. if문의 흐름 (작도 원리)\n",
        "4. if 충첩문\n",
        "5. if~else 문법과 주의사항 (콤마, 들여쓰기)\n",
        "6. if~else 문 흐름 (작동원리)\n",
        "7. 조건문 조건(True, False)\n",
        "8. 조건식 여러개 설정하기\n",
        "9. elif~if문\n",
        "10. 예제로 if문 익혀보기\n"
      ],
      "metadata": {
        "id": "iBGlped447iw"
      }
    },
    {
      "cell_type": "markdown",
      "source": [
        "###1. if문이란?\n",
        "* 특정 조건일때 코드를 실행하는 문법\n",
        "\n",
        "if 파이썬을 정복한다면:   \n",
        "    개발자로 취직할 수 있다."
      ],
      "metadata": {
        "id": "TudcT7ia58yo"
      }
    },
    {
      "cell_type": "markdown",
      "source": [
        "##2. if문 문법과 주의사항(콜론:, 들여쓰기)\n",
        "\n",
        "* 들여쓰기는 일정해야 한다.\n",
        "* 콜론 ':' 꼭 쓰기"
      ],
      "metadata": {
        "id": "w-L7ypdy6YRZ"
      }
    },
    {
      "cell_type": "code",
      "execution_count": 2,
      "metadata": {
        "colab": {
          "base_uri": "https://localhost:8080/"
        },
        "id": "MRWm8_Pq2jp8",
        "outputId": "4a40a64f-e914-4312-d241-df6cb6fbdd20"
      },
      "outputs": [
        {
          "output_type": "stream",
          "name": "stdout",
          "text": [
            "붕어빵 몇개 사실 건가요?4\n",
            "개당 1800원 입니다.\n"
          ]
        }
      ],
      "source": [
        "#2. if문 문법과 주의사항 (콜론, 들여쓰기)\n",
        "개수 = int(input(\"붕어빵 몇개 사실 건가요?\")) #input은 문자형으로 받음으로 int로 형변환\n",
        "\n",
        "if 개수 > 3 :\n",
        "    print(\"개당 1800원 입니다.\")"
      ]
    },
    {
      "cell_type": "code",
      "source": [
        "#3. if문의 흐름 (작동원리)\n",
        "#코드는 위에서 아래 순서대로 작동합니다.\n",
        "\n",
        "# 1)입력을 받음 2)개수라는 변수를 담음\n",
        "개수 = int(input(\"붕어빵 몇개 사실 건가요?\")) #input은 문자형으로 받음으로 int로 형변환\n",
        "# 3) 개수 변수가 있네 값이 뭐지 4>3 :비교연산자를 쓰면 True 또는 False로 반환이 됨.\n",
        "if 개수 > 3 :\n",
        "    print(\"개당 1800원 입니다.\") # 4) 조건이 True이면 if문 안에 코드가 실행됨.\n",
        "\n",
        "if 개수 <= 3 :\n",
        "    print(\"개당 2000원 입니다.\") # 5) 위에서 부터 실행 후 조건충족 못하면 밑의 조건으로 넘어옴."
      ],
      "metadata": {
        "colab": {
          "base_uri": "https://localhost:8080/"
        },
        "id": "rciUcb2d7Ix-",
        "outputId": "396042d5-975d-44ee-fda0-20c896c9f660"
      },
      "execution_count": 3,
      "outputs": [
        {
          "output_type": "stream",
          "name": "stdout",
          "text": [
            "붕어빵 몇개 사실 건가요?3\n",
            "개당 2000원 입니다.\n"
          ]
        }
      ]
    },
    {
      "cell_type": "code",
      "source": [
        "#4. if 중첩문 -if문 안에 if문이 있는 것\n",
        "\n",
        "의문의_숫자 = 10\n",
        "\n",
        "if 의문의_숫자 > 5:\n",
        "    if 의문의_숫자 < 15:\n",
        "        print(\"의문의 숫자는 5보다 크고 10보다 작습니다.\")"
      ],
      "metadata": {
        "colab": {
          "base_uri": "https://localhost:8080/"
        },
        "id": "vYVWRiNA9wp7",
        "outputId": "4232760c-cab4-45e8-bc6b-6eff8a7b4fcf"
      },
      "execution_count": 4,
      "outputs": [
        {
          "output_type": "stream",
          "name": "stdout",
          "text": [
            "의문의 숫자는 5보다 크고 10보다 작습니다.\n"
          ]
        }
      ]
    },
    {
      "cell_type": "code",
      "source": [
        "#5. if ~ else 문법과 주의사항 (콜론, 들여쓰기)\n",
        "# True일때는 if문 안에 작성된 코드가 실행됩니다.\n",
        "# False일때는 if문 안에 작성된 코드가 실행됩니다.\n",
        "\n",
        "개수 = int(input(\"붕어빵 몇개 사실 건가요?\"))\n",
        "\n",
        "if 개수 > 3 :\n",
        "    print(\"개당 1800원 입니다.\")\n",
        "\n",
        "else:\n",
        "    print(\"개당 2000원 입니다.\")"
      ],
      "metadata": {
        "colab": {
          "base_uri": "https://localhost:8080/"
        },
        "id": "Ut7CWDZn-Q-9",
        "outputId": "084a8b43-fa57-42cd-afbc-9f6907bb6333"
      },
      "execution_count": 5,
      "outputs": [
        {
          "output_type": "stream",
          "name": "stdout",
          "text": [
            "붕어빵 몇개 사실 건가요?3\n",
            "개당 2000원 입니다.\n"
          ]
        }
      ]
    },
    {
      "cell_type": "code",
      "source": [
        " #6. if ~ else문 흐름(작동원리)\n",
        "\n",
        " 개수 = int(input(\"붕어빵 몇개 사실 건가요?\"))\n",
        "\n",
        "if 개수 > 3 :\n",
        "    print(\"개당 1800원 입니다.\")\n",
        "\n",
        "else:\n",
        "    print(\"개당 2000원 입니다.\") #위에부터 순서대로 True면 위에꺼 False면 밑으로 내려와서 실행한다."
      ],
      "metadata": {
        "id": "Wf-KdD6S_UJq"
      },
      "execution_count": null,
      "outputs": []
    },
    {
      "cell_type": "code",
      "source": [
        "#7. 조건문 조건(True, False)\n",
        "# True\n",
        "if True:  #지금 현재 True인 상태\n",
        "    print(True)\n",
        "else:\n",
        "    print(False)\n",
        "\n",
        "#False\n",
        "if False:\n",
        "    print(True)\n",
        "else:\n",
        "    print(False)\n",
        "\n",
        "#None\n",
        "if None:   #여기 None애서의 False랑 위의 False는 다르다. False로 구분되는 것 뿐이다.\n",
        "    print(True)\n",
        "else:\n",
        "    print(False)\n",
        "\n",
        "# 0\n",
        "if 0:\n",
        "    print(True)\n",
        "else:\n",
        "    print(False)\n",
        "\n",
        "# 1\n",
        "if 1:\n",
        "    print(True)\n",
        "else:\n",
        "    print(False)\n",
        "\n",
        "# 1.1\n",
        "if 1.1:\n",
        "    print(True)\n",
        "else:\n",
        "    print(False)\n",
        "\n",
        "# 'hello'\n",
        "if 'hello': #모든 문자열 값은 True이다.\n",
        "    print(True)\n",
        "else:\n",
        "    print(False)\n",
        "\n",
        "# ''\n",
        "if '':  #아무것도 없을 때 False 이다. 많이 쓰인다.\n",
        "    print(True)\n",
        "else:\n",
        "    print(False)\n",
        "\n",
        "# not\n",
        "if not True:\n",
        "    print(True)\n",
        "else:\n",
        "    print(False)\n",
        "\n",
        "if not'':\n",
        "    print(True)\n",
        "else:\n",
        "    print(False)"
      ],
      "metadata": {
        "colab": {
          "base_uri": "https://localhost:8080/"
        },
        "id": "KTt3_OfQAqgv",
        "outputId": "5d5a5104-438e-4f2f-843a-93525ef790d4"
      },
      "execution_count": 14,
      "outputs": [
        {
          "output_type": "stream",
          "name": "stdout",
          "text": [
            "True\n",
            "False\n",
            "False\n",
            "False\n",
            "True\n",
            "True\n",
            "True\n",
            "False\n",
            "False\n",
            "True\n"
          ]
        }
      ]
    },
    {
      "cell_type": "code",
      "source": [
        "#8. 조건문 여러개 설정하기\n",
        "\n",
        "a, b = 10, 30\n",
        "\n",
        "if a==10 and b==30:\n",
        "    print(\"동일합니다.\")\n",
        "else:\n",
        "    print(\"동일하지 않습니다.\")\n",
        "\n",
        "if a==10 or b==30:\n",
        "    print(\"동일합니다.\")\n",
        "else:\n",
        "    print(\"동일하지 않습니다.\")\n",
        "\n",
        "if a>=10 and a<20:\n",
        "    print(\"10보다 크고 20보다 작습니다.\")\n",
        "\n",
        "if 10 <=a <20:\n",
        "    print(\"10보다 크고 20보다 작습니다.\")\n"
      ],
      "metadata": {
        "colab": {
          "base_uri": "https://localhost:8080/"
        },
        "id": "oyYbSuvTEj71",
        "outputId": "f25e926f-6ff1-4b3e-c997-eeacbaba4ac5"
      },
      "execution_count": 19,
      "outputs": [
        {
          "output_type": "stream",
          "name": "stdout",
          "text": [
            "동일합니다.\n",
            "동일합니다.\n",
            "10보다 크고 20보다 작습니다.\n",
            "10보다 크고 20보다 작습니다.\n"
          ]
        }
      ]
    },
    {
      "cell_type": "code",
      "source": [
        "#9. elif ~ if 문\n",
        "\n",
        "맛 = input('붕어빵 맛을 골라주세요(팥, 슈크림, 잡채)')\n",
        "\n",
        "if 맛 == \"팥\":\n",
        "    print(f'{맛}을 선택하셨습니다.')\n",
        "elif 맛 == \"슈크림\":\n",
        "    print(f'{맛}을 선택하셨습니다.')\n",
        "else:\n",
        "    print(f'{맛}을 선택하셨습니다.')"
      ],
      "metadata": {
        "colab": {
          "base_uri": "https://localhost:8080/"
        },
        "id": "NmPC9InqFsIg",
        "outputId": "64fb49c8-3886-4f1a-c489-4af13e1698a4"
      },
      "execution_count": 22,
      "outputs": [
        {
          "output_type": "stream",
          "name": "stdout",
          "text": [
            "붕어빵 맛을 골라주세요(팥, 슈크림, 잡채)슈크림\n",
            "슈크림을 선택하셨습니다.\n"
          ]
        }
      ]
    },
    {
      "cell_type": "code",
      "source": [
        "#10 예제로 if문 익혀보기\n",
        "#문제 : 단어 a의 가운데 글자를 반환하는 코드\n",
        "#조건 : 단어의 길이가 짝수라면 가운데 두글자를 출력하면 됩니다.\n",
        "\n",
        "#입력값1 : \"abcde\" => c 가 출력되야함\n",
        "#입력값2 : \"qwer\"  => we가 출력되야함\n",
        "\n",
        "a = input()\n",
        "가운데_인덱스 = int(len(a)/2)\n",
        "#코드를 작성해주세요\n",
        "if len(a)%2 == 1:\n",
        "    print(a[가운데_인덱스])\n",
        "else:\n",
        "    print(a[(가운데_인덱스)-1:(가운데_인덱스)+1])"
      ],
      "metadata": {
        "colab": {
          "base_uri": "https://localhost:8080/"
        },
        "id": "Jev4p1IvGrZw",
        "outputId": "6502faf5-0cd0-4def-a9c0-6b935e02c820"
      },
      "execution_count": 25,
      "outputs": [
        {
          "output_type": "stream",
          "name": "stdout",
          "text": [
            "qwer\n",
            "we\n"
          ]
        }
      ]
    }
  ]
}