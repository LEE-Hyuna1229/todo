{
  "nbformat": 4,
  "nbformat_minor": 0,
  "metadata": {
    "colab": {
      "provenance": [],
      "authorship_tag": "ABX9TyPotZQfSZgU2rH93Pk0Q/rU",
      "include_colab_link": true
    },
    "kernelspec": {
      "name": "python3",
      "display_name": "Python 3"
    },
    "language_info": {
      "name": "python"
    }
  },
  "cells": [
    {
      "cell_type": "markdown",
      "metadata": {
        "id": "view-in-github",
        "colab_type": "text"
      },
      "source": [
        "<a href=\"https://colab.research.google.com/github/LEE-Hyuna1229/todo/blob/main/chapter3.ipynb\" target=\"_parent\"><img src=\"https://colab.research.google.com/assets/colab-badge.svg\" alt=\"Open In Colab\"/></a>"
      ]
    },
    {
      "cell_type": "code",
      "execution_count": null,
      "metadata": {
        "colab": {
          "base_uri": "https://localhost:8080/"
        },
        "id": "NUuntkAFREP5",
        "outputId": "22640d88-571d-48c2-dc37-d437defc283d"
      },
      "outputs": [
        {
          "output_type": "stream",
          "name": "stdout",
          "text": [
            "진짜 안보이는 거야?\n"
          ]
        }
      ],
      "source": [
        "#주석은 이렇게 하는거다\n",
        "print(\"진짜 안보이는 거야?\")\n",
        "# print(\"신기하네?\")"
      ]
    },
    {
      "cell_type": "code",
      "source": [
        "#\"\"\" \"\"\"\n",
        "\n",
        "# print(\"진짜 안보이는 거야?\")\n",
        "# print(\"신기하네?\")\n"
      ],
      "metadata": {
        "colab": {
          "base_uri": "https://localhost:8080/",
          "height": 36
        },
        "id": "dariLEG5UOjd",
        "outputId": "fd91a1f7-2e54-4d4b-82eb-30d5f768d279"
      },
      "execution_count": null,
      "outputs": [
        {
          "output_type": "execute_result",
          "data": {
            "text/plain": [
              "'\\nprint(\"진짜 안보이는 거야?\")\\nprint(\"신기하네?\")\\n'"
            ],
            "application/vnd.google.colaboratory.intrinsic+json": {
              "type": "string"
            }
          },
          "metadata": {},
          "execution_count": 9
        }
      ]
    },
    {
      "cell_type": "code",
      "source": [
        "for 동물 in (\"토끼\",\"사자\",\"푸바오\",\"거북이\"):\n",
        "    print(동물)\n",
        "    print(\"보러 갈래요?\")"
      ],
      "metadata": {
        "colab": {
          "base_uri": "https://localhost:8080/"
        },
        "id": "yUpkAf8YVMxq",
        "outputId": "3b5a602c-8f04-41b5-9c46-c45e81a592fe"
      },
      "execution_count": null,
      "outputs": [
        {
          "output_type": "stream",
          "name": "stdout",
          "text": [
            "토끼\n",
            "보러 갈래요?\n",
            "사자\n",
            "보러 갈래요?\n",
            "푸바오\n",
            "보러 갈래요?\n",
            "거북이\n",
            "보러 갈래요?\n"
          ]
        }
      ]
    },
    {
      "cell_type": "code",
      "source": [
        "for 동물 in (\"푸바오\",\"토끼\",\"사자\"):\n",
        "    print(동물)\n",
        "print(\"보러갈래요?\")"
      ],
      "metadata": {
        "colab": {
          "base_uri": "https://localhost:8080/"
        },
        "id": "CVtmRWiSVNCS",
        "outputId": "fa151ff5-284c-4785-f469-26c0c23f4f88"
      },
      "execution_count": null,
      "outputs": [
        {
          "output_type": "stream",
          "name": "stdout",
          "text": [
            "푸바오\n",
            "토끼\n",
            "사자\n",
            "보러갈래요?\n"
          ]
        }
      ]
    }
  ]
}