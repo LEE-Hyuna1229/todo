{
  "nbformat": 4,
  "nbformat_minor": 0,
  "metadata": {
    "colab": {
      "provenance": [],
      "authorship_tag": "ABX9TyPNkLiBeUhDkWCArgrdjTAK",
      "include_colab_link": true
    },
    "kernelspec": {
      "name": "python3",
      "display_name": "Python 3"
    },
    "language_info": {
      "name": "python"
    }
  },
  "cells": [
    {
      "cell_type": "markdown",
      "metadata": {
        "id": "view-in-github",
        "colab_type": "text"
      },
      "source": [
        "<a href=\"https://colab.research.google.com/github/LEE-Hyuna1229/todo/blob/main/chapter10.ipynb\" target=\"_parent\"><img src=\"https://colab.research.google.com/assets/colab-badge.svg\" alt=\"Open In Colab\"/></a>"
      ]
    },
    {
      "cell_type": "code",
      "execution_count": null,
      "metadata": {
        "colab": {
          "base_uri": "https://localhost:8080/"
        },
        "id": "F1LYZeYSVr-I",
        "outputId": "79f00fc1-7fd2-4fdc-ef0d-2357e7a8d140"
      },
      "outputs": [
        {
          "output_type": "stream",
          "name": "stdout",
          "text": [
            "[]\n",
            "['식빵', 100, '소금빵', False, True]\n"
          ]
        }
      ],
      "source": [
        "리스트=[]\n",
        "print(리스트)\n",
        "\n",
        "리스트=[\"식빵\",100,\"소금빵\",False,True]\n",
        "print(리스트)\n",
        "#리스트엔 다 넣을 수 있어!!"
      ]
    },
    {
      "cell_type": "code",
      "source": [
        "리스트=[\"이\",\"렇\",\"게\",\"민\",\"들\",\"어\",\"요\"]\n",
        "리스트\n",
        "리스트2=list() #함수는 단독으로 쓰일 수 있음\n",
        "print(리스트2)"
      ],
      "metadata": {
        "colab": {
          "base_uri": "https://localhost:8080/"
        },
        "id": "Yt5agO_OZqKS",
        "outputId": "f222cac2-5d6a-4bd1-9667-ec6e866e1196"
      },
      "execution_count": null,
      "outputs": [
        {
          "output_type": "stream",
          "name": "stdout",
          "text": [
            "[]\n"
          ]
        }
      ]
    },
    {
      "cell_type": "code",
      "source": [
        "리스트_매직 = list(range(0,20)) #인덱스가 20개라는 뜻 20번까지 아님아님\n",
        "리스트_매직\n",
        "#리스트_마법 = list(3)"
      ],
      "metadata": {
        "colab": {
          "base_uri": "https://localhost:8080/"
        },
        "id": "pz6Sf4gHaK-Q",
        "outputId": "1212b21c-e4fa-403e-d53f-2f756be9f894"
      },
      "execution_count": null,
      "outputs": [
        {
          "output_type": "execute_result",
          "data": {
            "text/plain": [
              "[0, 1, 2, 3, 4, 5, 6, 7, 8, 9, 10, 11, 12, 13, 14, 15, 16, 17, 18, 19]"
            ]
          },
          "metadata": {},
          "execution_count": 23
        }
      ]
    },
    {
      "cell_type": "code",
      "source": [
        "#range 연속된 숫자를 생산하는 기능이 존재\n",
        "range(10)\n",
        "#0-10 까지 존재한다는 표현\n",
        "\n"
      ],
      "metadata": {
        "colab": {
          "base_uri": "https://localhost:8080/"
        },
        "id": "XYOeOvavaEaT",
        "outputId": "24297087-c6aa-4f7d-d760-d1651d9f1c27"
      },
      "execution_count": null,
      "outputs": [
        {
          "output_type": "execute_result",
          "data": {
            "text/plain": [
              "range(0, 10)"
            ]
          },
          "metadata": {},
          "execution_count": 24
        }
      ]
    },
    {
      "cell_type": "code",
      "source": [
        "#list(range(시작,끝,증가))\n",
        "리스트_매직2 = list(range(0,20,2)) #0부터 20까지 2씩 증가\n",
        "print(리스트_매직2)\n",
        "\n",
        "리스트_매직3 = list(range(20,0,-1))\n",
        "print(리스트_매직3)\n",
        "리스트_매직4 = list(range(20,0))\n",
        "print(리스트_매직4)\n",
        "리스트_매직5 = list(range(4,1,-1))\n",
        "print(리스트_매직5)"
      ],
      "metadata": {
        "colab": {
          "base_uri": "https://localhost:8080/"
        },
        "id": "rgTM1zBTd86W",
        "outputId": "b77dd989-5a25-4ea9-9b0d-dc6a7584e005"
      },
      "execution_count": null,
      "outputs": [
        {
          "output_type": "stream",
          "name": "stdout",
          "text": [
            "[0, 2, 4, 6, 8, 10, 12, 14, 16, 18]\n",
            "[20, 19, 18, 17, 16, 15, 14, 13, 12, 11, 10, 9, 8, 7, 6, 5, 4, 3, 2, 1]\n",
            "[]\n",
            "[4, 3, 2]\n"
          ]
        }
      ]
    },
    {
      "cell_type": "markdown",
      "source": [
        "20부터 index 20개 다 차면 더이상 안만듬. 그래서 0까지\n",
        "안감."
      ],
      "metadata": {
        "id": "C6DBXqutg8Vr"
      }
    },
    {
      "cell_type": "code",
      "source": [
        "a,b,c = ['들','어','가']\n",
        "print(a,b,c)\n",
        "d,e,f=[7,7,8]\n",
        "print(d,e,f)\n",
        "\n",
        "지갑=[10000, 5000, 1000]\n",
        "만원, 오천원, 천원 = 지갑\n",
        "print(f'{만원} 2장, {오천원} 3장, {천원} 1장')"
      ],
      "metadata": {
        "colab": {
          "base_uri": "https://localhost:8080/"
        },
        "id": "EdZFKDQ0g8Lm",
        "outputId": "7f0dcdb7-2d37-4c4d-c5fe-d4c05ed7a4e4"
      },
      "execution_count": null,
      "outputs": [
        {
          "output_type": "stream",
          "name": "stdout",
          "text": [
            "들 어 가\n",
            "7 7 8\n",
            "10000 2장, 5000 3장, 1000 1장\n"
          ]
        }
      ]
    },
    {
      "cell_type": "code",
      "source": [
        "#리스트 패킹, 리스트 언패킹 -숙지해 두는 것이 아주 중요\n",
        "\n",
        "input().split()"
      ],
      "metadata": {
        "colab": {
          "base_uri": "https://localhost:8080/"
        },
        "id": "97WcvYFZiG9c",
        "outputId": "15e0e4b0-a4e5-4de8-94fd-be2221d80251"
      },
      "execution_count": null,
      "outputs": [
        {
          "name": "stdout",
          "output_type": "stream",
          "text": [
            "기억나요? 혹시\n"
          ]
        },
        {
          "output_type": "execute_result",
          "data": {
            "text/plain": [
              "['기억나요?', '혹시']"
            ]
          },
          "metadata": {},
          "execution_count": 35
        }
      ]
    },
    {
      "cell_type": "code",
      "source": [
        "#슬라이싱도 가능\n",
        "\n",
        "로또 = [3,5,15,33,41,44]\n",
        "\n",
        "#로또 변수에 있는 리스트의 인덱스 1번부터 2번까지의 값을 출력해\n",
        "print(로또[1:3])\n",
        "\n",
        "#로또 변수의 마지막 위치 출력해줘\n",
        "print(로또.index(44))\n",
        "print(로또[-1])\n",
        "\n",
        "#반대로 출력\n",
        "print(로또[::-1])\n",
        "\n",
        "#로또 리스트안에 33이 있는지 확인 해줘\n",
        "print(33 in 로또)\n",
        "\n",
        "#로또 리스트를 로또2 리스트와 합쳐보세요\n",
        "로또2 = [2,12,15,24,33,39]\n",
        "print(로또+로또2)\n",
        "\n",
        "#range를 이용해서 1부터 10 사이에 짝수만 들어있는 짝수(변수명) 리스트를 만들어주세요\n",
        "리스트_짝수=list(range(2,11,2)) #range가 정확히 어떤것을 의미하는지 공부해보기\n",
        "print(리스트_짝수)\n",
        "\n",
        "#짝수 리스트에 들어있는 값을 2배 늘리고 다시 짝구 변수에 담아줘\n",
        "리스트_짝수 *= 2\n",
        "print(리스트_짝수) ##흠 값이 2배가 아니라 양이 2배인 것임.\n",
        "\n",
        "#짝수 리스트에 들어있는 요소의 개수를 구헤주세여\n",
        "print(len(리스트_짝수))\n",
        "\n",
        "#짝수 리스트에 3번째 인덱스를 출력해주세요\n",
        "print(리스트_짝수[3])\n",
        "\n",
        "#len()함수를 이용해 인덱스의 마지막 값을 출력해주세요\n",
        "a=len(리스트_짝수)\n",
        "print(리스트_짝수[a-1])\n",
        "print(리스트_짝수[-1])"
      ],
      "metadata": {
        "colab": {
          "base_uri": "https://localhost:8080/"
        },
        "id": "HzlGtum1jLS2",
        "outputId": "d1887083-9292-4097-dfd7-d23c89faf7b8"
      },
      "execution_count": null,
      "outputs": [
        {
          "output_type": "stream",
          "name": "stdout",
          "text": [
            "[5, 15]\n",
            "5\n",
            "44\n",
            "[44, 41, 33, 15, 5, 3]\n",
            "True\n",
            "[3, 5, 15, 33, 41, 44, 2, 12, 15, 24, 33, 39]\n",
            "[2, 4, 6, 8, 10]\n",
            "[2, 4, 6, 8, 10, 2, 4, 6, 8, 10]\n",
            "10\n",
            "8\n",
            "10\n",
            "10\n"
          ]
        }
      ]
    },
    {
      "cell_type": "code",
      "source": [
        "#list 값 넣고, 바꾸고, 지우고\n",
        "\n",
        "mzfood = [\"숙주\",\"분모자\",\"마라\",\"소세지\",\"소고기\",\"옥수수면\"]\n",
        "\n",
        "#값을 넣는 방법 2가지 : append():마지막 요소에 값을 넣어, insert() : 원하는 곳에 값을 넣어요\n",
        "mzfood.append(\"고수\")\n",
        "print(mzfood)\n",
        "mzfood.insert(0, \"탕후루\") #원하는 인덱스 번호 적고 콤마 다음 적기\n",
        "print(mzfood)\n",
        "\n",
        "#이렇게 시켰더니 혼났다. 값 지우기\n",
        "del mzfood[-1] # del 지우기 원하는 인덱스 값 넣기\n",
        "print(mzfood)\n",
        "del mzfood[0]\n",
        "print(mzfood)\n",
        "\n",
        "#값 바꾸고\n",
        "mzfood[-2]=\"양고기\" #소고기를 양고기로 바꾸고 싶음.\n",
        "print(mzfood)\n",
        "\n",
        "#문자열 시퀀스 아니냐 그럼 저거 다 될듯\n",
        "인사=\"반가워\"\n",
        "#인사[2]=\"웡\" #문자열 str에는 시퀀스여도 할당할 수 없음 이 기능 지원이 안됨."
      ],
      "metadata": {
        "colab": {
          "base_uri": "https://localhost:8080/"
        },
        "id": "202lqgnnm1Eq",
        "outputId": "09496f08-0747-4ac7-e090-993b73fadd42"
      },
      "execution_count": null,
      "outputs": [
        {
          "output_type": "stream",
          "name": "stdout",
          "text": [
            "['숙주', '분모자', '마라', '소세지', '소고기', '옥수수면', '고수']\n",
            "['탕후루', '숙주', '분모자', '마라', '소세지', '소고기', '옥수수면', '고수']\n",
            "['탕후루', '숙주', '분모자', '마라', '소세지', '소고기', '옥수수면']\n",
            "['숙주', '분모자', '마라', '소세지', '소고기', '옥수수면']\n",
            "['숙주', '분모자', '마라', '소세지', '양고기', '옥수수면']\n"
          ]
        }
      ]
    },
    {
      "cell_type": "code",
      "source": [
        "print(dir(list))"
      ],
      "metadata": {
        "colab": {
          "base_uri": "https://localhost:8080/"
        },
        "id": "ns11JY__v8sd",
        "outputId": "5d424d71-b651-45ee-852d-f44782e86d37"
      },
      "execution_count": null,
      "outputs": [
        {
          "output_type": "stream",
          "name": "stdout",
          "text": [
            "['__add__', '__class__', '__class_getitem__', '__contains__', '__delattr__', '__delitem__', '__dir__', '__doc__', '__eq__', '__format__', '__ge__', '__getattribute__', '__getitem__', '__gt__', '__hash__', '__iadd__', '__imul__', '__init__', '__init_subclass__', '__iter__', '__le__', '__len__', '__lt__', '__mul__', '__ne__', '__new__', '__reduce__', '__reduce_ex__', '__repr__', '__reversed__', '__rmul__', '__setattr__', '__setitem__', '__sizeof__', '__str__', '__subclasshook__', 'append', 'clear', 'copy', 'count', 'extend', 'index', 'insert', 'pop', 'remove', 'reverse', 'sort']\n"
          ]
        }
      ]
    },
    {
      "cell_type": "code",
      "source": [
        "print(mzfood)\n",
        "mzfood.reverse() #reverse 하면 위치는 바로 뒤바뀜\n",
        "print(mzfood)\n",
        "\n",
        "mzfood.sort() #메소드는 ()해야함\n",
        "print(mzfood) #가나다라 순으로 바뀜\n",
        "\n",
        "#왜 print문을 쓰면 none이 나올까? -조사해보기\n",
        "print(mzfood)\n",
        "print(mzfood.reverse())\n",
        "print(mzfood.sort())"
      ],
      "metadata": {
        "colab": {
          "base_uri": "https://localhost:8080/"
        },
        "id": "iyK8nkhXwbbn",
        "outputId": "e078d091-5408-49b8-9575-da9eb59bc040"
      },
      "execution_count": null,
      "outputs": [
        {
          "output_type": "stream",
          "name": "stdout",
          "text": [
            "['마라', '분모자', '소세지', '숙주', '양고기', '옥수수면']\n",
            "['옥수수면', '양고기', '숙주', '소세지', '분모자', '마라']\n",
            "['마라', '분모자', '소세지', '숙주', '양고기', '옥수수면']\n",
            "['마라', '분모자', '소세지', '숙주', '양고기', '옥수수면']\n",
            "None\n",
            "None\n"
          ]
        }
      ]
    },
    {
      "cell_type": "code",
      "source": [
        "#리스트의 매직 까도까도 나온다 양파같은 리스트\n",
        "#2차원 리스트에 대해서도 공부는 필수 !!!\n",
        "\n",
        "양파같은=[[2,0],[3,0]]\n",
        "양파같은\n",
        "\n",
        "print(양파같은[0])\n",
        "print(양파같은[1])\n",
        "#3을 출력해줘\n",
        "print(양파같은[1][0])\n",
        "#0을 출력해줘\n",
        "print(양파같은[0][1])\n",
        "\n",
        "양파같은.append([4,1])\n",
        "양파같은.insert(0,[9,5])\n",
        "양파같은"
      ],
      "metadata": {
        "colab": {
          "base_uri": "https://localhost:8080/"
        },
        "id": "SWZe0k3KySCa",
        "outputId": "4eefd18f-51a2-433c-d8cb-d8fa38f10fb1"
      },
      "execution_count": null,
      "outputs": [
        {
          "output_type": "stream",
          "name": "stdout",
          "text": [
            "[2, 0]\n",
            "[3, 0]\n",
            "3\n",
            "0\n"
          ]
        },
        {
          "output_type": "execute_result",
          "data": {
            "text/plain": [
              "[[9, 5], [2, 0], [3, 0], [4, 1]]"
            ]
          },
          "metadata": {},
          "execution_count": 93
        }
      ]
    },
    {
      "cell_type": "code",
      "source": [
        "#붕어빵"
      ],
      "metadata": {
        "id": "K2bYeFJb0s5O"
      },
      "execution_count": null,
      "outputs": []
    }
  ]
}