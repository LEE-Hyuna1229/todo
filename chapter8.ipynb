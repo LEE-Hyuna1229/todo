{
  "nbformat": 4,
  "nbformat_minor": 0,
  "metadata": {
    "colab": {
      "provenance": [],
      "authorship_tag": "ABX9TyOfe0RjkaP+3TTFeGX2Dk4z",
      "include_colab_link": true
    },
    "kernelspec": {
      "name": "python3",
      "display_name": "Python 3"
    },
    "language_info": {
      "name": "python"
    }
  },
  "cells": [
    {
      "cell_type": "markdown",
      "metadata": {
        "id": "view-in-github",
        "colab_type": "text"
      },
      "source": [
        "<a href=\"https://colab.research.google.com/github/LEE-Hyuna1229/todo/blob/main/%08chapter8.ipynb\" target=\"_parent\"><img src=\"https://colab.research.google.com/assets/colab-badge.svg\" alt=\"Open In Colab\"/></a>"
      ]
    },
    {
      "cell_type": "code",
      "execution_count": null,
      "metadata": {
        "colab": {
          "base_uri": "https://localhost:8080/"
        },
        "id": "6bldu49cuXas",
        "outputId": "4e987b6f-dcdf-429d-bf5a-99e2c6966d12"
      },
      "outputs": [
        {
          "output_type": "execute_result",
          "data": {
            "text/plain": [
              "True"
            ]
          },
          "metadata": {},
          "execution_count": 5
        }
      ],
      "source": [
        "#bool의 쇼타임이 시작됩니다.\n",
        "#주의할점\n",
        "3>1\n",
        "3 == 1\n",
        "3 == 3\n",
        "20 != 5"
      ]
    },
    {
      "cell_type": "code",
      "source": [
        "\"python\"==\"Python\"\n",
        "\"python\"==\"Python\""
      ],
      "metadata": {
        "colab": {
          "base_uri": "https://localhost:8080/"
        },
        "id": "JphQbeiowTjD",
        "outputId": "cce93116-82f9-4c87-8d03-f59688d9232d"
      },
      "execution_count": null,
      "outputs": [
        {
          "output_type": "execute_result",
          "data": {
            "text/plain": [
              "False"
            ]
          },
          "metadata": {},
          "execution_count": 9
        }
      ]
    },
    {
      "cell_type": "code",
      "source": [
        "3.0 is 3\n",
        "3.0==3\n",
        "\n",
        "print(id(3.0))\n",
        "print(id(3))"
      ],
      "metadata": {
        "colab": {
          "base_uri": "https://localhost:8080/"
        },
        "id": "5hKLL-2FwXLE",
        "outputId": "3c71cc5a-eb40-4d47-bcce-a7164092b539"
      },
      "execution_count": null,
      "outputs": [
        {
          "output_type": "stream",
          "name": "stdout",
          "text": [
            "132053775512144\n",
            "132054270099760\n"
          ]
        },
        {
          "output_type": "stream",
          "name": "stderr",
          "text": [
            "<>:1: SyntaxWarning: \"is\" with a literal. Did you mean \"==\"?\n",
            "<>:1: SyntaxWarning: \"is\" with a literal. Did you mean \"==\"?\n",
            "<ipython-input-12-7575d9bb05be>:1: SyntaxWarning: \"is\" with a literal. Did you mean \"==\"?\n",
            "  3.0 is 3\n"
          ]
        }
      ]
    },
    {
      "cell_type": "code",
      "source": [
        "미션: 값 비교에는 is 를 쓰면 안되는데 그 이유를 찾아서 기술 블로그애 작성해보세요."
      ],
      "metadata": {
        "id": "2HdaU5AMxVpt"
      },
      "execution_count": null,
      "outputs": []
    },
    {
      "cell_type": "code",
      "source": [
        "True and True\n",
        "True and False\n",
        "False and False\n",
        "False and Ture"
      ],
      "metadata": {
        "colab": {
          "base_uri": "https://localhost:8080/"
        },
        "id": "9NYjSLGmZS0C",
        "outputId": "51f8d38d-1479-4ffe-8deb-7ba40c8397da"
      },
      "execution_count": null,
      "outputs": [
        {
          "output_type": "execute_result",
          "data": {
            "text/plain": [
              "False"
            ]
          },
          "metadata": {},
          "execution_count": 4
        }
      ]
    },
    {
      "cell_type": "code",
      "source": [
        "True or True\n",
        "True or False\n",
        "False or False\n",
        "False or True"
      ],
      "metadata": {
        "colab": {
          "base_uri": "https://localhost:8080/"
        },
        "id": "2AFzF0cpZXLv",
        "outputId": "49c2b787-5aae-481f-8a4c-57125fbf9517"
      },
      "execution_count": null,
      "outputs": [
        {
          "output_type": "execute_result",
          "data": {
            "text/plain": [
              "True"
            ]
          },
          "metadata": {},
          "execution_count": 9
        }
      ]
    },
    {
      "cell_type": "code",
      "source": [
        "not True\n",
        "not False"
      ],
      "metadata": {
        "colab": {
          "base_uri": "https://localhost:8080/"
        },
        "id": "CeO7DJz1bVwt",
        "outputId": "640ae129-4aa8-445a-99ec-95451b015c80"
      },
      "execution_count": null,
      "outputs": [
        {
          "output_type": "execute_result",
          "data": {
            "text/plain": [
              "True"
            ]
          },
          "metadata": {},
          "execution_count": 12
        }
      ]
    },
    {
      "cell_type": "code",
      "source": [
        "10==12 or 6!=2\n",
        "2>5 and 7==7\n",
        "not 14<=15\n",
        "not 7 is 7.0"
      ],
      "metadata": {
        "colab": {
          "base_uri": "https://localhost:8080/"
        },
        "id": "1ilpCKV1bbVG",
        "outputId": "3e555789-eb3f-4b85-fe59-efd1a25c5f36"
      },
      "execution_count": null,
      "outputs": [
        {
          "output_type": "stream",
          "name": "stderr",
          "text": [
            "<>:4: SyntaxWarning: \"is not\" with a literal. Did you mean \"!=\"?\n",
            "<>:4: SyntaxWarning: \"is not\" with a literal. Did you mean \"!=\"?\n",
            "<ipython-input-17-27a8bd8bf9b3>:4: SyntaxWarning: \"is not\" with a literal. Did you mean \"!=\"?\n",
            "  not 7 is 7.0\n"
          ]
        },
        {
          "output_type": "execute_result",
          "data": {
            "text/plain": [
              "True"
            ]
          },
          "metadata": {},
          "execution_count": 17
        }
      ]
    },
    {
      "cell_type": "code",
      "source": [
        "bool(\"힘들어요 여러분\")"
      ],
      "metadata": {
        "colab": {
          "base_uri": "https://localhost:8080/"
        },
        "id": "Xnw5N6WJfDeM",
        "outputId": "96e5303c-937b-4e0a-86fc-b55b7588bb7a"
      },
      "execution_count": null,
      "outputs": [
        {
          "output_type": "execute_result",
          "data": {
            "text/plain": [
              "True"
            ]
          },
          "metadata": {},
          "execution_count": 20
        }
      ]
    },
    {
      "cell_type": "code",
      "source": [
        "print(False and \"오즈\")\n",
        "print(True or \"힘들어요\")\n",
        "print(True and \"힘들어요\")"
      ],
      "metadata": {
        "colab": {
          "base_uri": "https://localhost:8080/"
        },
        "id": "bg8tbg7_fNGp",
        "outputId": "5503d19f-5fe1-47f9-9200-342713563294"
      },
      "execution_count": null,
      "outputs": [
        {
          "output_type": "stream",
          "name": "stdout",
          "text": [
            "False\n",
            "True\n",
            "힘들어요\n"
          ]
        }
      ]
    },
    {
      "cell_type": "code",
      "source": [
        "x=3\n",
        "y=7\n",
        "#x=x+y\n",
        "#print(x)\n",
        "#z=x//2\n",
        "#print(z)\n",
        "y+=x\n",
        "print(y)\n",
        "print(++x)\n",
        "print(z^x)"
      ],
      "metadata": {
        "colab": {
          "base_uri": "https://localhost:8080/"
        },
        "id": "y7ycf6d5fZNS",
        "outputId": "a9c33287-10aa-49c0-9f6c-797d6aae7a3b"
      },
      "execution_count": null,
      "outputs": [
        {
          "output_type": "stream",
          "name": "stdout",
          "text": [
            "10\n",
            "3\n",
            "2\n"
          ]
        }
      ]
    },
    {
      "cell_type": "code",
      "source": [
        "int(13/2)"
      ],
      "metadata": {
        "colab": {
          "base_uri": "https://localhost:8080/"
        },
        "id": "v1XwwdW3m9tb",
        "outputId": "2d0c059e-7caf-4861-ec11-e6a184f58076"
      },
      "execution_count": null,
      "outputs": [
        {
          "output_type": "execute_result",
          "data": {
            "text/plain": [
              "6"
            ]
          },
          "metadata": {},
          "execution_count": 40
        }
      ]
    },
    {
      "cell_type": "code",
      "source": [
        "퀴즈 = \"스님이 공중에 뜬다를 4글자로 말하면? 어중이떠중이\"\n",
        "print(퀴즈[22:])\n",
        "print(퀴즈[22:])\n",
        "print(퀴즈[:28])"
      ],
      "metadata": {
        "colab": {
          "base_uri": "https://localhost:8080/"
        },
        "id": "Fq1X2KMXnCY3",
        "outputId": "9b161947-4b12-4710-d427-2091400484b3"
      },
      "execution_count": null,
      "outputs": [
        {
          "output_type": "stream",
          "name": "stdout",
          "text": [
            "어중이떠중이\n",
            "어중이떠중이\n",
            "스님이 공중에 뜬다를 4글자로 말하면? 어중이떠중이\n"
          ]
        }
      ]
    },
    {
      "cell_type": "code",
      "source": [
        "과일=\"apple\"\n",
        "과일.count(\"p\")\n",
        "과일.index(\"p\")\n",
        "#count(과일,\"p\")"
      ],
      "metadata": {
        "colab": {
          "base_uri": "https://localhost:8080/"
        },
        "id": "4xfoelH0oZvE",
        "outputId": "405991b0-7633-452b-c74d-9046f2a9db6d"
      },
      "execution_count": null,
      "outputs": [
        {
          "output_type": "execute_result",
          "data": {
            "text/plain": [
              "1"
            ]
          },
          "metadata": {},
          "execution_count": 47
        }
      ]
    },
    {
      "cell_type": "code",
      "source": [
        "라라랜드 =  \"사람들은 다른 사람들의 열정에 끌리게 되어있어 자신이 잊은 걸 상기시켜 주니까\"\n",
        "len(라라랜드)\n",
        "#length(라라랜드) 잘못된 것 length는 정의되어 있지 않음."
      ],
      "metadata": {
        "colab": {
          "base_uri": "https://localhost:8080/"
        },
        "id": "U_vHR6YsoTvJ",
        "outputId": "4a86efd3-4049-4075-bf89-84c5996019d5"
      },
      "execution_count": null,
      "outputs": [
        {
          "output_type": "execute_result",
          "data": {
            "text/plain": [
              "43"
            ]
          },
          "metadata": {},
          "execution_count": 50
        }
      ]
    },
    {
      "cell_type": "code",
      "source": [
        "우영우 = \"기러기토마토스위스역삼역\"\n",
        "print(우영우[::-1])"
      ],
      "metadata": {
        "colab": {
          "base_uri": "https://localhost:8080/"
        },
        "id": "ADt6cybJoO8U",
        "outputId": "bdb2405a-86e4-484a-f41c-d37f890cb2cb"
      },
      "execution_count": null,
      "outputs": [
        {
          "output_type": "stream",
          "name": "stdout",
          "text": [
            "역삼역스위스토마토기러기\n"
          ]
        }
      ]
    },
    {
      "cell_type": "code",
      "source": [
        "2*3 is 3+3\n",
        "8 is 4*2.0"
      ],
      "metadata": {
        "colab": {
          "base_uri": "https://localhost:8080/"
        },
        "id": "JKNYAZ__qF7u",
        "outputId": "5fc85697-2860-420d-a0ee-938d15522d5b"
      },
      "execution_count": null,
      "outputs": [
        {
          "output_type": "stream",
          "name": "stderr",
          "text": [
            "<>:1: SyntaxWarning: \"is\" with a literal. Did you mean \"==\"?\n",
            "<>:2: SyntaxWarning: \"is\" with a literal. Did you mean \"==\"?\n",
            "<>:1: SyntaxWarning: \"is\" with a literal. Did you mean \"==\"?\n",
            "<>:2: SyntaxWarning: \"is\" with a literal. Did you mean \"==\"?\n",
            "<ipython-input-54-69c4910f17d2>:1: SyntaxWarning: \"is\" with a literal. Did you mean \"==\"?\n",
            "  2*3 is 3+3\n",
            "<ipython-input-54-69c4910f17d2>:2: SyntaxWarning: \"is\" with a literal. Did you mean \"==\"?\n",
            "  8 is 4*2.0\n"
          ]
        },
        {
          "output_type": "execute_result",
          "data": {
            "text/plain": [
              "False"
            ]
          },
          "metadata": {},
          "execution_count": 54
        }
      ]
    },
    {
      "cell_type": "code",
      "source": [
        "x=10\n",
        "y=20\n",
        "not y!=20 and x>5\n",
        "x>=10 and y<30\n",
        "not x==10\n",
        "x==10 or y==10\n",
        "y!=20 or x!=10"
      ],
      "metadata": {
        "colab": {
          "base_uri": "https://localhost:8080/"
        },
        "id": "DAOXgvf-rHGX",
        "outputId": "aa2034e3-f96a-433e-8241-3b89f485ad49"
      },
      "execution_count": null,
      "outputs": [
        {
          "output_type": "execute_result",
          "data": {
            "text/plain": [
              "False"
            ]
          },
          "metadata": {},
          "execution_count": 59
        }
      ]
    },
    {
      "cell_type": "code",
      "source": [
        "print('치맥'and True)\n",
        "print(True and '치맥')"
      ],
      "metadata": {
        "colab": {
          "base_uri": "https://localhost:8080/"
        },
        "id": "BgcTCW2ir-iL",
        "outputId": "5485f3e7-891f-45cc-8457-f15219404ea4"
      },
      "execution_count": null,
      "outputs": [
        {
          "output_type": "stream",
          "name": "stdout",
          "text": [
            "True\n",
            "치맥\n"
          ]
        }
      ]
    },
    {
      "cell_type": "code",
      "source": [],
      "metadata": {
        "id": "KgKglidtsxXf"
      },
      "execution_count": null,
      "outputs": []
    },
    {
      "cell_type": "code",
      "source": [],
      "metadata": {
        "id": "MxxYJXv3rDG0"
      },
      "execution_count": null,
      "outputs": []
    }
  ]
}