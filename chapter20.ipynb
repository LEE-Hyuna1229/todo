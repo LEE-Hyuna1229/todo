{
  "nbformat": 4,
  "nbformat_minor": 0,
  "metadata": {
    "colab": {
      "provenance": [],
      "authorship_tag": "ABX9TyPaAXTswV9zqSKe5zwdvG0b",
      "include_colab_link": true
    },
    "kernelspec": {
      "name": "python3",
      "display_name": "Python 3"
    },
    "language_info": {
      "name": "python"
    }
  },
  "cells": [
    {
      "cell_type": "markdown",
      "metadata": {
        "id": "view-in-github",
        "colab_type": "text"
      },
      "source": [
        "<a href=\"https://colab.research.google.com/github/LEE-Hyuna1229/todo/blob/main/chapter20.ipynb\" target=\"_parent\"><img src=\"https://colab.research.google.com/assets/colab-badge.svg\" alt=\"Open In Colab\"/></a>"
      ]
    },
    {
      "cell_type": "code",
      "execution_count": 2,
      "metadata": {
        "colab": {
          "base_uri": "https://localhost:8080/"
        },
        "id": "Ha7cD_pf94lf",
        "outputId": "66ea52dd-a369-409a-fa02-684f2f62c31e"
      },
      "outputs": [
        {
          "output_type": "stream",
          "name": "stdout",
          "text": [
            "나눌 숫자를 입력하세요안녕\n",
            "예외가 발생했습니다.\n"
          ]
        }
      ],
      "source": [
        "#예외코드 작성\n",
        "\n",
        "try:\n",
        "    x =int(input('나눌 숫자를 입력하세요'))\n",
        "    y = 10/x\n",
        "    print(y)\n",
        "except:\n",
        "    print(\"예외가 발생했습니다.\")"
      ]
    },
    {
      "cell_type": "code",
      "source": [
        "y = [10, 20, 30]\n",
        "try:\n",
        "    index, x = map(int, input('나눌 숫자를 입력하세요.:').split(','))\n",
        "    print(y[index]/x)\n",
        "#except:\n",
        "#    print('오류입니다.')\n",
        "except ZeroDivisionError:    #이런 Error를 나타내는 다양한 코드들이 존재한다.\n",
        "    print(\"숫자를 0으로 나눌 수 없습니다.\")\n",
        "except IndexError:\n",
        "    print(\"잘못된 인덱스입니다.\")"
      ],
      "metadata": {
        "colab": {
          "base_uri": "https://localhost:8080/"
        },
        "id": "MsKvBp10UBMo",
        "outputId": "0c6fd619-5c2e-4dc8-e5ea-ac5d78bf4f1a"
      },
      "execution_count": 8,
      "outputs": [
        {
          "output_type": "stream",
          "name": "stdout",
          "text": [
            "나눌 숫자를 입력하세요.:3,0\n",
            "잘못된 인덱스입니다.\n"
          ]
        }
      ]
    },
    {
      "cell_type": "code",
      "source": [
        "try:\n",
        "    x =int(input('나눌 숫자를 입력하세요'))\n",
        "    y = 10/x\n",
        "    #raise -결과나와도 애를 만나서 출력되지 못하면 예외 처리됨.\n",
        "    print(y)\n",
        "except:\n",
        "    print(\"예외가 발생했습니다.\")\n",
        "else:\n",
        "    print(y, \"성공 하셨습니다.\") # else는 제대로 실행되었을 때 작동하는 코드.\n",
        "finally:\n",
        "    print(\"코드 실행이 종료되었습니다.\") #finally는 무저건 실행되는 코드."
      ],
      "metadata": {
        "colab": {
          "base_uri": "https://localhost:8080/"
        },
        "id": "13qseqYUVUs7",
        "outputId": "b1ed2ae4-f0dc-470e-fd11-dcd25f6bbd20"
      },
      "execution_count": 12,
      "outputs": [
        {
          "output_type": "stream",
          "name": "stdout",
          "text": [
            "나눌 숫자를 입력하세요hi\n",
            "예외가 발생했습니다.\n",
            "코드 실행이 종료되었습니다.\n"
          ]
        }
      ]
    }
  ]
}