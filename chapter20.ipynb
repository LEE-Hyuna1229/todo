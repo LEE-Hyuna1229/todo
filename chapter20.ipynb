{
  "nbformat": 4,
  "nbformat_minor": 0,
  "metadata": {
    "colab": {
      "provenance": [],
      "authorship_tag": "ABX9TyPVeIHY0WiWZFCt+D6kNmj8",
      "include_colab_link": true
    },
    "kernelspec": {
      "name": "python3",
      "display_name": "Python 3"
    },
    "language_info": {
      "name": "python"
    }
  },
  "cells": [
    {
      "cell_type": "markdown",
      "metadata": {
        "id": "view-in-github",
        "colab_type": "text"
      },
      "source": [
        "<a href=\"https://colab.research.google.com/github/LEE-Hyuna1229/todo/blob/main/chapter20.ipynb\" target=\"_parent\"><img src=\"https://colab.research.google.com/assets/colab-badge.svg\" alt=\"Open In Colab\"/></a>"
      ]
    },
    {
      "cell_type": "code",
      "execution_count": 2,
      "metadata": {
        "colab": {
          "base_uri": "https://localhost:8080/"
        },
        "id": "Ha7cD_pf94lf",
        "outputId": "66ea52dd-a369-409a-fa02-684f2f62c31e"
      },
      "outputs": [
        {
          "output_type": "stream",
          "name": "stdout",
          "text": [
            "나눌 숫자를 입력하세요안녕\n",
            "예외가 발생했습니다.\n"
          ]
        }
      ],
      "source": [
        "#예외코드 작성\n",
        "\n",
        "try:\n",
        "    x =int(input('나눌 숫자를 입력하세요'))\n",
        "    y = 10/x\n",
        "    print(y)\n",
        "except:\n",
        "    print(\"예외가 발생했습니다.\")"
      ]
    },
    {
      "cell_type": "code",
      "source": [
        "y = [10, 20, 30]\n",
        "try:\n",
        "    index, x = map(int, input('나눌 숫자를 입력하세요.:').split(','))\n",
        "    print(y[index]/x)\n",
        "#except:\n",
        "#    print('오류입니다.')\n",
        "except ZeroDivisionError:    #이런 Error를 나타내는 다양한 코드들이 존재한다.\n",
        "    print(\"숫자를 0으로 나눌 수 없습니다.\")\n",
        "except IndexError:\n",
        "    print(\"잘못된 인덱스입니다.\")"
      ],
      "metadata": {
        "colab": {
          "base_uri": "https://localhost:8080/"
        },
        "id": "MsKvBp10UBMo",
        "outputId": "0c6fd619-5c2e-4dc8-e5ea-ac5d78bf4f1a"
      },
      "execution_count": 8,
      "outputs": [
        {
          "output_type": "stream",
          "name": "stdout",
          "text": [
            "나눌 숫자를 입력하세요.:3,0\n",
            "잘못된 인덱스입니다.\n"
          ]
        }
      ]
    },
    {
      "cell_type": "code",
      "source": [
        ""
      ],
      "metadata": {
        "id": "13qseqYUVUs7"
      },
      "execution_count": null,
      "outputs": []
    }
  ]
}