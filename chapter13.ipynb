{
  "nbformat": 4,
  "nbformat_minor": 0,
  "metadata": {
    "colab": {
      "provenance": [],
      "authorship_tag": "ABX9TyORoiDta0nw4BUcKYwU2z8f",
      "include_colab_link": true
    },
    "kernelspec": {
      "name": "python3",
      "display_name": "Python 3"
    },
    "language_info": {
      "name": "python"
    }
  },
  "cells": [
    {
      "cell_type": "markdown",
      "metadata": {
        "id": "view-in-github",
        "colab_type": "text"
      },
      "source": [
        "<a href=\"https://colab.research.google.com/github/LEE-Hyuna1229/todo/blob/main/%08chapter13.ipynb\" target=\"_parent\"><img src=\"https://colab.research.google.com/assets/colab-badge.svg\" alt=\"Open In Colab\"/></a>"
      ]
    },
    {
      "cell_type": "markdown",
      "source": [
        "##시퀀스 자료형\n",
        "* 문자열 :\n",
        "      * 시퀀스형에서 사용 할 수 있는 메소드(count(),index(),split() 등...)\n",
        "      * 슬라이싱 ([:] [::])\n",
        "      * 요소들로 이루어져 가능했던 기능들 (요소 합치기, 요소 찾기 등등)\n",
        "*문자열 :\n",
        "      * 시퀀스형에서 사용 할 수 있는 메소드(count(),index(),split() 등...)\n",
        "      * 슬라이싱 ([:] [::])\n",
        "      * 요소들로 이루어져 가능했던 기능들 (요소 합치기, 요소 찾기 등등)\n",
        "      * list를 지원하는 다양한 메소드(append(), insert(), del, sort(), reverse() )\n",
        "*tuple :\n",
        "      * 리스트처럼 요소를 일렬로 저장하지만 안에 저장된요소를 변경, 추가, 삭제 할 수 없다.\n",
        "      * 값을 추가, 삭제, 변경할 수 없기 때문에, 사용하지 못하는 메소드가 많다.\n",
        "      * tuple의 생성 방법은 tuple = 값, 값 또는\n",
        "      tuple=(값,값)\n",
        "      * 그리고 엄청난 비밀이 숨겨져 있어요\n",
        "      * 튜플은 소괄호 입니다.\n",
        "*dict(딕셔너리)\n",
        "      * list, tuple, str, range (범위안에 연속된 데이터를 만드는 시퀀스였습니다.)\n",
        "      공통적인 특징이 있어요. 데이터의 연관성이 없습니다.\n",
        "      * dict는 여러개의 값이 일렬로 정렬되면서도 값끼리의 연관성이 존재\n",
        "      (예시 : 게임캐릭터 힘:30, 지능:20, 체력:40, 민첩: 있다 90)\n",
        "      * dict의 생성 방법은 중괄호 입니다.\n",
        "* set\n",
        "      * set은 수학의 집합을 의미합니다.\n",
        "      * 딕셔너리와 같이 순서가 없습니다.\n",
        "      * 값의 중복을 허락하지 않습니다. 아주 중요합니다.\n",
        "      * set의 생성 방법도 중괄호 입니다."
      ],
      "metadata": {
        "id": "iKwyN4u6d5XJ"
      }
    },
    {
      "cell_type": "code",
      "execution_count": 8,
      "metadata": {
        "colab": {
          "base_uri": "https://localhost:8080/"
        },
        "id": "NAtF5nojdsyD",
        "outputId": "c02a9b25-6210-4e3b-ef4c-3922f24dee98"
      },
      "outputs": [
        {
          "output_type": "stream",
          "name": "stdout",
          "text": [
            "{'대파', '배추', '당근', '양파'}\n"
          ]
        },
        {
          "output_type": "execute_result",
          "data": {
            "text/plain": [
              "{}"
            ]
          },
          "metadata": {},
          "execution_count": 8
        }
      ],
      "source": [
        "채소 = {\"당근\",\"배추\",\"대파\",\"양파\"} #dict는 키:값 으로 나열 한 중괄호였음.\n",
        "type(채소)\n",
        "print(채소)\n",
        "\n",
        "#순서가 없고, 출력하면 요소가 다르게 나오는 것도 특징입니다.출력할 때 마다 다르게 나옴.\n",
        "세트 = set()\n",
        "세트\n",
        "\n",
        "세트2 = {}\n",
        "세트2  #이렇게 두가지 방법으로 세트를 선언, 만들 수 있음."
      ]
    },
    {
      "cell_type": "code",
      "source": [
        "# 중복을 제일 싫어하는 set\n",
        "\n",
        "사과_리스트 = list(\"apple\")\n",
        "print(사과_리스트)\n",
        "사과_튜플 = tuple(\"apple\")\n",
        "print(사과_튜플)\n",
        "사과_set = set(\"apple\")\n",
        "print(사과_set) #신기하네"
      ],
      "metadata": {
        "colab": {
          "base_uri": "https://localhost:8080/"
        },
        "id": "UhabBUlwfIDA",
        "outputId": "d1ab17a3-eff5-48e5-9faa-b7721642641e"
      },
      "execution_count": 9,
      "outputs": [
        {
          "output_type": "stream",
          "name": "stdout",
          "text": [
            "['a', 'p', 'p', 'l', 'e']\n",
            "('a', 'p', 'p', 'l', 'e')\n",
            "{'a', 'e', 'l', 'p'}\n"
          ]
        }
      ]
    },
    {
      "cell_type": "code",
      "source": [
        "# set() 자료형의 데이터 추가, 삭제, 변경\n",
        "채소\n",
        "\n",
        "#set() 함수의 데이터 삽입 -2가지 존재\n",
        "채소.add(\"토마토\")\n",
        "채소\n",
        "\n",
        "채소.update(\"깻잎\")\n",
        "채소 #update로 넣으면 add와 달리 따로따로 분리됨.\n",
        "\n",
        "채소.update(\"오이\")\n",
        "채소\n",
        "\n",
        "#set() 힘수의 데이터 삭제 -3가지 존재\n",
        "채소.remove(\"잎\")\n",
        "채소 #한번더 삭제하면 오류뜸\n",
        "\n",
        "채소.discard(\"깻\")\n",
        "채소 #한번더 삭재해도 오류 안뜨고 없으면 말어 함.\n",
        "\n",
        "채소.pop() #랜던으로 삭제해서 반환(삭제한것을 알려줌) 다른언어에서는 끝에 것을 삭제함\n",
        "채소"
      ],
      "metadata": {
        "colab": {
          "base_uri": "https://localhost:8080/"
        },
        "id": "W_TlK1PJgjG1",
        "outputId": "d0a14ddf-8212-434a-d208-5df788b2a4eb"
      },
      "execution_count": 26,
      "outputs": [
        {
          "output_type": "execute_result",
          "data": {
            "text/plain": [
              "{'당근', '대파', '오', '이', '토마토'}"
            ]
          },
          "metadata": {},
          "execution_count": 26
        }
      ]
    },
    {
      "cell_type": "code",
      "source": [
        "채소 = {\"당근\", \"배추\",\"대파\",\"양파\"}\n",
        "반환된_채소 = 채소.pop()\n",
        "print(f'{반환된_채소}는 내다버린 채소입니다.')\n",
        "채소 #반환된 채소가 삭제되지 않고 담겨있는 것임."
      ],
      "metadata": {
        "colab": {
          "base_uri": "https://localhost:8080/"
        },
        "id": "1MOQkZZMjTeY",
        "outputId": "d7681de4-0bb0-4f90-ece4-6092d80c90e0"
      },
      "execution_count": 28,
      "outputs": [
        {
          "output_type": "stream",
          "name": "stdout",
          "text": [
            "대파는 내다버린 채소입니다.\n"
          ]
        },
        {
          "output_type": "execute_result",
          "data": {
            "text/plain": [
              "{'당근', '배추', '양파'}"
            ]
          },
          "metadata": {},
          "execution_count": 28
        }
      ]
    },
    {
      "cell_type": "code",
      "source": [
        "# set = 집합, 합집합, 교집합, 차집합 기타 등등 ~!\n",
        "# 대표적으로 합집합, 교집합, 차집합\n",
        "\n",
        "채소1 = {\"당근\", \"양파\",\"오이\",\"배추\"}\n",
        "채소2 = {\"양파\", \"오이\",\"대파\",\"가지\"}\n",
        "\n",
        "#합집합(union) #중복된 요소는 삭제하고 보여줌.\n",
        "채소1 | 채소2\n",
        "set.union(채소1,채소2)\n",
        "\n",
        "#교집합(intersection)\n",
        "채소1 & 채소2\n",
        "set.intersection(채소1, 채소2) #짧은 &축약 문자일 경우 못보고 지나갈 경우도 있으니 길개 쓰는 것도 알아야함.\n",
        "                             #외울 필요 없음. 교집합 뭐썼지 할 떄 구글링으로 찾아보면 됨.\n",
        "\n",
        "#차집합(difference)\n",
        "채소1 - 채소2 #뺴는 기호와 비슷 그래서 문제\n",
        "set.difference(채소1,채소2)"
      ],
      "metadata": {
        "colab": {
          "base_uri": "https://localhost:8080/"
        },
        "id": "XrX1-iHyg2tg",
        "outputId": "b1e62ca2-ef1d-4407-cb4f-193b9b82d334"
      },
      "execution_count": 34,
      "outputs": [
        {
          "output_type": "execute_result",
          "data": {
            "text/plain": [
              "{'당근', '배추'}"
            ]
          },
          "metadata": {},
          "execution_count": 34
        }
      ]
    },
    {
      "cell_type": "markdown",
      "source": [
        "정리는 나에게 하는 말이 아니라 누군가에서 설명할 수 있을 정도의 자료를 만들어야 하고 내용은 누군가를 이해시킬 수 있을 정도로 상세하게 적어야 한다.\n",
        "그리고 면접에서는 한두줄로 설명할 수 있게 해야한다.\n",
        "\n",
        "자료형 지금까지 한 내용들 정리해보기"
      ],
      "metadata": {
        "id": "lyWykOHDnFwt"
      }
    }
  ]
}