{
  "nbformat": 4,
  "nbformat_minor": 0,
  "metadata": {
    "colab": {
      "provenance": [],
      "authorship_tag": "ABX9TyM0W8+Cl1CYTzevm+9bMQLM",
      "include_colab_link": true
    },
    "kernelspec": {
      "name": "python3",
      "display_name": "Python 3"
    },
    "language_info": {
      "name": "python"
    }
  },
  "cells": [
    {
      "cell_type": "markdown",
      "metadata": {
        "id": "view-in-github",
        "colab_type": "text"
      },
      "source": [
        "<a href=\"https://colab.research.google.com/github/LEE-Hyuna1229/todo/blob/main/chapter11.ipynb\" target=\"_parent\"><img src=\"https://colab.research.google.com/assets/colab-badge.svg\" alt=\"Open In Colab\"/></a>"
      ]
    },
    {
      "cell_type": "markdown",
      "source": [
        "##시퀀스 자료형\n",
        "* 문자열 :\n",
        "      * 시퀀스형에서 사용 할 수 있는 메소드(count(),index(),split() 등...)\n",
        "      * 슬라이싱 ([:] [::])\n",
        "      * 요소들로 이루어져 가능했던 기능들 (요소 합치기, 요소 찾기 등등)\n",
        "*문자열 :\n",
        "      * 시퀀스형에서 사용 할 수 있는 메소드(count(),index(),split() 등...)\n",
        "      * 슬라이싱 ([:] [::])\n",
        "      * 요소들로 이루어져 가능했던 기능들 (요소 합치기, 요소 찾기 등등)\n",
        "      * list를 지원하는 다양한 메소드(append(), insert(), del, sort(), reverse() )\n",
        "*tuple :\n",
        "      * 리스트처럼 요소를 일렬로 저장하지만 안에 저장된요소를 변경, 추가, 삭제 할 수 없다.\n",
        "      * 값을 추가, 삭제, 변경할 수 없기 때문에, 사용하지 못하는 메소드가 많다.\n",
        "      * tuple의 생성 방법은 tuple = 값, 값 또는\n",
        "      tuple=(값,값)\n",
        "      * 그리고 엄청난 비밀이 숨겨져 있어요\n",
        "      * 튜플은 소괄호 입니다.\n"
      ],
      "metadata": {
        "id": "WRVfPFda3YID"
      }
    },
    {
      "cell_type": "code",
      "execution_count": null,
      "metadata": {
        "colab": {
          "base_uri": "https://localhost:8080/"
        },
        "id": "x4K8MCc10k2R",
        "outputId": "3b320a69-12e5-41de-d838-825c5076da6c"
      },
      "outputs": [
        {
          "output_type": "stream",
          "name": "stdout",
          "text": [
            "(1, '이', 3.0)\n",
            "<class 'tuple'>\n",
            "<class 'tuple'>\n",
            "(1, '이', 3)\n",
            "<class 'tuple'>\n",
            "(1,)\n",
            "<class 'int'>\n",
            "1\n"
          ]
        }
      ],
      "source": [
        "# 리스트 [] , 튜플은 소괄호 ()\n",
        "튜플 = (1, \"이\", 3.0)\n",
        "print(튜플)\n",
        "print(type(튜플))\n",
        "\n",
        "# 리스트=[1,\"이\",3.0]\n",
        "# print(type(리스트))\n",
        "# print(리스트)\n",
        "\n",
        "튜플2 = 1, '이', 3 #튜플은 패킹과 언패킹 모두 허용, 튜플만 가능\n",
        "print(type(튜플2))\n",
        "print(튜플2)\n",
        "\n",
        "#하나의 값만 들어있는 튜플만 만들고 싶다면?\n",
        "튜플_솔로 = (1,) #솔로인데도 콤마를 만든다.\n",
        "print(type(튜플_솔로))\n",
        "print(튜플_솔로)\n",
        "\n",
        "튜플_예스 = (1) #int 가 되버림\n",
        "print(type(튜플_예스))\n",
        "print(튜플_예스)\n"
      ]
    },
    {
      "cell_type": "markdown",
      "source": [
        "소괄호로 감싸져 나오는 것 확인."
      ],
      "metadata": {
        "id": "_l4Xysus85xs"
      }
    },
    {
      "cell_type": "code",
      "source": [
        "# 값 추가, 삭제, 변경 불가...진실일까?\n",
        "print(튜플)\n",
        "print(dir(튜플))\n",
        "print(dir(list))\n",
        "\n",
        "튜플_리스트화 = list(튜플) #이렇게 하면 튜플안에 값들을 리스트화 함. 항상 type 확인 필요\n",
        "print(type(튜플_리스트화))"
      ],
      "metadata": {
        "colab": {
          "base_uri": "https://localhost:8080/"
        },
        "id": "bQQBSgQb_Ymp",
        "outputId": "ecaf0cd9-0880-48c3-9f5d-03b8d6d3c019"
      },
      "execution_count": null,
      "outputs": [
        {
          "output_type": "stream",
          "name": "stdout",
          "text": [
            "(1, '이', 3.0)\n",
            "['__add__', '__class__', '__class_getitem__', '__contains__', '__delattr__', '__dir__', '__doc__', '__eq__', '__format__', '__ge__', '__getattribute__', '__getitem__', '__getnewargs__', '__gt__', '__hash__', '__init__', '__init_subclass__', '__iter__', '__le__', '__len__', '__lt__', '__mul__', '__ne__', '__new__', '__reduce__', '__reduce_ex__', '__repr__', '__rmul__', '__setattr__', '__sizeof__', '__str__', '__subclasshook__', 'count', 'index']\n",
            "['__add__', '__class__', '__class_getitem__', '__contains__', '__delattr__', '__delitem__', '__dir__', '__doc__', '__eq__', '__format__', '__ge__', '__getattribute__', '__getitem__', '__gt__', '__hash__', '__iadd__', '__imul__', '__init__', '__init_subclass__', '__iter__', '__le__', '__len__', '__lt__', '__mul__', '__ne__', '__new__', '__reduce__', '__reduce_ex__', '__repr__', '__reversed__', '__rmul__', '__setattr__', '__setitem__', '__sizeof__', '__str__', '__subclasshook__', 'append', 'clear', 'copy', 'count', 'extend', 'index', 'insert', 'pop', 'remove', 'reverse', 'sort']\n",
            "<class 'list'>\n"
          ]
        }
      ]
    },
    {
      "cell_type": "code",
      "source": [
        "# 정말로 값의 삽입, 삭제 변경을 지원하지 않는지 확인\n",
        "\n",
        "#튜플 .append(\"두리안\") ,안되는 것 확인\n",
        "#print(튜플)\n",
        "#del 튜플[2], 지원 안됨\n",
        "#튜플[1] ='너만 믿는다' , 지원 안됨\n",
        "#그럼 어디다 쓰는가?\n"
      ],
      "metadata": {
        "colab": {
          "base_uri": "https://localhost:8080/",
          "height": 233
        },
        "id": "pTxYM6xCAMeh",
        "outputId": "a9a29421-5db2-451b-e78f-c307a5d8a191"
      },
      "execution_count": null,
      "outputs": [
        {
          "output_type": "error",
          "ename": "TypeError",
          "evalue": "ignored",
          "traceback": [
            "\u001b[0;31m---------------------------------------------------------------------------\u001b[0m",
            "\u001b[0;31mTypeError\u001b[0m                                 Traceback (most recent call last)",
            "\u001b[0;32m<ipython-input-14-eee443fa80c5>\u001b[0m in \u001b[0;36m<cell line: 6>\u001b[0;34m()\u001b[0m\n\u001b[1;32m      4\u001b[0m \u001b[0;31m#print(튜플)\u001b[0m\u001b[0;34m\u001b[0m\u001b[0;34m\u001b[0m\u001b[0m\n\u001b[1;32m      5\u001b[0m \u001b[0;31m#del 튜플[2], 지원 안됨\u001b[0m\u001b[0;34m\u001b[0m\u001b[0;34m\u001b[0m\u001b[0m\n\u001b[0;32m----> 6\u001b[0;31m \u001b[0m튜플\u001b[0m\u001b[0;34m[\u001b[0m\u001b[0;36m1\u001b[0m\u001b[0;34m]\u001b[0m \u001b[0;34m=\u001b[0m\u001b[0;34m'너만 믿는다'\u001b[0m\u001b[0;34m\u001b[0m\u001b[0;34m\u001b[0m\u001b[0m\n\u001b[0m\u001b[1;32m      7\u001b[0m \u001b[0m튜플\u001b[0m\u001b[0;34m\u001b[0m\u001b[0;34m\u001b[0m\u001b[0m\n",
            "\u001b[0;31mTypeError\u001b[0m: 'tuple' object does not support item assignment"
          ]
        }
      ]
    },
    {
      "cell_type": "code",
      "source": [
        "#번외\n",
        "\n",
        "수강생 = '중꺾그마'\n",
        "\n",
        "수강생_list = list(수강생)\n",
        "수강생_tuple = tuple(수강생)\n",
        "\n",
        "print(수강생_list)\n",
        "print(수강생_tuple)\n",
        "\n",
        "수강생_list[1] = \"뿌\"\n",
        "print(수강생_list) #중요한 건 뿌러져도 하는 마음 ㅎ\n",
        "\n",
        "#join함수 공부 알고 있으면 코테에 좋아요\n",
        "취뽀_수강생 = \"\".join(수강생_list) #하나로 합쳐서 나옴 join함수도 잘 알아두면 좋음.\n",
        "print(취뽀_수강생)\n",
        "\n",
        "#파이썬 \"클린코드 책\" + 하루 코테 3문제 씩 풀기 해서 스터디 만들어도 좋음"
      ],
      "metadata": {
        "colab": {
          "base_uri": "https://localhost:8080/"
        },
        "id": "_rtroB_V_0J-",
        "outputId": "4c1dd0d2-7753-455b-b014-b17ba22cc675"
      },
      "execution_count": null,
      "outputs": [
        {
          "output_type": "stream",
          "name": "stdout",
          "text": [
            "['중', '꺾', '그', '마']\n",
            "('중', '꺾', '그', '마')\n",
            "['중', '뿌', '그', '마']\n",
            "중뿌그마\n"
          ]
        }
      ]
    },
    {
      "cell_type": "code",
      "source": [
        "#공통점 뭔가요?\n",
        "print(튜플)\n",
        "#길이를 구할 수 있어요\n",
        "len(튜플)\n",
        "#곱하기 연산으로 요소를 복사 할 수 있어요\n",
        "튜플 * 3\n",
        "#튜플은 요소들끼리 더 할 수 있다\n",
        "튜플 + 튜플\n",
        "#튜플은 인덱싱이 가능하다\n",
        "튜플[2]\n",
        "#튜플의 인덱스\n",
        "튜플.index(3.0)\n",
        "#튜플 요소의 개수\n",
        "튜플.count(1)\n",
        "#튜플은 슬라이싱이 가능하다\n",
        "튜플[1:3]"
      ],
      "metadata": {
        "colab": {
          "base_uri": "https://localhost:8080/"
        },
        "id": "F30UcKg0DXG6",
        "outputId": "edbb8fbd-febb-45b7-ea01-46304c6effbc"
      },
      "execution_count": null,
      "outputs": [
        {
          "output_type": "stream",
          "name": "stdout",
          "text": [
            "(1, '이', 3.0)\n"
          ]
        },
        {
          "output_type": "execute_result",
          "data": {
            "text/plain": [
              "('이', 3.0)"
            ]
          },
          "metadata": {},
          "execution_count": 27
        }
      ]
    },
    {
      "cell_type": "markdown",
      "source": [
        "#tuple 왜 쓸까요?\n",
        "(이걸 알면 여러분을 다른 수강생들 보다 더 돋보이게 만들어 줄 수 있어요 )\n",
        "\n",
        "1. 3GO가 불가하기 때문입니다.(넣고, 삭제하고, 바꾸고)\n",
        "무슨소리GO\n",
        "  \n",
        "  여러명이 코딩을 하는 경우 변경되면 안되는 변수를 건드리는 경우 또는 값이 변경되면 안되는 중요한 데이터를 넣어서 보안적으로 관리하기 좋다\n",
        "  (은행계좌, 비밀번호 등등....)\n",
        "\n",
        "2. list 는 tuple 보다 무겁다.\n",
        "   \n",
        "    단지 기능이 많아서 무거운 걸까요?\n",
        "    파이썬은 c로 만들어졌습니다.\n",
        "\n",
        "    파이썬은 동적배열을 지원합니다.\n",
        "    -처음 list = [1,2,3,4] 생성해서 4개의 값을 모두 넣었습니다.\n",
        "    -문제는 그 다음 값을 추가할 때 이미 공간이 다 찼기 때문에 추가 할당을 진행합니다.\n",
        "    추가 할당 시 메모리 크기는 4, 8, 16, 25,... 더블링을 해줍니다.\n",
        "    -낭비되는 메모리크기가 생길 수 있음, 동적과 정적 배열에 대해서 공부하기\n",
        "\n",
        "3. 리스트는 가변, 튜플은 불변이다.\n",
        "\n",
        "   값이 고정되어 있어야 하거나 크기가 작을 경우 튜플을 권장한다.\n",
        "\n"
      ],
      "metadata": {
        "id": "fhP3gsjeEZ47"
      }
    },
    {
      "cell_type": "markdown",
      "source": [
        "* 가변객체와, 불변객체 (우리 이미 다 써봄... 공부하다가 놀랄 수 있어요)\n",
        "* 파이썬 리스트의 동적배열\n",
        "* 이왕 이렇게 된거 자료구조 책은 한번 사보는 것도 추천합니다. (파이썬 클린코드)\n",
        "\n",
        "-모두 공부해보기\n"
      ],
      "metadata": {
        "id": "xpLW8pp5H_JW"
      }
    },
    {
      "cell_type": "code",
      "source": [],
      "metadata": {
        "id": "_Kno3Ie0DlEd"
      },
      "execution_count": null,
      "outputs": []
    }
  ]
}