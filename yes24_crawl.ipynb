{
 "cells": [
  {
   "cell_type": "markdown",
   "metadata": {},
   "source": [
    "###  예스 24 크롤링"
   ]
  },
  {
   "cell_type": "code",
   "execution_count": 1,
   "metadata": {},
   "outputs": [
    {
     "data": {
      "text/plain": [
       "'/Users/hu_un00/.wdm/drivers/chromedriver/mac64/121.0.6167.85/chromedriver-mac-x64/chromedriver'"
      ]
     },
     "execution_count": 1,
     "metadata": {},
     "output_type": "execute_result"
    }
   ],
   "source": [
    "# webdriver-manager 라이브러리 불러오기\n",
    "from webdriver_manager.chrome import ChromeDriverManager\n",
    "ChromeDriverManager().install()"
   ]
  },
  {
   "cell_type": "code",
   "execution_count": 2,
   "metadata": {},
   "outputs": [],
   "source": [
    "from selenium import webdriver\n",
    "browser = webdriver.Chrome()"
   ]
  },
  {
   "cell_type": "code",
   "execution_count": 3,
   "metadata": {},
   "outputs": [],
   "source": [
    "# url = 'https://google.com'\n",
    "# browser.get(url)"
   ]
  },
  {
   "cell_type": "code",
   "execution_count": 4,
   "metadata": {},
   "outputs": [],
   "source": [
    " from selenium.webdriver.common.by import By\n",
    "\n",
    "# browser.find_element(By.CLASS_NAME, 'uU7dJb').text\n",
    "# <div class=\"uU7dJb\">대한민국</div>"
   ]
  },
  {
   "cell_type": "code",
   "execution_count": 5,
   "metadata": {},
   "outputs": [],
   "source": [
    "url = 'https://www.yes24.com/Product/Category/BestSeller?categoryNumber=001&pageNumber=1&pageSize=24'\n",
    "browser.get(url)"
   ]
  },
  {
   "cell_type": "code",
   "execution_count": 6,
   "metadata": {},
   "outputs": [],
   "source": [
    "# 1페이지의 링크 데이터 전부 수집\n",
    "\n",
    "### 한 개의 베스트 셀러 링크 수집\n",
    "#browser.find_element(By.CLASS_NAME, 'gd_name').get_attribute('href')\n",
    "\n",
    "### 1페이지  전체의 링크 데이터\n",
    "#browser.find_element(By.CLASS_NAME, 'gd_name') #element: 요소\n",
    "# datas = browser.find_elements(By.CLASS_NAME, 'gd_name') #elements: 리스트\n",
    "\n",
    "# for i in datas:\n",
    "#     print(i.get_attribute('href'))\n",
    "\n",
    "\n"
   ]
  },
  {
   "cell_type": "code",
   "execution_count": 7,
   "metadata": {},
   "outputs": [
    {
     "name": "stdout",
     "output_type": "stream",
     "text": [
      "********** 현재 1 페이지 수집 중 입니다. **********\n",
      "********** 현재 2 페이지 수집 중 입니다. **********\n",
      "********** 현재 3 페이지 수집 중 입니다. **********\n",
      "['https://www.yes24.com/Product/Goods/122120495', 'https://www.yes24.com/Product/Goods/123675187', 'https://www.yes24.com/Product/Goods/117014613', 'https://www.yes24.com/Product/Goods/124043812', 'https://www.yes24.com/Product/Goods/124702623', 'https://www.yes24.com/Product/Goods/124043802', 'https://www.yes24.com/Product/Goods/122090360', 'https://www.yes24.com/Product/Goods/123400303', 'https://www.yes24.com/Product/Goods/122944685', 'https://www.yes24.com/Product/Goods/118579613', 'https://www.yes24.com/Product/Goods/124539805', 'https://www.yes24.com/Product/Goods/124110821', 'https://www.yes24.com/Product/Goods/124112599', 'https://www.yes24.com/Product/Goods/122428190', 'https://www.yes24.com/Product/Goods/118413014', 'https://www.yes24.com/Product/Goods/119458052', 'https://www.yes24.com/Product/Goods/119562091', 'https://www.yes24.com/Product/Goods/124702605', 'https://www.yes24.com/Product/Goods/124501342', 'https://www.yes24.com/Product/Goods/124849202', 'https://www.yes24.com/Product/Goods/119120517', 'https://www.yes24.com/Product/Goods/124707232', 'https://www.yes24.com/Product/Goods/79297023', 'https://www.yes24.com/Product/Goods/124574394', 'https://www.yes24.com/Product/Goods/124408170', 'https://www.yes24.com/Product/Goods/124397623', 'https://www.yes24.com/Product/Goods/123318244', 'https://www.yes24.com/Product/Goods/124472824', 'https://www.yes24.com/Product/Goods/122426425', 'https://www.yes24.com/Product/Goods/122880691', 'https://www.yes24.com/Product/Goods/123930891', 'https://www.yes24.com/Product/Goods/79208821', 'https://www.yes24.com/Product/Goods/122433629', 'https://www.yes24.com/Product/Goods/123930880', 'https://www.yes24.com/Product/Goods/124719615', 'https://www.yes24.com/Product/Goods/124347651', 'https://www.yes24.com/Product/Goods/96072143', 'https://www.yes24.com/Product/Goods/124702295', 'https://www.yes24.com/Product/Goods/118569079', 'https://www.yes24.com/Product/Goods/8759796', 'https://www.yes24.com/Product/Goods/124127709', 'https://www.yes24.com/Product/Goods/9349031', 'https://www.yes24.com/Product/Goods/124645703', 'https://www.yes24.com/Product/Goods/116467955', 'https://www.yes24.com/Product/Goods/67362730', 'https://www.yes24.com/Product/Goods/124644662', 'https://www.yes24.com/Product/Goods/90428162', 'https://www.yes24.com/Product/Goods/124717965', 'https://www.yes24.com/Product/Goods/124014108', 'https://www.yes24.com/Product/Goods/124106975', 'https://www.yes24.com/Product/Goods/114853233', 'https://www.yes24.com/Product/Goods/124807552', 'https://www.yes24.com/Product/Goods/123676271', 'https://www.yes24.com/Product/Goods/124852714', 'https://www.yes24.com/Product/Goods/124184330', 'https://www.yes24.com/Product/Goods/124733569', 'https://www.yes24.com/Product/Goods/124027690', 'https://www.yes24.com/Product/Goods/124157362', 'https://www.yes24.com/Product/Goods/124213903', 'https://www.yes24.com/Product/Goods/121911671', 'https://www.yes24.com/Product/Goods/124716172', 'https://www.yes24.com/Product/Goods/124339743', 'https://www.yes24.com/Product/Goods/91868954', 'https://www.yes24.com/Product/Goods/124219505', 'https://www.yes24.com/Product/Goods/123623040', 'https://www.yes24.com/Product/Goods/118578901', 'https://www.yes24.com/Product/Goods/120761010', 'https://www.yes24.com/Product/Goods/124315515', 'https://www.yes24.com/Product/Goods/123623043', 'https://www.yes24.com/Product/Goods/124106985', 'https://www.yes24.com/Product/Goods/124301348', 'https://www.yes24.com/Product/Goods/120785860']\n"
     ]
    }
   ],
   "source": [
    "# 3페이지 까지의 링크 데이터 전부 수집 \n",
    "#https://www.yes24.com/Product/Category/BestSeller?categoryNumber=001&pageNumber=1&pageSize=24\n",
    "#https://www.yes24.com/Product/Category/BestSeller?categoryNumber=001&pageNumber=2&pageSize=24\n",
    "#https://www.yes24.com/Product/Category/BestSeller?categoryNumber=001&pageNumber=3&pageSize=24\n",
    "\n",
    "import time \n",
    "\n",
    "link_list = []\n",
    "for i in range(1, 4):\n",
    "    print(\"*\"*10, f'현재 {i} 페이지 수집 중 입니다.',\"*\"*10)\n",
    "\n",
    "    url = f'https://www.yes24.com/Product/Category/BestSeller?categoryNumber=001&pageNumber={i}&pageSize=24'\n",
    "    browser.get(url)\n",
    "\n",
    "    browser.find_element(By.CLASS_NAME, 'gd_name').get_attribute('href')\n",
    "\n",
    "    ### 1페이지  전체의 링크 데이터\n",
    "    #browser.find_element(By.CLASS_NAME, 'gd_name') #element: 요소\n",
    "    datas = browser.find_elements(By.CLASS_NAME, 'gd_name') #elements: 리스트\n",
    "\n",
    "    for i in datas:\n",
    "        link = i.get_attribute('href')\n",
    "        link_list.append(link)\n",
    "    \n",
    "    time.sleep(3)\n",
    "\n",
    "print(link_list)"
   ]
  },
  {
   "cell_type": "code",
   "execution_count": 8,
   "metadata": {},
   "outputs": [
    {
     "data": {
      "text/plain": [
       "72"
      ]
     },
     "execution_count": 8,
     "metadata": {},
     "output_type": "execute_result"
    }
   ],
   "source": [
    "len(link_list) # 24 * 3"
   ]
  },
  {
   "cell_type": "code",
   "execution_count": 9,
   "metadata": {},
   "outputs": [],
   "source": [
    "\n",
    "# for link in link_list:\n",
    "#     # 상세 페이지로 이동\n",
    "#     browser.get(link)\n",
    "\n",
    "\n",
    "browser.get(link_list[0])\n",
    "\n",
    "title = browser.find_element(By.CLASS_NAME, 'gd_name').text\n",
    "author = browser.find_element(By.CLASS_NAME, 'gd_auth').text\n",
    "publisher = browser.find_element(By.CLASS_NAME, 'gd_pub').text\n",
    "publishing = browser.find_element(By.CLASS_NAME, 'gd_date').text\n",
    "rating = browser.find_element(By.CLASS_NAME, 'yes_b').text\n",
    "review = browser.find_element(By.CLASS_NAME, 'txC_blue').text\n",
    "sales = browser.find_element(By.CLASS_NAME, 'gd_sellNum').text.split(\" \")[2]\n",
    "price = browser.find_element(By.CLASS_NAME, 'nor_price').text[:-1]\n",
    "ranking = browser.find_element(By.CLASS_NAME, 'gd_best.gd_best_tp02').text.split(\" \")[2][0]\n",
    "ranking_weeks = browser.find_element(By.CLASS_NAME, 'gd_best.gd_best_tp02').text.split(\" \")[6][0]\n"
   ]
  },
  {
   "cell_type": "code",
   "execution_count": 10,
   "metadata": {},
   "outputs": [
    {
     "data": {
      "text/plain": [
       "['베스트', '국내도서', '1위', '|', '국내도서', '1위', '9주']"
      ]
     },
     "execution_count": 10,
     "metadata": {},
     "output_type": "execute_result"
    }
   ],
   "source": [
    "text = '베스트 국내도서 1위 | 국내도서 1위 9주'\n",
    "text.split(\" \")"
   ]
  },
  {
   "cell_type": "code",
   "execution_count": 21,
   "metadata": {},
   "outputs": [],
   "source": [
    "# 데이터 베이스 연동 후 -> 수집한 데이터를 DB에 저장 (csv)\n",
    "import pymysql # pip install pymysql\n",
    "import time\n",
    "import re\n",
    "from datetime import datetime\n",
    "\n",
    "conn = pymysql.connect(\n",
    "    host='localhost',\n",
    "    user='root',\n",
    "    password='yung00420',\n",
    "    db='yes24',\n",
    "    charset='utf8mb4',\n",
    "    cursorclass=pymysql.cursors.DictCursor\n",
    ")\n",
    "\n",
    "with conn.cursor() as cur:\n",
    "\n",
    "    for link in link_list:\n",
    "        browser.get(link)\n",
    "\n",
    "        title = browser.find_element(By.CLASS_NAME, 'gd_name').text\n",
    "        author = browser.find_element(By.CLASS_NAME, 'gd_auth').text\n",
    "        publisher = browser.find_element(By.CLASS_NAME, 'gd_pub').text\n",
    "\n",
    "        # 2023년 12월 25일 -> 2023-12-25\n",
    "        publishing = browser.find_element(By.CLASS_NAME, 'gd_date').text\n",
    "\n",
    "        match = re.search(r'(\\d+)년 (\\d+)월 (\\d+)일',publishing)\n",
    "\n",
    "        if match:\n",
    "            year,month,day = match.groups()\n",
    "            data_obj = datetime(int(year),int(month),int(day))\n",
    "            publishing = data_obj.strftime(\"%Y-%m-%d\")\n",
    "        else:\n",
    "            publishing = \"2023-01-01\"\n",
    "\n",
    "\n",
    "        rating = browser.find_element(By.CLASS_NAME, 'yes_b').text\n",
    "        review = browser.find_element(By.CLASS_NAME, 'gd_reviewCount').text\n",
    "        #rating = rating.replace(\",\",\"\")\n",
    "        if len(review) == 15 : # '첫번째 리뷰어가 되어주세요.' 글자수\n",
    "            rating = 0 \n",
    "        # if rating == '' :\n",
    "        #     rating = 0\n",
    "            \n",
    "\n",
    "        review = browser.find_element(By.CLASS_NAME, 'gd_reviewCount').text\n",
    "        if len(review) == 15 : # '첫번째 리뷰어가 되어주세요.' 글자수\n",
    "            review = 0 \n",
    "        else :\n",
    "            review = browser.find_element(By.CLASS_NAME, 'txC_blue').text\n",
    "            review = int(review.replace(\",\",\"\"))\n",
    "\n",
    "        sales = browser.find_element(By.CLASS_NAME, 'gd_sellNum').text.split(\" \")[2]\n",
    "        sales = int(sales.replace(\",\",\"\"))\n",
    "        # if sales == '':\n",
    "        #     sales = browser.find_element(By.CLASS_NAME, 'nor_price').text\n",
    "        #     sales = int(sales.replace(\",\",\"\"))\n",
    "\n",
    "        price = browser.find_element(By.CLASS_NAME, 'nor_price').text[:-1]\n",
    "        price = int(price.replace(\",\",\"\"))\n",
    "\n",
    "        full_text = browser.find_element(By.CLASS_NAME, 'gd_best').text\n",
    "\n",
    "        #print('full_text :' , full_text) #베스트만 들어옴\n",
    "        parts = full_text.split(\"|\")\n",
    "\n",
    "        if len(parts) == 1:\n",
    "            ranking = 0\n",
    "            ranking_weeks = 0\n",
    "        else:\n",
    "            try:\n",
    "                ranking_part = parts[0]\n",
    "                ranking = ''.join(filter(str.isdigit, ranking_part)) #숫자만 추출\n",
    "            except:\n",
    "                ranking = 0\n",
    "\n",
    "            try:\n",
    "                ranking_weeks_part = parts[1]\n",
    "                ranking_weeks = ''.join(filter(str.isdigit, ranking_weeks_part.split()[-1]))\n",
    "            except:\n",
    "                ranking_weeks = 0\n",
    "            \n",
    "        # ranking = browser.find_element(By.CLASS_NAME, 'gd_best.gd_best_tp02').text.split(\" \")[2][0]\n",
    "        # ranking_weeks = browser.find_element(By.CLASS_NAME, 'gd_best.gd_best_tp02').text.split(\" \")[6][0]\n",
    "\n",
    "\n",
    "\n",
    "        sql = \"\"\"INSERT INTO Books(\n",
    "            title, author, publisher, publishing, rating, review, sales, price, ranking, ranking_weeks\n",
    "            )\n",
    "            VALUES(\n",
    "            %s, %s, %s, %s, %s, %s, %s, %s, %s, %s\n",
    "            )\n",
    "            \"\"\"\n",
    "\n",
    "        cur.execute(sql, (title, author, publisher, publishing, rating, review, sales, price, ranking, ranking_weeks ))\n",
    "        conn.commit()\n",
    "\n",
    "        time.sleep(2)\n"
   ]
  },
  {
   "cell_type": "code",
   "execution_count": 12,
   "metadata": {},
   "outputs": [
    {
     "data": {
      "text/plain": [
       "('좋은 일이 오려고 그러나 보다 (리커버판)',\n",
       " '박여름 저',\n",
       " '히읏',\n",
       " '2023년 07월 26일',\n",
       " '9.5',\n",
       " '50',\n",
       " '165,591',\n",
       " '15,120',\n",
       " '7',\n",
       " '2')"
      ]
     },
     "execution_count": 12,
     "metadata": {},
     "output_type": "execute_result"
    }
   ],
   "source": [
    "# 상세 페이지 이동 후 데이터 크롤링\n",
    "\n",
    "title = browser.find_element(By.CLASS_NAME, 'gd_name').text\n",
    "author = browser.find_element(By.CLASS_NAME, 'gd_auth').text\n",
    "publisher = browser.find_element(By.CLASS_NAME, 'gd_pub').text\n",
    "publishing = browser.find_element(By.CLASS_NAME, 'gd_date').text\n",
    "rating = browser.find_element(By.CLASS_NAME, 'yes_b').text\n",
    "review = browser.find_element(By.CLASS_NAME, 'txC_blue').text\n",
    "sales = browser.find_element(By.CLASS_NAME, 'gd_sellNum').text.split(\" \")[2]\n",
    "price = browser.find_element(By.CLASS_NAME, 'nor_price').text[:-1]\n",
    "ranking = browser.find_element(By.CLASS_NAME, 'gd_best.gd_best_tp02').text.split(\" \")[2][0]\n",
    "ranking_weeks = browser.find_element(By.CLASS_NAME, 'gd_best.gd_best_tp02').text.split(\" \")[6][0]\n",
    "\n",
    "title, author, publisher, publishing, rating, review, sales, price, ranking, ranking_weeks"
   ]
  }
 ],
 "metadata": {
  "kernelspec": {
   "display_name": ".venv",
   "language": "python",
   "name": "python3"
  },
  "language_info": {
   "codemirror_mode": {
    "name": "ipython",
    "version": 3
   },
   "file_extension": ".py",
   "mimetype": "text/x-python",
   "name": "python",
   "nbconvert_exporter": "python",
   "pygments_lexer": "ipython3",
   "version": "3.12.1"
  }
 },
 "nbformat": 4,
 "nbformat_minor": 2
}
